{
 "cells": [
  {
   "cell_type": "code",
   "execution_count": 16,
   "id": "8bd3c05e",
   "metadata": {},
   "outputs": [
    {
     "data": {
      "text/plain": [
       "array([56, 57, 41, 65, 93, 98, 11, 17, 41,  5, 78,  4, 80, 79, 95, 96, 66,\n",
       "       33, 68, 25, 40, 66, 26, 53, 72], dtype=int32)"
      ]
     },
     "execution_count": 16,
     "metadata": {},
     "output_type": "execute_result"
    }
   ],
   "source": [
    "import numpy as np\n",
    "import random\n",
    "a=np.random.randint(1,100,25)\n",
    "a"
   ]
  },
  {
   "cell_type": "code",
   "execution_count": 17,
   "id": "6b20a665",
   "metadata": {},
   "outputs": [
    {
     "data": {
      "text/plain": [
       "array([ 4,  5, 11, 17, 25, 26, 33, 40, 41, 41, 53, 56, 57, 65, 66, 66, 68,\n",
       "       72, 78, 79, 80, 93, 95, 96, 98], dtype=int32)"
      ]
     },
     "execution_count": 17,
     "metadata": {},
     "output_type": "execute_result"
    }
   ],
   "source": [
    "#sort\n",
    "np.sort(a)"
   ]
  },
  {
   "cell_type": "code",
   "execution_count": 3,
   "id": "287b8ae8",
   "metadata": {},
   "outputs": [
    {
     "data": {
      "text/plain": [
       "array([92, 91, 90, 89, 87, 86, 86, 77, 69, 61, 52, 46, 45, 43, 37, 34, 34,\n",
       "       34, 20, 16, 15, 14, 12,  5,  2], dtype=int32)"
      ]
     },
     "execution_count": 3,
     "metadata": {},
     "output_type": "execute_result"
    }
   ],
   "source": [
    "np.sort(a)[::-1]"
   ]
  },
  {
   "cell_type": "code",
   "execution_count": 18,
   "id": "6ea61ba1",
   "metadata": {},
   "outputs": [
    {
     "data": {
      "text/plain": [
       "array([[25, 80, 61, 83],\n",
       "       [98, 27, 30, 95],\n",
       "       [49, 87, 52, 17],\n",
       "       [ 2, 87, 18, 41],\n",
       "       [84, 61, 44, 88],\n",
       "       [20, 80, 21, 20]], dtype=int32)"
      ]
     },
     "execution_count": 18,
     "metadata": {},
     "output_type": "execute_result"
    }
   ],
   "source": [
    "b=np.random.randint(1,100,24).reshape(6,4)\n",
    "b"
   ]
  },
  {
   "cell_type": "code",
   "execution_count": 19,
   "id": "acdf9ea8",
   "metadata": {},
   "outputs": [
    {
     "data": {
      "text/plain": [
       "array([[ 2, 27, 18, 17],\n",
       "       [20, 61, 21, 20],\n",
       "       [25, 80, 30, 41],\n",
       "       [49, 80, 44, 83],\n",
       "       [84, 87, 52, 88],\n",
       "       [98, 87, 61, 95]], dtype=int32)"
      ]
     },
     "execution_count": 19,
     "metadata": {},
     "output_type": "execute_result"
    }
   ],
   "source": [
    "np.sort(b,axis=0)"
   ]
  },
  {
   "cell_type": "markdown",
   "id": "7fa416d4",
   "metadata": {},
   "source": [
    "Append"
   ]
  },
  {
   "cell_type": "code",
   "execution_count": 20,
   "id": "d91f2ae2",
   "metadata": {},
   "outputs": [
    {
     "data": {
      "text/plain": [
       "array([56, 57, 41, 65, 93, 98, 11, 17, 41,  5, 78,  4, 80, 79, 95, 96, 66,\n",
       "       33, 68, 25, 40, 66, 26, 53, 72], dtype=int32)"
      ]
     },
     "execution_count": 20,
     "metadata": {},
     "output_type": "execute_result"
    }
   ],
   "source": [
    "a"
   ]
  },
  {
   "cell_type": "code",
   "execution_count": 6,
   "id": "f299dcee",
   "metadata": {},
   "outputs": [
    {
     "data": {
      "text/plain": [
       "array([ 43,  15,  61,  92,  45,  91,  86,  34,  90,  77,  37,   5,  14,\n",
       "        69,  16,  34,  20,  52,   2,  89,  34,  86,  12,  46,  87, 200])"
      ]
     },
     "execution_count": 6,
     "metadata": {},
     "output_type": "execute_result"
    }
   ],
   "source": [
    "np.append(a,200)"
   ]
  },
  {
   "cell_type": "code",
   "execution_count": 11,
   "id": "76ed78de",
   "metadata": {},
   "outputs": [
    {
     "data": {
      "text/plain": [
       "array([[ 6, 60, 27, 42],\n",
       "       [72, 10, 72, 29],\n",
       "       [24, 73, 11, 69],\n",
       "       [65, 57, 35, 58],\n",
       "       [17, 53, 25, 79],\n",
       "       [24, 10, 39, 66]], dtype=int32)"
      ]
     },
     "execution_count": 11,
     "metadata": {},
     "output_type": "execute_result"
    }
   ],
   "source": [
    "b"
   ]
  },
  {
   "cell_type": "code",
   "execution_count": 21,
   "id": "23542133",
   "metadata": {},
   "outputs": [
    {
     "data": {
      "text/plain": [
       "array([[25., 80., 61., 83.,  1.],\n",
       "       [98., 27., 30., 95.,  1.],\n",
       "       [49., 87., 52., 17.,  1.],\n",
       "       [ 2., 87., 18., 41.,  1.],\n",
       "       [84., 61., 44., 88.,  1.],\n",
       "       [20., 80., 21., 20.,  1.]])"
      ]
     },
     "execution_count": 21,
     "metadata": {},
     "output_type": "execute_result"
    }
   ],
   "source": [
    "np.append(b,np.ones((6,1)),axis=1)"
   ]
  },
  {
   "cell_type": "code",
   "execution_count": 22,
   "id": "c20bcac0",
   "metadata": {},
   "outputs": [
    {
     "data": {
      "text/plain": [
       "array([[1, 1, 1],\n",
       "       [1, 1, 1],\n",
       "       [1, 1, 1]], dtype=int16)"
      ]
     },
     "execution_count": 22,
     "metadata": {},
     "output_type": "execute_result"
    }
   ],
   "source": [
    "np.ones((3,3),np.int16)"
   ]
  },
  {
   "cell_type": "markdown",
   "id": "5a92dfe3",
   "metadata": {},
   "source": [
    "concatenate"
   ]
  },
  {
   "cell_type": "code",
   "execution_count": 23,
   "id": "95fb3c48",
   "metadata": {},
   "outputs": [
    {
     "data": {
      "text/plain": [
       "array([[ 0,  1,  2],\n",
       "       [ 3,  4,  5],\n",
       "       [ 6,  7,  8],\n",
       "       [ 9, 10, 11]])"
      ]
     },
     "execution_count": 23,
     "metadata": {},
     "output_type": "execute_result"
    }
   ],
   "source": [
    "c=np.arange(6).reshape(2,3)\n",
    "d=np.arange(6,12).reshape(2,3)\n",
    "np.concatenate((c,d),axis=0)"
   ]
  },
  {
   "cell_type": "code",
   "execution_count": 23,
   "id": "68ed6668",
   "metadata": {},
   "outputs": [
    {
     "data": {
      "text/plain": [
       "array([[ 0,  1,  2,  6,  7,  8],\n",
       "       [ 3,  4,  5,  9, 10, 11]])"
      ]
     },
     "execution_count": 23,
     "metadata": {},
     "output_type": "execute_result"
    }
   ],
   "source": [
    "np.concatenate((c,d),axis=1)"
   ]
  },
  {
   "cell_type": "markdown",
   "id": "87b30f99",
   "metadata": {},
   "source": [
    "unique"
   ]
  },
  {
   "cell_type": "code",
   "execution_count": 24,
   "id": "7a1e5c6c",
   "metadata": {},
   "outputs": [],
   "source": [
    "e=np.array([1,1,1,2,2,2,3,1,6,7,8,6])"
   ]
  },
  {
   "cell_type": "code",
   "execution_count": 25,
   "id": "2dbbd56e",
   "metadata": {},
   "outputs": [
    {
     "data": {
      "text/plain": [
       "array([1, 2, 3, 6, 7, 8])"
      ]
     },
     "execution_count": 25,
     "metadata": {},
     "output_type": "execute_result"
    }
   ],
   "source": [
    "np.unique(e)"
   ]
  },
  {
   "cell_type": "markdown",
   "id": "7a53944a",
   "metadata": {},
   "source": [
    "Expand_dims"
   ]
  },
  {
   "cell_type": "code",
   "execution_count": 26,
   "id": "5a7cf0af",
   "metadata": {},
   "outputs": [
    {
     "data": {
      "text/plain": [
       "(25,)"
      ]
     },
     "execution_count": 26,
     "metadata": {},
     "output_type": "execute_result"
    }
   ],
   "source": [
    "a.shape"
   ]
  },
  {
   "cell_type": "code",
   "execution_count": 35,
   "id": "df7215d2",
   "metadata": {},
   "outputs": [
    {
     "data": {
      "text/plain": [
       "(25, 1)"
      ]
     },
     "execution_count": 35,
     "metadata": {},
     "output_type": "execute_result"
    }
   ],
   "source": [
    "np.expand_dims(a,axis=1).shape"
   ]
  },
  {
   "cell_type": "markdown",
   "id": "163e5e72",
   "metadata": {},
   "source": [
    "Where"
   ]
  },
  {
   "cell_type": "code",
   "execution_count": 41,
   "id": "6361c173",
   "metadata": {},
   "outputs": [
    {
     "data": {
      "text/plain": [
       "(array([ 0,  1,  2,  3,  4,  5,  6,  7,  9, 11, 14, 15, 16, 17, 18, 19, 20,\n",
       "        21, 22, 23, 24]),)"
      ]
     },
     "execution_count": 41,
     "metadata": {},
     "output_type": "execute_result"
    }
   ],
   "source": [
    "np.where(a>20)"
   ]
  },
  {
   "cell_type": "code",
   "execution_count": 42,
   "id": "d118f5f0",
   "metadata": {},
   "outputs": [
    {
     "data": {
      "text/plain": [
       "array([ 0,  0,  0,  0,  0,  0,  0,  0, 20,  0, 11,  0, 11, 16,  0,  0,  0,\n",
       "        0,  0,  0,  0,  0,  0,  0,  0], dtype=int32)"
      ]
     },
     "execution_count": 42,
     "metadata": {},
     "output_type": "execute_result"
    }
   ],
   "source": [
    "#replace all the vale >20 with 0\n",
    "np.where(a>20,0,a)"
   ]
  },
  {
   "cell_type": "code",
   "execution_count": 9,
   "id": "2f57d4bb",
   "metadata": {},
   "outputs": [
    {
     "data": {
      "text/plain": [
       "array([43, 15, 61,  0, 45, 91,  0,  0,  0, 77, 37,  5,  0, 69,  0,  0,  0,\n",
       "        0,  0, 89,  0,  0,  0,  0, 87], dtype=int32)"
      ]
     },
     "execution_count": 9,
     "metadata": {},
     "output_type": "execute_result"
    }
   ],
   "source": [
    "np.where(a%2==0,0,a)"
   ]
  },
  {
   "cell_type": "markdown",
   "id": "95c962ae",
   "metadata": {},
   "source": [
    "argmax"
   ]
  },
  {
   "cell_type": "markdown",
   "id": "b34daef3",
   "metadata": {},
   "source": [
    "give the maximum element"
   ]
  },
  {
   "cell_type": "code",
   "execution_count": 44,
   "id": "77fe8c3a",
   "metadata": {},
   "outputs": [
    {
     "data": {
      "text/plain": [
       "array([84, 32, 63, 30, 71, 25, 41, 47, 20, 34, 11, 70, 11, 16, 75, 72, 71,\n",
       "       36, 64, 53, 25, 72, 65, 61, 58], dtype=int32)"
      ]
     },
     "execution_count": 44,
     "metadata": {},
     "output_type": "execute_result"
    }
   ],
   "source": [
    "a"
   ]
  },
  {
   "cell_type": "code",
   "execution_count": 45,
   "id": "11a8e986",
   "metadata": {},
   "outputs": [
    {
     "data": {
      "text/plain": [
       "np.int64(0)"
      ]
     },
     "execution_count": 45,
     "metadata": {},
     "output_type": "execute_result"
    }
   ],
   "source": [
    "np.argmax(a)"
   ]
  },
  {
   "cell_type": "code",
   "execution_count": 47,
   "id": "be0f70ad",
   "metadata": {},
   "outputs": [
    {
     "data": {
      "text/plain": [
       "array([[ 6, 60, 27, 42],\n",
       "       [72, 10, 72, 29],\n",
       "       [24, 73, 11, 69],\n",
       "       [65, 57, 35, 58],\n",
       "       [17, 53, 25, 79],\n",
       "       [24, 10, 39, 66]], dtype=int32)"
      ]
     },
     "execution_count": 47,
     "metadata": {},
     "output_type": "execute_result"
    }
   ],
   "source": [
    "b"
   ]
  },
  {
   "cell_type": "code",
   "execution_count": 27,
   "id": "7bfd2ff8",
   "metadata": {},
   "outputs": [
    {
     "data": {
      "text/plain": [
       "array([3, 0, 1, 1, 3, 1])"
      ]
     },
     "execution_count": 27,
     "metadata": {},
     "output_type": "execute_result"
    }
   ],
   "source": [
    "np.argmax(b,axis=1)"
   ]
  },
  {
   "cell_type": "markdown",
   "id": "14a5920f",
   "metadata": {},
   "source": [
    "Cummulative sum"
   ]
  },
  {
   "cell_type": "code",
   "execution_count": 2,
   "id": "e5e2e04d",
   "metadata": {},
   "outputs": [
    {
     "data": {
      "text/plain": [
       "array([99, 81, 61, 21, 95, 89, 80, 31, 15, 15, 35, 80, 69,  4, 89, 35, 64,\n",
       "       55, 59,  1, 95, 62, 48, 73, 78], dtype=int32)"
      ]
     },
     "execution_count": 2,
     "metadata": {},
     "output_type": "execute_result"
    }
   ],
   "source": [
    "a"
   ]
  },
  {
   "cell_type": "code",
   "execution_count": 28,
   "id": "561d2cdc",
   "metadata": {},
   "outputs": [
    {
     "data": {
      "text/plain": [
       "array([  56,  113,  154,  219,  312,  410,  421,  438,  479,  484,  562,\n",
       "        566,  646,  725,  820,  916,  982, 1015, 1083, 1108, 1148, 1214,\n",
       "       1240, 1293, 1365])"
      ]
     },
     "execution_count": 28,
     "metadata": {},
     "output_type": "execute_result"
    }
   ],
   "source": [
    "np.cumsum(a)"
   ]
  },
  {
   "cell_type": "code",
   "execution_count": 5,
   "id": "10dfe5f3",
   "metadata": {},
   "outputs": [
    {
     "data": {
      "text/plain": [
       "array([[69, 81,  4, 25],\n",
       "       [89, 57, 35, 96],\n",
       "       [49, 49, 23, 11],\n",
       "       [46, 30,  9, 99],\n",
       "       [77, 29, 91,  8],\n",
       "       [93, 37, 82, 41]], dtype=int32)"
      ]
     },
     "execution_count": 5,
     "metadata": {},
     "output_type": "execute_result"
    }
   ],
   "source": [
    "b"
   ]
  },
  {
   "cell_type": "code",
   "execution_count": 6,
   "id": "6e75ca94",
   "metadata": {},
   "outputs": [
    {
     "data": {
      "text/plain": [
       "array([[ 69,  81,   4,  25],\n",
       "       [158, 138,  39, 121],\n",
       "       [207, 187,  62, 132],\n",
       "       [253, 217,  71, 231],\n",
       "       [330, 246, 162, 239],\n",
       "       [423, 283, 244, 280]])"
      ]
     },
     "execution_count": 6,
     "metadata": {},
     "output_type": "execute_result"
    }
   ],
   "source": [
    "np.cumsum(b,axis=0)"
   ]
  },
  {
   "cell_type": "code",
   "execution_count": 7,
   "id": "9f26f1bb",
   "metadata": {},
   "outputs": [
    {
     "data": {
      "text/plain": [
       "array([                  99,                 8019,               489159,\n",
       "                   10272339,            975872205,          86852626245,\n",
       "              6948210099600,      215394513087600,     3230917696314000,\n",
       "          48463765444710000,  1696231790564850000,  6571334729221138688,\n",
       "       -7746505526480220928,  5907466041498219520, -9191100444235459584,\n",
       "       -8093866295178707968, -1498608827569864704, -8636509221504352256,\n",
       "        6954789995110662144,  6954789995110662144, -3377737118030954496,\n",
       "       -6505516507114110976,  1329856911585050624,  4845834177160937472,\n",
       "        9040184344362090496])"
      ]
     },
     "execution_count": 7,
     "metadata": {},
     "output_type": "execute_result"
    }
   ],
   "source": [
    "np.cumprod(a)"
   ]
  },
  {
   "cell_type": "markdown",
   "id": "767bba3c",
   "metadata": {},
   "source": [
    "Percentile"
   ]
  },
  {
   "cell_type": "code",
   "execution_count": 8,
   "id": "1158612e",
   "metadata": {},
   "outputs": [
    {
     "data": {
      "text/plain": [
       "array([99, 81, 61, 21, 95, 89, 80, 31, 15, 15, 35, 80, 69,  4, 89, 35, 64,\n",
       "       55, 59,  1, 95, 62, 48, 73, 78], dtype=int32)"
      ]
     },
     "execution_count": 8,
     "metadata": {},
     "output_type": "execute_result"
    }
   ],
   "source": [
    "a"
   ]
  },
  {
   "cell_type": "code",
   "execution_count": 29,
   "id": "afa2487c",
   "metadata": {},
   "outputs": [
    {
     "data": {
      "text/plain": [
       "np.float64(98.0)"
      ]
     },
     "execution_count": 29,
     "metadata": {},
     "output_type": "execute_result"
    }
   ],
   "source": [
    "np.percentile(a,100) #it give maximum "
   ]
  },
  {
   "cell_type": "markdown",
   "id": "af13dc58",
   "metadata": {},
   "source": [
    "Histogram"
   ]
  },
  {
   "cell_type": "code",
   "execution_count": 11,
   "id": "25f4c68a",
   "metadata": {},
   "outputs": [
    {
     "data": {
      "text/plain": [
       "array([43, 15, 61, 92, 45, 91, 86, 34, 90, 77, 37,  5, 14, 69, 16, 34, 20,\n",
       "       52,  2, 89, 34, 86, 12, 46, 87], dtype=int32)"
      ]
     },
     "execution_count": 11,
     "metadata": {},
     "output_type": "execute_result"
    }
   ],
   "source": [
    "a"
   ]
  },
  {
   "cell_type": "code",
   "execution_count": 12,
   "id": "0c2b72b2",
   "metadata": {},
   "outputs": [
    {
     "data": {
      "text/plain": [
       "(array([2, 4, 1, 4, 3, 1, 2, 1, 4, 3]),\n",
       " array([  0,  10,  20,  30,  40,  50,  60,  70,  80,  90, 100]))"
      ]
     },
     "execution_count": 12,
     "metadata": {},
     "output_type": "execute_result"
    }
   ],
   "source": [
    "np.histogram(a,bins=[0,10,20,30,40,50,60,70,80,90,100])"
   ]
  },
  {
   "cell_type": "markdown",
   "id": "9c2144ab",
   "metadata": {},
   "source": [
    "corelation coefficient"
   ]
  },
  {
   "cell_type": "code",
   "execution_count": 31,
   "id": "0a6acc4f",
   "metadata": {},
   "outputs": [],
   "source": [
    "salary=np.array([2000,4000,2500,3500,6000])\n",
    "experience=np.array([1,3,2,4,2])"
   ]
  },
  {
   "cell_type": "code",
   "execution_count": 32,
   "id": "2d23c902",
   "metadata": {},
   "outputs": [
    {
     "data": {
      "text/plain": [
       "array([[1.        , 0.25344572],\n",
       "       [0.25344572, 1.        ]])"
      ]
     },
     "execution_count": 32,
     "metadata": {},
     "output_type": "execute_result"
    }
   ],
   "source": [
    "np.corrcoef(salary,experience)"
   ]
  },
  {
   "cell_type": "markdown",
   "id": "cc0a0e3e",
   "metadata": {},
   "source": [
    "Flip"
   ]
  },
  {
   "cell_type": "code",
   "execution_count": 42,
   "id": "b1e6ac5d",
   "metadata": {},
   "outputs": [
    {
     "data": {
      "text/plain": [
       "array([[56, 57, 41, 65, 93],\n",
       "       [98, 11, 17, 41,  5],\n",
       "       [78,  4, 80, 79, 95],\n",
       "       [96, 66, 33, 68, 25],\n",
       "       [40, 66, 26, 53, 72]], dtype=int32)"
      ]
     },
     "execution_count": 42,
     "metadata": {},
     "output_type": "execute_result"
    }
   ],
   "source": [
    "np.reshape(a,(5,5))"
   ]
  },
  {
   "cell_type": "code",
   "execution_count": 41,
   "id": "1f0b15ee",
   "metadata": {},
   "outputs": [
    {
     "data": {
      "text/plain": [
       "array([72, 53, 26, 66, 40, 25, 68, 33, 66, 96, 95, 79, 80,  4, 78,  5, 41,\n",
       "       17, 11, 98, 93, 65, 41, 57, 56], dtype=int32)"
      ]
     },
     "execution_count": 41,
     "metadata": {},
     "output_type": "execute_result"
    }
   ],
   "source": [
    "np.flip(a)"
   ]
  },
  {
   "cell_type": "markdown",
   "id": "5d87841c",
   "metadata": {},
   "source": [
    "Put"
   ]
  },
  {
   "cell_type": "code",
   "execution_count": 45,
   "id": "b8bdd234",
   "metadata": {},
   "outputs": [
    {
     "data": {
      "text/plain": [
       "array([100, 200,  41,  65,  93,  98,  11,  17,  41,   5,  78,   4,  80,\n",
       "        79,  95,  96,  66,  33,  68,  25,  40,  66,  26,  53,  72],\n",
       "      dtype=int32)"
      ]
     },
     "execution_count": 45,
     "metadata": {},
     "output_type": "execute_result"
    }
   ],
   "source": [
    "a"
   ]
  },
  {
   "cell_type": "code",
   "execution_count": 44,
   "id": "74e8272e",
   "metadata": {},
   "outputs": [],
   "source": [
    "np.put(a,[0,1],[100,200])"
   ]
  }
 ],
 "metadata": {
  "kernelspec": {
   "display_name": "venv (3.10.11)",
   "language": "python",
   "name": "python3"
  },
  "language_info": {
   "codemirror_mode": {
    "name": "ipython",
    "version": 3
   },
   "file_extension": ".py",
   "mimetype": "text/x-python",
   "name": "python",
   "nbconvert_exporter": "python",
   "pygments_lexer": "ipython3",
   "version": "3.10.11"
  }
 },
 "nbformat": 4,
 "nbformat_minor": 5
}

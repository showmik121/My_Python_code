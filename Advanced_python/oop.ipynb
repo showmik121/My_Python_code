{
 "cells": [
  {
   "cell_type": "code",
   "execution_count": 1,
   "id": "23a3489e",
   "metadata": {},
   "outputs": [],
   "source": [
    "class Atm:\n",
    "    #constructor\n",
    "    def __init__(self):\n",
    "        self.pin=''\n",
    "        self.balance=0\n",
    "        self.menu()\n",
    "    def menu(self):\n",
    "        user_input = input(\"\"\"\n",
    "            hi, how can i help you?\n",
    "            1.press 1 to create pin\n",
    "            2.press 2 to change pin\n",
    "            3.press 3 to check balance\n",
    "            4.press 4 to withdraw \n",
    "            5.Anything else to exit\n",
    "              \"\"\")\n",
    "        if user_input=='1':\n",
    "            #create pin\n",
    "            self.create_pin()\n",
    "        elif user_input=='2':\n",
    "            #change pin\n",
    "            self.change_pin()\n",
    "        elif user_input=='3':\n",
    "            #check balance\n",
    "            self.check_balance()\n",
    "        elif user_input=='4':\n",
    "            #withdraw \n",
    "            self.withdraw()\n",
    "        else:\n",
    "            exit()\n",
    "    \n",
    "    def create_pin(self):\n",
    "        user_pin=input('enter your pin')\n",
    "        self.pin=user_pin\n",
    "        user_balance=int(input('enter balance'))\n",
    "        self.balance=user_balance\n",
    "        print(\"Pin created successfully\")\n",
    "        self.menu()\n",
    "    \n",
    "    def change_pin(self):\n",
    "        user_pin=input('enter old pin')\n",
    "        if self.pin==user_pin:\n",
    "            #let him change pin\n",
    "            new_pin=input('enter new pin')\n",
    "            self.pin=new_pin\n",
    "            self.menu()\n",
    "        else:\n",
    "            print('Enter valid pin')\n",
    "            self.menu()\n",
    "    def check_balance(self):\n",
    "        user_pin=input('enter pin')\n",
    "        if user_pin==self.pin:\n",
    "            print('your balance is ',self.balance)\n",
    "            self.menu()\n",
    "        else:\n",
    "            print('wrong pin')\n",
    "            self.menu()\n",
    "        \n",
    "    def withdraw(self):\n",
    "        user_pin=input('enter pin')\n",
    "        if self.pin==user_pin:\n",
    "            amount=int(input('enter amount'))\n",
    "            if amount > 0 and amount<=self.balance:\n",
    "                self.balance-=amount\n",
    "                print(\"with draw \",amount)\n",
    "                print('your new balanve ',self.balance)\n",
    "                self.menu()\n",
    "            else:\n",
    "                print('insufficient balance')\n",
    "                self.menu()\n",
    "        else:\n",
    "            print('enter valid pin')\n",
    "            self.menu()"
   ]
  },
  {
   "cell_type": "code",
   "execution_count": null,
   "id": "67eef078",
   "metadata": {},
   "outputs": [],
   "source": [
    "obj=Atm()"
   ]
  },
  {
   "cell_type": "markdown",
   "id": "b0fad2cd",
   "metadata": {},
   "source": [
    "Magic mathod\n"
   ]
  },
  {
   "cell_type": "code",
   "execution_count": 21,
   "id": "0c7dce69",
   "metadata": {},
   "outputs": [],
   "source": [
    "class Fraction:\n",
    "    #parametarized constructor\n",
    "    def __init__(self,x,y):\n",
    "        self.num=x\n",
    "        self.den=y\n",
    "    def __str__(self):\n",
    "        return '{}/{}'.format(self.num,self.den)\n",
    "    def __add__(self,other):\n",
    "        new_num=self.num*other.den + other.num*self.den\n",
    "        new_den=self.den*other.den\n",
    "        return '{}/{}'.format(new_num,new_den)\n",
    "    def __sub__(self,other):\n",
    "        new_num=self.num*other.den - other.num*self.den\n",
    "        new_den=self.den*other.den\n",
    "        return '{}/{}'.format(new_num,new_den)"
   ]
  },
  {
   "cell_type": "code",
   "execution_count": 22,
   "id": "bf7a78f9",
   "metadata": {},
   "outputs": [
    {
     "name": "stdout",
     "output_type": "stream",
     "text": [
      "3/4\n",
      "10/8\n",
      "2/8\n"
     ]
    }
   ],
   "source": [
    "fr=Fraction(3,4)\n",
    "fr2=Fraction(1,2)\n",
    "print(fr)\n",
    "print(fr+fr2)\n",
    "print(fr-fr2)"
   ]
  },
  {
   "cell_type": "markdown",
   "id": "2deea04d",
   "metadata": {},
   "source": [
    "oop demo- create and view 2D cordinate"
   ]
  },
  {
   "cell_type": "code",
   "execution_count": 36,
   "id": "9c3fde04",
   "metadata": {},
   "outputs": [],
   "source": [
    "class Point:\n",
    "    def __init__(self,x,y):\n",
    "        self.x=x\n",
    "        self.y=y\n",
    "    def __str__(self):\n",
    "        return '<{},{}>'.format(self.x,self.y)\n",
    "    \n",
    "    def euclidean_distance(self,other):\n",
    "        #root(x2-x1)^2+(y2-y1)^2\n",
    "        return ((self.x-other.x)**2+(self.y-other.y)**2)**0.5\n",
    "     \n",
    "    def distance_from_origin(self):\n",
    "          return self.euclidean_distance(Point(0,0))\n",
    "      \n",
    "class Line:\n",
    "    def __init__(self,A,B,C):\n",
    "        self.A=A\n",
    "        self.B=B\n",
    "        self.C=C\n",
    "    \n",
    "    def __str__(self):\n",
    "        return '{}x+{}y+{}=0'.format(self.A,self.B,self.C)\n",
    "    \n",
    "    def point_on_line(line,point):\n",
    "        if line.A*point.x+line.B*point.y+line.C==0:\n",
    "            return \"lies on the line\"\n",
    "        else:\n",
    "            return \"does not lie on the line\""
   ]
  },
  {
   "cell_type": "code",
   "execution_count": 37,
   "id": "71cd1aa2",
   "metadata": {},
   "outputs": [
    {
     "data": {
      "text/plain": [
       "3.605551275463989"
      ]
     },
     "execution_count": 37,
     "metadata": {},
     "output_type": "execute_result"
    }
   ],
   "source": [
    "p1=Point(2,3)\n",
    "p2=Point(3,2)\n",
    "p1.euclidean_distance(p2)\n",
    "p1.distance_from_origin()\n",
    "# print(p1)\n",
    "# print(p2) "
   ]
  },
  {
   "cell_type": "code",
   "execution_count": 39,
   "id": "ce834bb7",
   "metadata": {},
   "outputs": [
    {
     "name": "stdout",
     "output_type": "stream",
     "text": [
      "1x+1y+2=0\n"
     ]
    },
    {
     "data": {
      "text/plain": [
       "'does not lie on the line'"
      ]
     },
     "execution_count": 39,
     "metadata": {},
     "output_type": "execute_result"
    }
   ],
   "source": [
    "L1=Line(1,1,2)\n",
    "p3=Point(1,1)\n",
    "print(L1)\n",
    "L1.point_on_line(p3)"
   ]
  },
  {
   "cell_type": "markdown",
   "id": "d1e04d04",
   "metadata": {},
   "source": [
    "Reference variable\n",
    "reference varaible store the address of object"
   ]
  },
  {
   "cell_type": "markdown",
   "id": "30d3c89e",
   "metadata": {},
   "source": [
    "pass by referce->\n",
    "technically when ever we pass object to a function we actuall pass by reference of this object."
   ]
  },
  {
   "cell_type": "code",
   "execution_count": null,
   "id": "091d5e10",
   "metadata": {},
   "outputs": [
    {
     "name": "stdout",
     "output_type": "stream",
     "text": [
      "Hi my name is  showmik and I am a  male\n",
      "ali\n"
     ]
    }
   ],
   "source": [
    "class Person:\n",
    "    def __init__(self,name,gender):\n",
    "        self.name=name\n",
    "        self.gender=gender\n",
    "    \n",
    "#outside the class \n",
    "def greet(person): \n",
    "    print('Hi my name is ',person.name,'and I am a ',person.gender)\n",
    "    p1=Person(\"ali\",\"male\")\n",
    "    return p1\n",
    "p=Person(\"showmik\",\"male\")\n",
    "x=greet(p)  \n",
    "print(x.name)"
   ]
  },
  {
   "cell_type": "markdown",
   "id": "ac33bd56",
   "metadata": {},
   "source": [
    "Encapsulation"
   ]
  },
  {
   "cell_type": "markdown",
   "id": "8902796d",
   "metadata": {},
   "source": [
    "intance variable is a type of variable which value different for different object"
   ]
  },
  {
   "cell_type": "code",
   "execution_count": 27,
   "id": "dc23d480",
   "metadata": {},
   "outputs": [],
   "source": [
    "class Atm:\n",
    "    def __init__(self):\n",
    "        self.__pin=''\n",
    "        self.__blanace=0\n",
    "    \n",
    "    def get_bal(self):\n",
    "        return self.__blanace\n",
    "    \n",
    "    def set_bal(self,new_val):\n",
    "        if type(new_val)==int:\n",
    "            self.__blanace=new_val\n",
    "        else:\n",
    "            print('go fuck yourself mc')\n",
    "    def menu(self):\n",
    "        pass"
   ]
  },
  {
   "cell_type": "code",
   "execution_count": 28,
   "id": "ba4793fd",
   "metadata": {},
   "outputs": [],
   "source": [
    "obj=Atm()\n",
    "obj.__blanace=8999"
   ]
  },
  {
   "cell_type": "markdown",
   "id": "07f08644",
   "metadata": {},
   "source": [
    "in memory it store like- _Atm__balance"
   ]
  },
  {
   "cell_type": "code",
   "execution_count": 10,
   "id": "56cc8117",
   "metadata": {},
   "outputs": [],
   "source": [
    "obj._Atm__balance='hehe'"
   ]
  },
  {
   "cell_type": "code",
   "execution_count": 29,
   "id": "afc9b6ba",
   "metadata": {},
   "outputs": [
    {
     "name": "stdout",
     "output_type": "stream",
     "text": [
      "go fuck yourself mc\n"
     ]
    },
    {
     "data": {
      "text/plain": [
       "0"
      ]
     },
     "execution_count": 29,
     "metadata": {},
     "output_type": "execute_result"
    }
   ],
   "source": [
    "obj.get_bal()\n",
    "obj.set_bal('hehe')\n",
    "obj.get_bal()"
   ]
  },
  {
   "cell_type": "markdown",
   "id": "91761d80",
   "metadata": {},
   "source": [
    "Collection of object"
   ]
  },
  {
   "cell_type": "code",
   "execution_count": 32,
   "id": "600b9f22",
   "metadata": {},
   "outputs": [
    {
     "name": "stdout",
     "output_type": "stream",
     "text": [
      "[<__main__.Person object at 0x0000020922E4A290>, <__main__.Person object at 0x0000020922CFE290>, <__main__.Person object at 0x0000020922CFECB0>]\n",
      "[<__main__.Person object at 0x0000020922E4A290>, <__main__.Person object at 0x0000020922CFE290>, <__main__.Person object at 0x0000020922CFECB0>]\n",
      "[<__main__.Person object at 0x0000020922E4A290>, <__main__.Person object at 0x0000020922CFE290>, <__main__.Person object at 0x0000020922CFECB0>]\n"
     ]
    }
   ],
   "source": [
    "# list of object\n",
    "class Person:\n",
    "    def __init__(self,name,gender):\n",
    "        self.name=name\n",
    "        self.gender=gender\n",
    "        \n",
    "p1=Person('showmik','male')\n",
    "p2=Person('boda','female')\n",
    "p3=Person('goro','male')\n",
    "\n",
    "L=[p1,p2,p3]\n",
    "# print(L)\n",
    "for i in L:\n",
    "    print(L)"
   ]
  },
  {
   "cell_type": "code",
   "execution_count": 34,
   "id": "4235d694",
   "metadata": {},
   "outputs": [
    {
     "name": "stdout",
     "output_type": "stream",
     "text": [
      "showmik\n",
      "boda\n",
      "goro\n"
     ]
    }
   ],
   "source": [
    "# list of object\n",
    "class Person:\n",
    "    def __init__(self,name,gender):\n",
    "        self.name=name\n",
    "        self.gender=gender\n",
    "        \n",
    "p1=Person('showmik','male')\n",
    "p2=Person('boda','female')\n",
    "p3=Person('goro','male')\n",
    "\n",
    "st={'p1':p1,'p2':p2,'p3':p3}\n",
    "for i in st:\n",
    "    print(st[i].name)"
   ]
  },
  {
   "cell_type": "markdown",
   "id": "7adc0392",
   "metadata": {},
   "source": [
    "static keyword"
   ]
  },
  {
   "cell_type": "code",
   "execution_count": 86,
   "id": "2fb5f61a",
   "metadata": {},
   "outputs": [],
   "source": [
    "class Atm:\n",
    "    __counter=1\n",
    "    def __init__(self):\n",
    "        self.__pin=''\n",
    "        self.__blanace=0\n",
    "        self.cid=Atm.__counter\n",
    "        Atm.__counter+=1\n",
    "    \n",
    "    def get_counter():\n",
    "        return Atm.__counter\n",
    "    \n",
    "    def get_bal(self):\n",
    "        return self.__blanace\n",
    "    \n",
    "    def set_bal(self,new_val):\n",
    "        if type(new_val)==int:\n",
    "            self.__blanace=new_val\n",
    "        else:\n",
    "            print('go fuck yourself mc')\n",
    "    def menu(self):\n",
    "        pass"
   ]
  },
  {
   "cell_type": "code",
   "execution_count": 87,
   "id": "9b56b0e8",
   "metadata": {},
   "outputs": [],
   "source": [
    "c1=Atm()\n",
    "c2=Atm()\n",
    "c3=Atm()"
   ]
  },
  {
   "cell_type": "code",
   "execution_count": 88,
   "id": "af149ea3",
   "metadata": {},
   "outputs": [
    {
     "data": {
      "text/plain": [
       "3"
      ]
     },
     "execution_count": 88,
     "metadata": {},
     "output_type": "execute_result"
    }
   ],
   "source": [
    "c3.cid"
   ]
  },
  {
   "cell_type": "code",
   "execution_count": 89,
   "id": "e103463f",
   "metadata": {},
   "outputs": [
    {
     "data": {
      "text/plain": [
       "4"
      ]
     },
     "execution_count": 89,
     "metadata": {},
     "output_type": "execute_result"
    }
   ],
   "source": [
    "Atm.get_counter()"
   ]
  },
  {
   "cell_type": "markdown",
   "id": "b9fa38b0",
   "metadata": {},
   "source": [
    "Aggegation-One class owns the other class.🔹 2. Aggregation (সমষ্টি / মালিকানা)\n",
    "👉 মানে হলো: একটি class আরেকটা class কে object আকারে নিজের ভেতরে রাখে।"
   ]
  },
  {
   "cell_type": "code",
   "execution_count": 5,
   "id": "56cbf9eb",
   "metadata": {},
   "outputs": [
    {
     "name": "stdout",
     "output_type": "stream",
     "text": [
      "gazipur 5200 dhaka\n",
      "dinajpur 1212 Rangpur\n"
     ]
    }
   ],
   "source": [
    "class Customeer:\n",
    "    def __init__(self,name,address,gender):\n",
    "        self.name=name\n",
    "        self.address=address\n",
    "        self.gender=gender\n",
    "        \n",
    "    def print_address(self):\n",
    "        print(self.address.get_city(),self.address.pin,self.address.state)\n",
    "\n",
    "    def edit_profile(self,new_name,new_city,new_pin,new_state):\n",
    "        self.name=new_name\n",
    "        self.address.edit_address(new_city,new_pin,new_state)\n",
    "\n",
    "class Address:\n",
    "    def __init__(self,city,pin,state):\n",
    "        self.__city=city\n",
    "        self.pin=pin\n",
    "        self.state=state\n",
    "    \n",
    "    def get_city(self):\n",
    "        return self.__city\n",
    "    \n",
    "    def edit_address(self,new_city,new_pin,new_state):\n",
    "        self.__city=new_city\n",
    "        self.pin=new_pin\n",
    "        self.state=new_state\n",
    "    \n",
    "add=Address('gazipur',5200,'dhaka')\n",
    "cust=Customeer('showmik',add,'male')\n",
    "\n",
    "cust.print_address()\n",
    "cust.edit_profile('abul','dinajpur',1212,'Rangpur')\n",
    "cust.print_address()\n",
    "    "
   ]
  },
  {
   "cell_type": "markdown",
   "id": "66c3314f",
   "metadata": {},
   "source": [
    "Inheritance"
   ]
  },
  {
   "cell_type": "markdown",
   "id": "49f405dd",
   "metadata": {},
   "source": [
    "যদি child class __init__ না লিখে, তাহলে parent class এর constructor auto চলে যাবে।\n",
    "যদি child class নিজস্ব __init__ লিখে, তবে parent class এর constructor আর auto কল হবে না।\n",
    "তখন যদি parent এর attribute/logic দরকার হয় → super().__init__() অবশ্যই ব্যবহার করতে হবে।"
   ]
  },
  {
   "cell_type": "code",
   "execution_count": 10,
   "id": "f8956265",
   "metadata": {},
   "outputs": [
    {
     "data": {
      "text/plain": [
       "'showmik'"
      ]
     },
     "execution_count": 10,
     "metadata": {},
     "output_type": "execute_result"
    }
   ],
   "source": [
    "class User:\n",
    "    def __init__(self):\n",
    "        self.name='showmik'\n",
    "    def login(self):\n",
    "        print('login')\n",
    "    \n",
    "class Student(User):\n",
    "    # def __init__(self):\n",
    "    #     self.rollno=100\n",
    "    \n",
    "    def enroll(self):\n",
    "        print('enroll into the course')\n",
    "\n",
    "# u=User()\n",
    "st=Student()\n",
    "st.name"
   ]
  },
  {
   "cell_type": "markdown",
   "id": "5e961c14",
   "metadata": {},
   "source": [
    "if child class have own constructor than it only call its own constructor"
   ]
  },
  {
   "cell_type": "code",
   "execution_count": 15,
   "id": "e1e78dda",
   "metadata": {},
   "outputs": [
    {
     "name": "stdout",
     "output_type": "stream",
     "text": [
      "Inside the smartphone constructor\n"
     ]
    }
   ],
   "source": [
    "class Phone:\n",
    "    def __init__(self,price,brand,camera):\n",
    "        print(\"Inside phone constructor\")\n",
    "        self.price=price\n",
    "        self.brand=brand\n",
    "        self.camera=camera\n",
    "        \n",
    "    def buy(self):\n",
    "        print(\"buying a Phone\")\n",
    "    \n",
    "class Smartphone(Phone):\n",
    "    def __init__(self, os,ram):\n",
    "        # super().__init__()\n",
    "        self.os=os\n",
    "        self.ram=ram\n",
    "        print(\"Inside the smartphone constructor\")\n",
    "\n",
    "s=Smartphone(\"balchal\",8)"
   ]
  },
  {
   "cell_type": "markdown",
   "id": "5dbecab8",
   "metadata": {},
   "source": [
    "Method overriding"
   ]
  },
  {
   "cell_type": "code",
   "execution_count": 2,
   "id": "0c96a8bc",
   "metadata": {},
   "outputs": [
    {
     "name": "stdout",
     "output_type": "stream",
     "text": [
      "Inside the phone constructor\n",
      "Buying a smartphone\n"
     ]
    }
   ],
   "source": [
    "class Phone:\n",
    "    def __init__(self,price,brand,camera):\n",
    "        print(\"Inside the phone constructor\")\n",
    "        self.__price=price\n",
    "        self.brand=brand\n",
    "        self.camera=camera\n",
    "        \n",
    "    def buy(self):\n",
    "        print(\"buying a phone\")\n",
    "\n",
    "class SmartPhone(Phone):\n",
    "    def buy(self):\n",
    "        print(\"Buying a smartphone\")\n",
    "\n",
    "s=SmartPhone(2000,\"Apple\",13)\n",
    "s.buy()"
   ]
  },
  {
   "cell_type": "markdown",
   "id": "9e786e72",
   "metadata": {},
   "source": [
    "Super Keyword"
   ]
  },
  {
   "cell_type": "code",
   "execution_count": 3,
   "id": "f29fab94",
   "metadata": {},
   "outputs": [
    {
     "name": "stdout",
     "output_type": "stream",
     "text": [
      "Inside the phone constructor\n",
      "Buying a smartphone\n",
      "buying a phone\n"
     ]
    }
   ],
   "source": [
    "class Phone:\n",
    "    def __init__(self,price,brand,camera):\n",
    "        print(\"Inside the phone constructor\")\n",
    "        self.__price=price\n",
    "        self.brand=brand\n",
    "        self.camera=camera\n",
    "        \n",
    "    def buy(self):\n",
    "        print(\"buying a phone\")\n",
    "\n",
    "class SmartPhone(Phone):\n",
    "    def buy(self):\n",
    "        print(\"Buying a smartphone\")\n",
    "        # syntax to call parent method\n",
    "        super().buy()\n",
    "\n",
    "s=SmartPhone(2000,\"Apple\",13)\n",
    "s.buy()"
   ]
  },
  {
   "cell_type": "code",
   "execution_count": 7,
   "id": "a0cda3ba",
   "metadata": {},
   "outputs": [
    {
     "name": "stdout",
     "output_type": "stream",
     "text": [
      "Inside the phone constructor\n",
      "Inside the smartphone\n",
      "Buying a smartphone\n"
     ]
    },
    {
     "data": {
      "text/plain": [
       "'Apple'"
      ]
     },
     "execution_count": 7,
     "metadata": {},
     "output_type": "execute_result"
    }
   ],
   "source": [
    "class Phone:\n",
    "    def __init__(self,price,brand,camera):\n",
    "        print(\"Inside the phone constructor\")\n",
    "        self.__price=price\n",
    "        self.brand=brand\n",
    "        self.camera=camera\n",
    "        \n",
    "    def buy(self):\n",
    "        print(\"buying a phone\")\n",
    "\n",
    "class SmartPhone(Phone):\n",
    "    def __init__(self, price, brand, camera,os,ram):\n",
    "        super().__init__(price, brand, camera)\n",
    "        self.os=os\n",
    "        self.ram=ram\n",
    "        print(\"Inside the smartphone\")\n",
    "        \n",
    "    def buy(self):\n",
    "        print(\"Buying a smartphone\")\n",
    "\n",
    "s=SmartPhone(2000,\"Apple\",13,\"android\",8)\n",
    "s.buy()\n",
    "s.os\n",
    "s.brand"
   ]
  },
  {
   "cell_type": "markdown",
   "id": "d50e3d70",
   "metadata": {},
   "source": [
    "Types of inheritance"
   ]
  },
  {
   "cell_type": "code",
   "execution_count": 8,
   "id": "a6e0272e",
   "metadata": {},
   "outputs": [
    {
     "name": "stdout",
     "output_type": "stream",
     "text": [
      "Inside the phone constructor\n",
      "Buying a phone\n",
      "customer review\n"
     ]
    }
   ],
   "source": [
    "#multiple\n",
    "class Phone:\n",
    "    def __init__(self,price,brand,camera):\n",
    "        print(\"Inside the phone constructor\")\n",
    "        self.__price=price\n",
    "        self.brand=brand\n",
    "        self.camera=camera\n",
    "    \n",
    "    def buy(self):\n",
    "        print(\"Buying a phone\")\n",
    "    \n",
    "class product:\n",
    "    def review(self):\n",
    "        print(\"customer review\")\n",
    "        \n",
    "\n",
    "class SmartPhone(Phone,product):\n",
    "    pass\n",
    "\n",
    "s=SmartPhone(2000,\"apple\",12)\n",
    "s.buy()\n",
    "s.review()"
   ]
  },
  {
   "cell_type": "markdown",
   "id": "16cebd6f",
   "metadata": {},
   "source": [
    "Polymorphism"
   ]
  },
  {
   "cell_type": "markdown",
   "id": "8147f6a5",
   "metadata": {},
   "source": [
    "in python method overloading is not allow"
   ]
  },
  {
   "cell_type": "markdown",
   "id": "9ba65d7d",
   "metadata": {},
   "source": [
    "Abstruction"
   ]
  },
  {
   "cell_type": "markdown",
   "id": "62ad80e4",
   "metadata": {},
   "source": [
    "Abstructclass- class should be inherit from ABC and there should be one abstruct method. \n",
    "abstrctmethod- is a type of method where method should empty."
   ]
  },
  {
   "cell_type": "code",
   "execution_count": 13,
   "id": "7fa94b8f",
   "metadata": {},
   "outputs": [],
   "source": [
    "from abc import ABC,abstractmethod\n",
    "class BankApp(ABC):\n",
    "    def database(self):\n",
    "        print('connected to database')\n",
    "        \n",
    "    @abstractmethod   \n",
    "    def security(self):\n",
    "        pass\n",
    "    \n",
    "    "
   ]
  },
  {
   "cell_type": "code",
   "execution_count": 14,
   "id": "54ef3f70",
   "metadata": {},
   "outputs": [],
   "source": [
    "class MobileApp(BankApp):\n",
    "    def mobile_login(self):\n",
    "        print('login into mobile')\n",
    "        \n",
    "    def security(self):\n",
    "        print('mobile secure')\n",
    "    "
   ]
  },
  {
   "cell_type": "code",
   "execution_count": 16,
   "id": "45b2fd6c",
   "metadata": {},
   "outputs": [
    {
     "name": "stdout",
     "output_type": "stream",
     "text": [
      "connected to database\n",
      "mobile secure\n"
     ]
    }
   ],
   "source": [
    "mob=MobileApp()\n",
    "mob.database()\n",
    "mob.security()"
   ]
  }
 ],
 "metadata": {
  "kernelspec": {
   "display_name": "venv (3.10.11)",
   "language": "python",
   "name": "python3"
  },
  "language_info": {
   "codemirror_mode": {
    "name": "ipython",
    "version": 3
   },
   "file_extension": ".py",
   "mimetype": "text/x-python",
   "name": "python",
   "nbconvert_exporter": "python",
   "pygments_lexer": "ipython3",
   "version": "3.10.11"
  }
 },
 "nbformat": 4,
 "nbformat_minor": 5
}

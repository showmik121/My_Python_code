{
 "cells": [
  {
   "cell_type": "code",
   "execution_count": 1,
   "id": "8ac29213",
   "metadata": {},
   "outputs": [],
   "source": [
    "import pandas as pd"
   ]
  },
  {
   "cell_type": "code",
   "execution_count": 2,
   "id": "229fd07e",
   "metadata": {},
   "outputs": [],
   "source": [
    "df = pd.read_csv(r\"E:\\panda\\datasets-session-29-20250926T152221Z-1-001\\datasets-session-29\\test.csv\")\n"
   ]
  },
  {
   "cell_type": "code",
   "execution_count": 3,
   "id": "cee7355a",
   "metadata": {},
   "outputs": [
    {
     "name": "stdout",
     "output_type": "stream",
     "text": [
      "   PassengerId  Pclass                                          Name     Sex  \\\n",
      "0          892       3                              Kelly, Mr. James    male   \n",
      "1          893       3              Wilkes, Mrs. James (Ellen Needs)  female   \n",
      "2          894       2                     Myles, Mr. Thomas Francis    male   \n",
      "3          895       3                              Wirz, Mr. Albert    male   \n",
      "4          896       3  Hirvonen, Mrs. Alexander (Helga E Lindqvist)  female   \n",
      "\n",
      "    Age  SibSp  Parch   Ticket     Fare Cabin Embarked  \n",
      "0  34.5      0      0   330911   7.8292   NaN        Q  \n",
      "1  47.0      1      0   363272   7.0000   NaN        S  \n",
      "2  62.0      0      0   240276   9.6875   NaN        Q  \n",
      "3  27.0      0      0   315154   8.6625   NaN        S  \n",
      "4  22.0      1      1  3101298  12.2875   NaN        S  \n"
     ]
    }
   ],
   "source": [
    "print(df.head())"
   ]
  },
  {
   "cell_type": "markdown",
   "id": "4a7578cf",
   "metadata": {},
   "source": [
    "Panda series"
   ]
  },
  {
   "cell_type": "code",
   "execution_count": 4,
   "id": "ae1d57dc",
   "metadata": {},
   "outputs": [],
   "source": [
    "import numpy as np"
   ]
  },
  {
   "cell_type": "code",
   "execution_count": 5,
   "id": "25d540de",
   "metadata": {},
   "outputs": [
    {
     "data": {
      "application/vnd.microsoft.datawrangler.viewer.v0+json": {
       "columns": [
        {
         "name": "index",
         "rawType": "int64",
         "type": "integer"
        },
        {
         "name": "0",
         "rawType": "object",
         "type": "string"
        }
       ],
       "ref": "bdef0cc3-9257-4987-ae2d-c9ec70b093a4",
       "rows": [
        [
         "0",
         "india"
        ],
        [
         "1",
         "bd"
        ],
        [
         "2",
         "pk"
        ],
        [
         "3",
         "usa"
        ]
       ],
       "shape": {
        "columns": 1,
        "rows": 4
       }
      },
      "text/plain": [
       "0    india\n",
       "1       bd\n",
       "2       pk\n",
       "3      usa\n",
       "dtype: object"
      ]
     },
     "execution_count": 5,
     "metadata": {},
     "output_type": "execute_result"
    }
   ],
   "source": [
    "#string\n",
    "country=['india','bd','pk','usa']\n",
    "pd.Series(country)"
   ]
  },
  {
   "cell_type": "code",
   "execution_count": 6,
   "id": "b6f5e9c4",
   "metadata": {},
   "outputs": [
    {
     "data": {
      "application/vnd.microsoft.datawrangler.viewer.v0+json": {
       "columns": [
        {
         "name": "index",
         "rawType": "int64",
         "type": "integer"
        },
        {
         "name": "0",
         "rawType": "int64",
         "type": "integer"
        }
       ],
       "ref": "b703e531-f6b2-469c-9a83-9cd5d56a38b7",
       "rows": [
        [
         "0",
         "12"
        ],
        [
         "1",
         "11"
        ],
        [
         "2",
         "13"
        ],
        [
         "3",
         "14"
        ],
        [
         "4",
         "15"
        ]
       ],
       "shape": {
        "columns": 1,
        "rows": 5
       }
      },
      "text/plain": [
       "0    12\n",
       "1    11\n",
       "2    13\n",
       "3    14\n",
       "4    15\n",
       "dtype: int64"
      ]
     },
     "execution_count": 6,
     "metadata": {},
     "output_type": "execute_result"
    }
   ],
   "source": [
    "#integer\n",
    "runs=[12,11,13,14,15]\n",
    "pd.Series(runs)"
   ]
  },
  {
   "cell_type": "code",
   "execution_count": 7,
   "id": "af976270",
   "metadata": {},
   "outputs": [
    {
     "data": {
      "application/vnd.microsoft.datawrangler.viewer.v0+json": {
       "columns": [
        {
         "name": "index",
         "rawType": "object",
         "type": "string"
        },
        {
         "name": "0",
         "rawType": "int64",
         "type": "integer"
        }
       ],
       "ref": "018531f1-af5e-480c-ac91-03e76cf71434",
       "rows": [
        [
         "bangla",
         "67"
        ],
        [
         "math",
         "33"
        ],
        [
         "english",
         "26"
        ],
        [
         "physic",
         "79"
        ]
       ],
       "shape": {
        "columns": 1,
        "rows": 4
       }
      },
      "text/plain": [
       "bangla     67\n",
       "math       33\n",
       "english    26\n",
       "physic     79\n",
       "dtype: int64"
      ]
     },
     "execution_count": 7,
     "metadata": {},
     "output_type": "execute_result"
    }
   ],
   "source": [
    "#custom index\n",
    "marks=[67,33,26,79]\n",
    "subject=['bangla','math','english','physic']\n",
    "pd.Series(marks,index=subject)"
   ]
  },
  {
   "cell_type": "code",
   "execution_count": 8,
   "id": "4c15301a",
   "metadata": {},
   "outputs": [
    {
     "data": {
      "application/vnd.microsoft.datawrangler.viewer.v0+json": {
       "columns": [
        {
         "name": "index",
         "rawType": "object",
         "type": "string"
        },
        {
         "name": "showmik",
         "rawType": "int64",
         "type": "integer"
        }
       ],
       "ref": "c5f54858-4c03-46af-8e83-d96864d750bf",
       "rows": [
        [
         "bangla",
         "67"
        ],
        [
         "math",
         "33"
        ],
        [
         "english",
         "26"
        ],
        [
         "physic",
         "79"
        ]
       ],
       "shape": {
        "columns": 1,
        "rows": 4
       }
      },
      "text/plain": [
       "bangla     67\n",
       "math       33\n",
       "english    26\n",
       "physic     79\n",
       "Name: showmik, dtype: int64"
      ]
     },
     "execution_count": 8,
     "metadata": {},
     "output_type": "execute_result"
    }
   ],
   "source": [
    "#string name\n",
    "pd.Series(marks,index=subject,name='showmik')"
   ]
  },
  {
   "cell_type": "code",
   "execution_count": 9,
   "id": "d2dac260",
   "metadata": {},
   "outputs": [
    {
     "data": {
      "application/vnd.microsoft.datawrangler.viewer.v0+json": {
       "columns": [
        {
         "name": "index",
         "rawType": "object",
         "type": "string"
        },
        {
         "name": "stupid",
         "rawType": "int64",
         "type": "integer"
        }
       ],
       "ref": "ed896f36-4158-4df3-ab98-45fee4cfe124",
       "rows": [
        [
         "maths",
         "67"
        ],
        [
         "english",
         "57"
        ],
        [
         "science",
         "89"
        ],
        [
         "hindi",
         "100"
        ]
       ],
       "shape": {
        "columns": 1,
        "rows": 4
       }
      },
      "text/plain": [
       "maths       67\n",
       "english     57\n",
       "science     89\n",
       "hindi      100\n",
       "Name: stupid, dtype: int64"
      ]
     },
     "execution_count": 9,
     "metadata": {},
     "output_type": "execute_result"
    }
   ],
   "source": [
    "#using dictonary\n",
    "marks={'maths':67,'english':57,'science':89,'hindi':100}\n",
    "mk_series=pd.Series(marks,name='stupid')\n",
    "mk_series"
   ]
  },
  {
   "cell_type": "markdown",
   "id": "a520734f",
   "metadata": {},
   "source": [
    "Series Attributes"
   ]
  },
  {
   "cell_type": "code",
   "execution_count": 10,
   "id": "b67a9e34",
   "metadata": {},
   "outputs": [
    {
     "data": {
      "text/plain": [
       "4"
      ]
     },
     "execution_count": 10,
     "metadata": {},
     "output_type": "execute_result"
    }
   ],
   "source": [
    "#size\n",
    "mk_series.size"
   ]
  },
  {
   "cell_type": "code",
   "execution_count": 11,
   "id": "5eda00c5",
   "metadata": {},
   "outputs": [
    {
     "data": {
      "text/plain": [
       "dtype('int64')"
      ]
     },
     "execution_count": 11,
     "metadata": {},
     "output_type": "execute_result"
    }
   ],
   "source": [
    "#dtype\n",
    "mk_series.dtype"
   ]
  },
  {
   "cell_type": "code",
   "execution_count": 12,
   "id": "f97f8115",
   "metadata": {},
   "outputs": [
    {
     "data": {
      "text/plain": [
       "'stupid'"
      ]
     },
     "execution_count": 12,
     "metadata": {},
     "output_type": "execute_result"
    }
   ],
   "source": [
    "#name\n",
    "mk_series.name"
   ]
  },
  {
   "cell_type": "code",
   "execution_count": 13,
   "id": "97991b5a",
   "metadata": {},
   "outputs": [
    {
     "data": {
      "text/plain": [
       "True"
      ]
     },
     "execution_count": 13,
     "metadata": {},
     "output_type": "execute_result"
    }
   ],
   "source": [
    "#is_unique\n",
    "mk_series.is_unique"
   ]
  },
  {
   "cell_type": "code",
   "execution_count": 14,
   "id": "2b8a5a93",
   "metadata": {},
   "outputs": [
    {
     "data": {
      "text/plain": [
       "Index(['maths', 'english', 'science', 'hindi'], dtype='object')"
      ]
     },
     "execution_count": 14,
     "metadata": {},
     "output_type": "execute_result"
    }
   ],
   "source": [
    "#index\n",
    "mk_series.index"
   ]
  },
  {
   "cell_type": "code",
   "execution_count": 15,
   "id": "574535b0",
   "metadata": {},
   "outputs": [
    {
     "data": {
      "text/plain": [
       "numpy.ndarray"
      ]
     },
     "execution_count": 15,
     "metadata": {},
     "output_type": "execute_result"
    }
   ],
   "source": [
    "#values\n",
    "mk_series.values\n",
    "type(mk_series.values)\n"
   ]
  },
  {
   "cell_type": "markdown",
   "id": "fb2db9fd",
   "metadata": {},
   "source": [
    "Series using read_csv"
   ]
  },
  {
   "cell_type": "code",
   "execution_count": 16,
   "id": "b57e50b9",
   "metadata": {},
   "outputs": [],
   "source": [
    "df1 = pd.read_csv(r\"E:\\panda\\datasets-session-16-20250926T175125Z-1-001\\datasets-session-16\\bollywood.csv\")\n",
    "df2 = pd.read_csv(r\"E:\\panda\\datasets-session-16-20250926T175125Z-1-001\\datasets-session-16\\kohli_ipl.csv\")\n",
    "df3 = pd.read_csv(r\"E:\\panda\\datasets-session-16-20250926T175125Z-1-001\\datasets-session-16\\subs.csv\")\n"
   ]
  },
  {
   "cell_type": "code",
   "execution_count": 17,
   "id": "634d187d",
   "metadata": {},
   "outputs": [
    {
     "data": {
      "application/vnd.microsoft.datawrangler.viewer.v0+json": {
       "columns": [
        {
         "name": "index",
         "rawType": "int64",
         "type": "integer"
        },
        {
         "name": "lead",
         "rawType": "object",
         "type": "string"
        }
       ],
       "ref": "d15b9a90-54b0-495b-8781-9ce9b652fe3b",
       "rows": [
        [
         "0",
         "Vicky Kaushal"
        ],
        [
         "1",
         "Vicky Ahuja"
        ],
        [
         "2",
         "Anupam Kher"
        ],
        [
         "3",
         "Emraan Hashmi"
        ],
        [
         "4",
         "Mona Ambegaonkar"
        ],
        [
         "5",
         "Geetika Vidya Ohlyan"
        ],
        [
         "6",
         "Arshad Warsi"
        ],
        [
         "7",
         "Radhika Apte"
        ],
        [
         "8",
         "Kangana Ranaut"
        ],
        [
         "9",
         "Nawazuddin Siddiqui"
        ],
        [
         "10",
         "Ali Asgar"
        ],
        [
         "11",
         "Ranveer Singh"
        ],
        [
         "12",
         "Prit Kamani"
        ],
        [
         "13",
         "Ajay Devgn"
        ],
        [
         "14",
         "Sushant Singh Rajput"
        ],
        [
         "15",
         "Amitabh Bachchan"
        ],
        [
         "16",
         "Abhimanyu Dasani"
        ],
        [
         "17",
         "Talha Arshad Reshi"
        ],
        [
         "18",
         "Nawazuddin Siddiqui"
        ],
        [
         "19",
         "Garima Agarwal"
        ],
        [
         "20",
         "Rasika Agashe"
        ],
        [
         "21",
         "Barun Sobti"
        ],
        [
         "22",
         "Akshay Kumar"
        ],
        [
         "23",
         "Zaheer Iqbal"
        ],
        [
         "24",
         "Vidyut Jammwal"
        ],
        [
         "25",
         "Deepika Amin"
        ],
        [
         "26",
         "Manav Kaul"
        ],
        [
         "27",
         "Naseeruddin Shah"
        ],
        [
         "28",
         "Varun Dhawan"
        ],
        [
         "29",
         "Shreyas Talpade"
        ],
        [
         "30",
         "Tiger Shroff"
        ],
        [
         "31",
         "Boman Irani"
        ],
        [
         "32",
         "Ajay Devgn"
        ],
        [
         "33",
         "Arjun Kapoor"
        ],
        [
         "34",
         "Gavie Chahal"
        ],
        [
         "35",
         "Prabhu Deva"
        ],
        [
         "36",
         "Shahid Kapoor"
        ],
        [
         "37",
         "Ayushmann Khurrana"
        ],
        [
         "38",
         "Anupam Kher"
        ],
        [
         "39",
         "Karanvir Bohra"
        ],
        [
         "40",
         "Hrithik Roshan"
        ],
        [
         "41",
         "Jimmy Sheirgill"
        ],
        [
         "42",
         "John Abraham"
        ],
        [
         "43",
         "Rishi Kapoor"
        ],
        [
         "44",
         "Kangana Ranaut"
        ],
        [
         "45",
         "Natalia Janoszek"
        ],
        [
         "46",
         "Diljit Dosanjh"
        ],
        [
         "47",
         "Sidharth Malhotra"
        ],
        [
         "48",
         "Rajeev Khandelwal"
        ],
        [
         "49",
         "Zaira Wasim"
        ]
       ],
       "shape": {
        "columns": 1,
        "rows": 1500
       }
      },
      "text/plain": [
       "0          Vicky Kaushal\n",
       "1            Vicky Ahuja\n",
       "2            Anupam Kher\n",
       "3          Emraan Hashmi\n",
       "4       Mona Ambegaonkar\n",
       "              ...       \n",
       "1495      Shah Rukh Khan\n",
       "1496    Amitabh Bachchan\n",
       "1497        Vivek Oberoi\n",
       "1498          Ajay Devgn\n",
       "1499        Akshay Kumar\n",
       "Name: lead, Length: 1500, dtype: object"
      ]
     },
     "execution_count": 17,
     "metadata": {},
     "output_type": "execute_result"
    }
   ],
   "source": [
    "series1 = df1[\"lead\"]\n",
    "series1\n"
   ]
  },
  {
   "cell_type": "code",
   "execution_count": 18,
   "id": "94fd0345",
   "metadata": {},
   "outputs": [
    {
     "name": "stdout",
     "output_type": "stream",
     "text": [
      "<class 'pandas.core.series.Series'>\n"
     ]
    },
    {
     "data": {
      "application/vnd.microsoft.datawrangler.viewer.v0+json": {
       "columns": [
        {
         "name": "movie",
         "rawType": "object",
         "type": "string"
        },
        {
         "name": "lead",
         "rawType": "object",
         "type": "string"
        }
       ],
       "ref": "39bcba8c-63e2-4627-b78d-05d19b6d81ee",
       "rows": [
        [
         "Uri: The Surgical Strike",
         "Vicky Kaushal"
        ],
        [
         "Battalion 609",
         "Vicky Ahuja"
        ],
        [
         "The Accidental Prime Minister (film)",
         "Anupam Kher"
        ],
        [
         "Why Cheat India",
         "Emraan Hashmi"
        ],
        [
         "Evening Shadows",
         "Mona Ambegaonkar"
        ],
        [
         "Soni (film)",
         "Geetika Vidya Ohlyan"
        ],
        [
         "Fraud Saiyaan",
         "Arshad Warsi"
        ],
        [
         "Bombairiya",
         "Radhika Apte"
        ],
        [
         "Manikarnika: The Queen of Jhansi",
         "Kangana Ranaut"
        ],
        [
         "Thackeray (film)",
         "Nawazuddin Siddiqui"
        ],
        [
         "Amavas",
         "Ali Asgar"
        ],
        [
         "Gully Boy",
         "Ranveer Singh"
        ],
        [
         "Hum Chaar",
         "Prit Kamani"
        ],
        [
         "Total Dhamaal",
         "Ajay Devgn"
        ],
        [
         "Sonchiriya",
         "Sushant Singh Rajput"
        ],
        [
         "Badla (2019 film)",
         "Amitabh Bachchan"
        ],
        [
         "Mard Ko Dard Nahi Hota",
         "Abhimanyu Dasani"
        ],
        [
         "Hamid (film)",
         "Talha Arshad Reshi"
        ],
        [
         "Photograph (film)",
         "Nawazuddin Siddiqui"
        ],
        [
         "Risknamaa",
         "Garima Agarwal"
        ],
        [
         "Mere Pyare Prime Minister",
         "Rasika Agashe"
        ],
        [
         "22 Yards",
         "Barun Sobti"
        ],
        [
         "Kesari (film)",
         "Akshay Kumar"
        ],
        [
         "Notebook (2019 film)",
         "Zaheer Iqbal"
        ],
        [
         "Junglee (2019 film)",
         "Vidyut Jammwal"
        ],
        [
         "Gone Kesh",
         "Deepika Amin"
        ],
        [
         "Albert Pinto Ko Gussa Kyun Aata Hai?",
         "Manav Kaul"
        ],
        [
         "The Tashkent Files",
         "Naseeruddin Shah"
        ],
        [
         "Kalank",
         "Varun Dhawan"
        ],
        [
         "Setters (film)",
         "Shreyas Talpade"
        ],
        [
         "Student of the Year 2",
         "Tiger Shroff"
        ],
        [
         "PM Narendra Modi",
         "Boman Irani"
        ],
        [
         "De De Pyaar De",
         "Ajay Devgn"
        ],
        [
         "India's Most Wanted (film)",
         "Arjun Kapoor"
        ],
        [
         "Yeh Hai India",
         "Gavie Chahal"
        ],
        [
         "Khamoshi (2019 film)",
         "Prabhu Deva"
        ],
        [
         "Kabir Singh",
         "Shahid Kapoor"
        ],
        [
         "Article 15 (film)",
         "Ayushmann Khurrana"
        ],
        [
         "One Day: Justice Delivered",
         "Anupam Kher"
        ],
        [
         "Hume Tumse Pyaar Kitna",
         "Karanvir Bohra"
        ],
        [
         "Super 30 (film)",
         "Hrithik Roshan"
        ],
        [
         "Family of Thakurganj",
         "Jimmy Sheirgill"
        ],
        [
         "Batla House",
         "John Abraham"
        ],
        [
         "Jhootha Kahin Ka",
         "Rishi Kapoor"
        ],
        [
         "Judgementall Hai Kya",
         "Kangana Ranaut"
        ],
        [
         "Chicken Curry Law",
         "Natalia Janoszek"
        ],
        [
         "Arjun Patiala",
         "Diljit Dosanjh"
        ],
        [
         "Jabariya Jodi",
         "Sidharth Malhotra"
        ],
        [
         "Pranaam",
         "Rajeev Khandelwal"
        ],
        [
         "The Sky Is Pink",
         "Zaira Wasim"
        ]
       ],
       "shape": {
        "columns": 1,
        "rows": 1500
       }
      },
      "text/plain": [
       "movie\n",
       "Uri: The Surgical Strike                   Vicky Kaushal\n",
       "Battalion 609                                Vicky Ahuja\n",
       "The Accidental Prime Minister (film)         Anupam Kher\n",
       "Why Cheat India                            Emraan Hashmi\n",
       "Evening Shadows                         Mona Ambegaonkar\n",
       "                                              ...       \n",
       "Hum Tumhare Hain Sanam                    Shah Rukh Khan\n",
       "Aankhen (2002 film)                     Amitabh Bachchan\n",
       "Saathiya (film)                             Vivek Oberoi\n",
       "Company (film)                                Ajay Devgn\n",
       "Awara Paagal Deewana                        Akshay Kumar\n",
       "Name: lead, Length: 1500, dtype: object"
      ]
     },
     "execution_count": 18,
     "metadata": {},
     "output_type": "execute_result"
    }
   ],
   "source": [
    "# Load dataframe with 'movie' as index\n",
    "df = pd.read_csv(r\"E:\\panda\\datasets-session-16-20250926T175125Z-1-001\\datasets-session-16\\bollywood.csv\",\n",
    "                 index_col='movie')\n",
    "\n",
    "# Extract the 'lead' column as a Series\n",
    "series2 = df[\"lead\"]\n",
    "\n",
    "print(type(series2))  # <class 'pandas.core.series.Series'>\n",
    "# print(series2.head()) # preview\n",
    "series2\n"
   ]
  },
  {
   "cell_type": "code",
   "execution_count": 19,
   "id": "bad94931",
   "metadata": {},
   "outputs": [
    {
     "name": "stdout",
     "output_type": "stream",
     "text": [
      "                                  movie              lead\n",
      "0              Uri: The Surgical Strike     Vicky Kaushal\n",
      "1                         Battalion 609       Vicky Ahuja\n",
      "2  The Accidental Prime Minister (film)       Anupam Kher\n",
      "3                       Why Cheat India     Emraan Hashmi\n",
      "4                       Evening Shadows  Mona Ambegaonkar\n",
      "(1500, 2)\n",
      "Index(['movie', 'lead'], dtype='object')\n"
     ]
    }
   ],
   "source": [
    "print(df1.head())   # first 5 rows\n",
    "print(df1.shape)    # rows and columns\n",
    "print(df1.columns)  # column names\n"
   ]
  },
  {
   "cell_type": "markdown",
   "id": "c95880a9",
   "metadata": {},
   "source": [
    "Series Method"
   ]
  },
  {
   "cell_type": "code",
   "execution_count": 20,
   "id": "53b0cb8f",
   "metadata": {},
   "outputs": [
    {
     "data": {
      "application/vnd.microsoft.datawrangler.viewer.v0+json": {
       "columns": [
        {
         "name": "index",
         "rawType": "int64",
         "type": "integer"
        },
        {
         "name": "movie",
         "rawType": "object",
         "type": "string"
        },
        {
         "name": "lead",
         "rawType": "object",
         "type": "string"
        }
       ],
       "ref": "a0469aa0-2dfc-4cde-910c-a927413d4ffc",
       "rows": [
        [
         "0",
         "Uri: The Surgical Strike",
         "Vicky Kaushal"
        ],
        [
         "1",
         "Battalion 609",
         "Vicky Ahuja"
        ],
        [
         "2",
         "The Accidental Prime Minister (film)",
         "Anupam Kher"
        ],
        [
         "3",
         "Why Cheat India",
         "Emraan Hashmi"
        ],
        [
         "4",
         "Evening Shadows",
         "Mona Ambegaonkar"
        ]
       ],
       "shape": {
        "columns": 2,
        "rows": 5
       }
      },
      "text/html": [
       "<div>\n",
       "<style scoped>\n",
       "    .dataframe tbody tr th:only-of-type {\n",
       "        vertical-align: middle;\n",
       "    }\n",
       "\n",
       "    .dataframe tbody tr th {\n",
       "        vertical-align: top;\n",
       "    }\n",
       "\n",
       "    .dataframe thead th {\n",
       "        text-align: right;\n",
       "    }\n",
       "</style>\n",
       "<table border=\"1\" class=\"dataframe\">\n",
       "  <thead>\n",
       "    <tr style=\"text-align: right;\">\n",
       "      <th></th>\n",
       "      <th>movie</th>\n",
       "      <th>lead</th>\n",
       "    </tr>\n",
       "  </thead>\n",
       "  <tbody>\n",
       "    <tr>\n",
       "      <th>0</th>\n",
       "      <td>Uri: The Surgical Strike</td>\n",
       "      <td>Vicky Kaushal</td>\n",
       "    </tr>\n",
       "    <tr>\n",
       "      <th>1</th>\n",
       "      <td>Battalion 609</td>\n",
       "      <td>Vicky Ahuja</td>\n",
       "    </tr>\n",
       "    <tr>\n",
       "      <th>2</th>\n",
       "      <td>The Accidental Prime Minister (film)</td>\n",
       "      <td>Anupam Kher</td>\n",
       "    </tr>\n",
       "    <tr>\n",
       "      <th>3</th>\n",
       "      <td>Why Cheat India</td>\n",
       "      <td>Emraan Hashmi</td>\n",
       "    </tr>\n",
       "    <tr>\n",
       "      <th>4</th>\n",
       "      <td>Evening Shadows</td>\n",
       "      <td>Mona Ambegaonkar</td>\n",
       "    </tr>\n",
       "  </tbody>\n",
       "</table>\n",
       "</div>"
      ],
      "text/plain": [
       "                                  movie              lead\n",
       "0              Uri: The Surgical Strike     Vicky Kaushal\n",
       "1                         Battalion 609       Vicky Ahuja\n",
       "2  The Accidental Prime Minister (film)       Anupam Kher\n",
       "3                       Why Cheat India     Emraan Hashmi\n",
       "4                       Evening Shadows  Mona Ambegaonkar"
      ]
     },
     "execution_count": 20,
     "metadata": {},
     "output_type": "execute_result"
    }
   ],
   "source": [
    "#head\n",
    "df1.head()"
   ]
  },
  {
   "cell_type": "code",
   "execution_count": 21,
   "id": "abcfc2b1",
   "metadata": {},
   "outputs": [
    {
     "data": {
      "application/vnd.microsoft.datawrangler.viewer.v0+json": {
       "columns": [
        {
         "name": "index",
         "rawType": "int64",
         "type": "integer"
        },
        {
         "name": "movie",
         "rawType": "object",
         "type": "string"
        },
        {
         "name": "lead",
         "rawType": "object",
         "type": "string"
        }
       ],
       "ref": "8fe89ee0-9b8d-41aa-ba86-479462a8d487",
       "rows": [
        [
         "0",
         "Uri: The Surgical Strike",
         "Vicky Kaushal"
        ],
        [
         "1",
         "Battalion 609",
         "Vicky Ahuja"
        ],
        [
         "2",
         "The Accidental Prime Minister (film)",
         "Anupam Kher"
        ]
       ],
       "shape": {
        "columns": 2,
        "rows": 3
       }
      },
      "text/html": [
       "<div>\n",
       "<style scoped>\n",
       "    .dataframe tbody tr th:only-of-type {\n",
       "        vertical-align: middle;\n",
       "    }\n",
       "\n",
       "    .dataframe tbody tr th {\n",
       "        vertical-align: top;\n",
       "    }\n",
       "\n",
       "    .dataframe thead th {\n",
       "        text-align: right;\n",
       "    }\n",
       "</style>\n",
       "<table border=\"1\" class=\"dataframe\">\n",
       "  <thead>\n",
       "    <tr style=\"text-align: right;\">\n",
       "      <th></th>\n",
       "      <th>movie</th>\n",
       "      <th>lead</th>\n",
       "    </tr>\n",
       "  </thead>\n",
       "  <tbody>\n",
       "    <tr>\n",
       "      <th>0</th>\n",
       "      <td>Uri: The Surgical Strike</td>\n",
       "      <td>Vicky Kaushal</td>\n",
       "    </tr>\n",
       "    <tr>\n",
       "      <th>1</th>\n",
       "      <td>Battalion 609</td>\n",
       "      <td>Vicky Ahuja</td>\n",
       "    </tr>\n",
       "    <tr>\n",
       "      <th>2</th>\n",
       "      <td>The Accidental Prime Minister (film)</td>\n",
       "      <td>Anupam Kher</td>\n",
       "    </tr>\n",
       "  </tbody>\n",
       "</table>\n",
       "</div>"
      ],
      "text/plain": [
       "                                  movie           lead\n",
       "0              Uri: The Surgical Strike  Vicky Kaushal\n",
       "1                         Battalion 609    Vicky Ahuja\n",
       "2  The Accidental Prime Minister (film)    Anupam Kher"
      ]
     },
     "execution_count": 21,
     "metadata": {},
     "output_type": "execute_result"
    }
   ],
   "source": [
    "df1.head(3)"
   ]
  },
  {
   "cell_type": "code",
   "execution_count": 22,
   "id": "6b03aa1f",
   "metadata": {},
   "outputs": [
    {
     "data": {
      "application/vnd.microsoft.datawrangler.viewer.v0+json": {
       "columns": [
        {
         "name": "index",
         "rawType": "int64",
         "type": "integer"
        },
        {
         "name": "movie",
         "rawType": "object",
         "type": "string"
        },
        {
         "name": "lead",
         "rawType": "object",
         "type": "string"
        }
       ],
       "ref": "61e29fd9-da9d-4a52-9ace-dad8d2badd4b",
       "rows": [
        [
         "1495",
         "Hum Tumhare Hain Sanam",
         "Shah Rukh Khan"
        ],
        [
         "1496",
         "Aankhen (2002 film)",
         "Amitabh Bachchan"
        ],
        [
         "1497",
         "Saathiya (film)",
         "Vivek Oberoi"
        ],
        [
         "1498",
         "Company (film)",
         "Ajay Devgn"
        ],
        [
         "1499",
         "Awara Paagal Deewana",
         "Akshay Kumar"
        ]
       ],
       "shape": {
        "columns": 2,
        "rows": 5
       }
      },
      "text/html": [
       "<div>\n",
       "<style scoped>\n",
       "    .dataframe tbody tr th:only-of-type {\n",
       "        vertical-align: middle;\n",
       "    }\n",
       "\n",
       "    .dataframe tbody tr th {\n",
       "        vertical-align: top;\n",
       "    }\n",
       "\n",
       "    .dataframe thead th {\n",
       "        text-align: right;\n",
       "    }\n",
       "</style>\n",
       "<table border=\"1\" class=\"dataframe\">\n",
       "  <thead>\n",
       "    <tr style=\"text-align: right;\">\n",
       "      <th></th>\n",
       "      <th>movie</th>\n",
       "      <th>lead</th>\n",
       "    </tr>\n",
       "  </thead>\n",
       "  <tbody>\n",
       "    <tr>\n",
       "      <th>1495</th>\n",
       "      <td>Hum Tumhare Hain Sanam</td>\n",
       "      <td>Shah Rukh Khan</td>\n",
       "    </tr>\n",
       "    <tr>\n",
       "      <th>1496</th>\n",
       "      <td>Aankhen (2002 film)</td>\n",
       "      <td>Amitabh Bachchan</td>\n",
       "    </tr>\n",
       "    <tr>\n",
       "      <th>1497</th>\n",
       "      <td>Saathiya (film)</td>\n",
       "      <td>Vivek Oberoi</td>\n",
       "    </tr>\n",
       "    <tr>\n",
       "      <th>1498</th>\n",
       "      <td>Company (film)</td>\n",
       "      <td>Ajay Devgn</td>\n",
       "    </tr>\n",
       "    <tr>\n",
       "      <th>1499</th>\n",
       "      <td>Awara Paagal Deewana</td>\n",
       "      <td>Akshay Kumar</td>\n",
       "    </tr>\n",
       "  </tbody>\n",
       "</table>\n",
       "</div>"
      ],
      "text/plain": [
       "                       movie              lead\n",
       "1495  Hum Tumhare Hain Sanam    Shah Rukh Khan\n",
       "1496     Aankhen (2002 film)  Amitabh Bachchan\n",
       "1497         Saathiya (film)      Vivek Oberoi\n",
       "1498          Company (film)        Ajay Devgn\n",
       "1499    Awara Paagal Deewana      Akshay Kumar"
      ]
     },
     "execution_count": 22,
     "metadata": {},
     "output_type": "execute_result"
    }
   ],
   "source": [
    "#tail\n",
    "df1.tail()"
   ]
  },
  {
   "cell_type": "code",
   "execution_count": 23,
   "id": "cbeaa38b",
   "metadata": {},
   "outputs": [
    {
     "data": {
      "application/vnd.microsoft.datawrangler.viewer.v0+json": {
       "columns": [
        {
         "name": "index",
         "rawType": "int64",
         "type": "integer"
        },
        {
         "name": "movie",
         "rawType": "object",
         "type": "string"
        },
        {
         "name": "lead",
         "rawType": "object",
         "type": "string"
        }
       ],
       "ref": "7355fc3d-0d3f-46b5-989d-018af9c8b4c8",
       "rows": [
        [
         "1230",
         "99.9 FM (film)",
         "Shawar Ali"
        ]
       ],
       "shape": {
        "columns": 2,
        "rows": 1
       }
      },
      "text/html": [
       "<div>\n",
       "<style scoped>\n",
       "    .dataframe tbody tr th:only-of-type {\n",
       "        vertical-align: middle;\n",
       "    }\n",
       "\n",
       "    .dataframe tbody tr th {\n",
       "        vertical-align: top;\n",
       "    }\n",
       "\n",
       "    .dataframe thead th {\n",
       "        text-align: right;\n",
       "    }\n",
       "</style>\n",
       "<table border=\"1\" class=\"dataframe\">\n",
       "  <thead>\n",
       "    <tr style=\"text-align: right;\">\n",
       "      <th></th>\n",
       "      <th>movie</th>\n",
       "      <th>lead</th>\n",
       "    </tr>\n",
       "  </thead>\n",
       "  <tbody>\n",
       "    <tr>\n",
       "      <th>1230</th>\n",
       "      <td>99.9 FM (film)</td>\n",
       "      <td>Shawar Ali</td>\n",
       "    </tr>\n",
       "  </tbody>\n",
       "</table>\n",
       "</div>"
      ],
      "text/plain": [
       "               movie        lead\n",
       "1230  99.9 FM (film)  Shawar Ali"
      ]
     },
     "execution_count": 23,
     "metadata": {},
     "output_type": "execute_result"
    }
   ],
   "source": [
    "#sample\n",
    "df1.sample()"
   ]
  },
  {
   "cell_type": "code",
   "execution_count": 24,
   "id": "ab3b35b8",
   "metadata": {},
   "outputs": [
    {
     "data": {
      "application/vnd.microsoft.datawrangler.viewer.v0+json": {
       "columns": [
        {
         "name": "index",
         "rawType": "int64",
         "type": "integer"
        },
        {
         "name": "movie",
         "rawType": "object",
         "type": "string"
        },
        {
         "name": "lead",
         "rawType": "object",
         "type": "string"
        }
       ],
       "ref": "ada3ab68-224a-4cec-bb95-e62007fc1ce1",
       "rows": [
        [
         "0",
         "Uri: The Surgical Strike",
         "Vicky Kaushal"
        ],
        [
         "1",
         "Battalion 609",
         "Vicky Ahuja"
        ],
        [
         "2",
         "The Accidental Prime Minister (film)",
         "Anupam Kher"
        ],
        [
         "3",
         "Why Cheat India",
         "Emraan Hashmi"
        ],
        [
         "4",
         "Evening Shadows",
         "Mona Ambegaonkar"
        ],
        [
         "5",
         "Soni (film)",
         "Geetika Vidya Ohlyan"
        ],
        [
         "6",
         "Fraud Saiyaan",
         "Arshad Warsi"
        ],
        [
         "7",
         "Bombairiya",
         "Radhika Apte"
        ],
        [
         "8",
         "Manikarnika: The Queen of Jhansi",
         "Kangana Ranaut"
        ],
        [
         "9",
         "Thackeray (film)",
         "Nawazuddin Siddiqui"
        ],
        [
         "10",
         "Amavas",
         "Ali Asgar"
        ],
        [
         "11",
         "Gully Boy",
         "Ranveer Singh"
        ],
        [
         "12",
         "Hum Chaar",
         "Prit Kamani"
        ],
        [
         "13",
         "Total Dhamaal",
         "Ajay Devgn"
        ],
        [
         "14",
         "Sonchiriya",
         "Sushant Singh Rajput"
        ],
        [
         "15",
         "Badla (2019 film)",
         "Amitabh Bachchan"
        ],
        [
         "16",
         "Mard Ko Dard Nahi Hota",
         "Abhimanyu Dasani"
        ],
        [
         "17",
         "Hamid (film)",
         "Talha Arshad Reshi"
        ],
        [
         "18",
         "Photograph (film)",
         "Nawazuddin Siddiqui"
        ],
        [
         "19",
         "Risknamaa",
         "Garima Agarwal"
        ],
        [
         "20",
         "Mere Pyare Prime Minister",
         "Rasika Agashe"
        ],
        [
         "21",
         "22 Yards",
         "Barun Sobti"
        ],
        [
         "22",
         "Kesari (film)",
         "Akshay Kumar"
        ],
        [
         "23",
         "Notebook (2019 film)",
         "Zaheer Iqbal"
        ],
        [
         "24",
         "Junglee (2019 film)",
         "Vidyut Jammwal"
        ],
        [
         "25",
         "Gone Kesh",
         "Deepika Amin"
        ],
        [
         "26",
         "Albert Pinto Ko Gussa Kyun Aata Hai?",
         "Manav Kaul"
        ],
        [
         "27",
         "The Tashkent Files",
         "Naseeruddin Shah"
        ],
        [
         "28",
         "Kalank",
         "Varun Dhawan"
        ],
        [
         "29",
         "Setters (film)",
         "Shreyas Talpade"
        ],
        [
         "30",
         "Student of the Year 2",
         "Tiger Shroff"
        ],
        [
         "31",
         "PM Narendra Modi",
         "Boman Irani"
        ],
        [
         "32",
         "De De Pyaar De",
         "Ajay Devgn"
        ],
        [
         "33",
         "India's Most Wanted (film)",
         "Arjun Kapoor"
        ],
        [
         "34",
         "Yeh Hai India",
         "Gavie Chahal"
        ],
        [
         "35",
         "Khamoshi (2019 film)",
         "Prabhu Deva"
        ],
        [
         "36",
         "Kabir Singh",
         "Shahid Kapoor"
        ],
        [
         "37",
         "Article 15 (film)",
         "Ayushmann Khurrana"
        ],
        [
         "38",
         "One Day: Justice Delivered",
         "Anupam Kher"
        ],
        [
         "39",
         "Hume Tumse Pyaar Kitna",
         "Karanvir Bohra"
        ],
        [
         "40",
         "Super 30 (film)",
         "Hrithik Roshan"
        ],
        [
         "41",
         "Family of Thakurganj",
         "Jimmy Sheirgill"
        ],
        [
         "42",
         "Batla House",
         "John Abraham"
        ],
        [
         "43",
         "Jhootha Kahin Ka",
         "Rishi Kapoor"
        ],
        [
         "44",
         "Judgementall Hai Kya",
         "Kangana Ranaut"
        ],
        [
         "45",
         "Chicken Curry Law",
         "Natalia Janoszek"
        ],
        [
         "46",
         "Arjun Patiala",
         "Diljit Dosanjh"
        ],
        [
         "47",
         "Jabariya Jodi",
         "Sidharth Malhotra"
        ],
        [
         "48",
         "Pranaam",
         "Rajeev Khandelwal"
        ],
        [
         "49",
         "The Sky Is Pink",
         "Zaira Wasim"
        ]
       ],
       "shape": {
        "columns": 2,
        "rows": 1500
       }
      },
      "text/html": [
       "<div>\n",
       "<style scoped>\n",
       "    .dataframe tbody tr th:only-of-type {\n",
       "        vertical-align: middle;\n",
       "    }\n",
       "\n",
       "    .dataframe tbody tr th {\n",
       "        vertical-align: top;\n",
       "    }\n",
       "\n",
       "    .dataframe thead th {\n",
       "        text-align: right;\n",
       "    }\n",
       "</style>\n",
       "<table border=\"1\" class=\"dataframe\">\n",
       "  <thead>\n",
       "    <tr style=\"text-align: right;\">\n",
       "      <th></th>\n",
       "      <th>movie</th>\n",
       "      <th>lead</th>\n",
       "    </tr>\n",
       "  </thead>\n",
       "  <tbody>\n",
       "    <tr>\n",
       "      <th>0</th>\n",
       "      <td>Uri: The Surgical Strike</td>\n",
       "      <td>Vicky Kaushal</td>\n",
       "    </tr>\n",
       "    <tr>\n",
       "      <th>1</th>\n",
       "      <td>Battalion 609</td>\n",
       "      <td>Vicky Ahuja</td>\n",
       "    </tr>\n",
       "    <tr>\n",
       "      <th>2</th>\n",
       "      <td>The Accidental Prime Minister (film)</td>\n",
       "      <td>Anupam Kher</td>\n",
       "    </tr>\n",
       "    <tr>\n",
       "      <th>3</th>\n",
       "      <td>Why Cheat India</td>\n",
       "      <td>Emraan Hashmi</td>\n",
       "    </tr>\n",
       "    <tr>\n",
       "      <th>4</th>\n",
       "      <td>Evening Shadows</td>\n",
       "      <td>Mona Ambegaonkar</td>\n",
       "    </tr>\n",
       "    <tr>\n",
       "      <th>...</th>\n",
       "      <td>...</td>\n",
       "      <td>...</td>\n",
       "    </tr>\n",
       "    <tr>\n",
       "      <th>1495</th>\n",
       "      <td>Hum Tumhare Hain Sanam</td>\n",
       "      <td>Shah Rukh Khan</td>\n",
       "    </tr>\n",
       "    <tr>\n",
       "      <th>1496</th>\n",
       "      <td>Aankhen (2002 film)</td>\n",
       "      <td>Amitabh Bachchan</td>\n",
       "    </tr>\n",
       "    <tr>\n",
       "      <th>1497</th>\n",
       "      <td>Saathiya (film)</td>\n",
       "      <td>Vivek Oberoi</td>\n",
       "    </tr>\n",
       "    <tr>\n",
       "      <th>1498</th>\n",
       "      <td>Company (film)</td>\n",
       "      <td>Ajay Devgn</td>\n",
       "    </tr>\n",
       "    <tr>\n",
       "      <th>1499</th>\n",
       "      <td>Awara Paagal Deewana</td>\n",
       "      <td>Akshay Kumar</td>\n",
       "    </tr>\n",
       "  </tbody>\n",
       "</table>\n",
       "<p>1500 rows × 2 columns</p>\n",
       "</div>"
      ],
      "text/plain": [
       "                                     movie              lead\n",
       "0                 Uri: The Surgical Strike     Vicky Kaushal\n",
       "1                            Battalion 609       Vicky Ahuja\n",
       "2     The Accidental Prime Minister (film)       Anupam Kher\n",
       "3                          Why Cheat India     Emraan Hashmi\n",
       "4                          Evening Shadows  Mona Ambegaonkar\n",
       "...                                    ...               ...\n",
       "1495                Hum Tumhare Hain Sanam    Shah Rukh Khan\n",
       "1496                   Aankhen (2002 film)  Amitabh Bachchan\n",
       "1497                       Saathiya (film)      Vivek Oberoi\n",
       "1498                        Company (film)        Ajay Devgn\n",
       "1499                  Awara Paagal Deewana      Akshay Kumar\n",
       "\n",
       "[1500 rows x 2 columns]"
      ]
     },
     "execution_count": 24,
     "metadata": {},
     "output_type": "execute_result"
    }
   ],
   "source": [
    "#value count\n",
    "df1"
   ]
  },
  {
   "cell_type": "code",
   "execution_count": 25,
   "id": "758d7623",
   "metadata": {},
   "outputs": [
    {
     "data": {
      "application/vnd.microsoft.datawrangler.viewer.v0+json": {
       "columns": [
        {
         "name": "('movie', 'lead')",
         "rawType": "object",
         "type": "unknown"
        },
        {
         "name": "count",
         "rawType": "int64",
         "type": "integer"
        }
       ],
       "ref": "d12ad4f2-434e-44e8-ab87-e3c185f5b35b",
       "rows": [
        [
         "('Gabbar Is Back', 'Akshay Kumar')",
         "2"
        ],
        [
         "('Andaaz', 'Akshay Kumar')",
         "2"
        ],
        [
         "('Tanu Weds Manu: Returns', 'Kangana Ranaut')",
         "2"
        ],
        [
         "('3G (film)', 'Neil Nitin Mukesh')",
         "1"
        ],
        [
         "('404 (film)', 'Sara Arjun')",
         "1"
        ],
        [
         "('5 Weddings', 'Nargis Fakhri')",
         "1"
        ],
        [
         "('68 Pages', 'Mouli Ganguly')",
         "1"
        ],
        [
         "('7 Hours to Go', 'Vipin Sharma')",
         "1"
        ],
        [
         "('7 Khoon Maaf', 'Priyanka Chopra')",
         "1"
        ],
        [
         "('7½ Phere', 'Juhi Chawla')",
         "1"
        ],
        [
         "('88 Antop Hill', 'Atul Kulkarni')",
         "1"
        ],
        [
         "('99 (2009 film)', 'Kunal Khemu')",
         "1"
        ],
        [
         "('99.9 FM (film)', 'Shawar Ali')",
         "1"
        ],
        [
         "('?: A Question Mark', 'Kiran Bhatia')",
         "1"
        ],
        [
         "('A Decent Arrangement', 'Shabana Azmi')",
         "1"
        ],
        [
         "('A Flat (film)', 'Jimmy Sheirgill')",
         "1"
        ],
        [
         "('Waisa Bhi Hota Hai Part II', 'Arshad Warsi')",
         "1"
        ],
        [
         "('Action Replayy', 'Akshay Kumar')",
         "1"
        ],
        [
         "('Yeh Hai India', 'Gavie Chahal')",
         "1"
        ],
        [
         "('Yadvi – The Dignified Princess', 'Prisha Aneja')",
         "1"
        ],
        [
         "('Aagey Se Right', 'Shreyas Talpade')",
         "1"
        ],
        [
         "('Zor Lagaa Ke...Haiya!', 'Meghan Jadhav')",
         "1"
        ],
        [
         "('1920 (film)', 'Rajniesh Duggall')",
         "1"
        ],
        [
         "('1920: London', 'Sharman Joshi')",
         "1"
        ],
        [
         "('1920: The Evil Returns', 'Vicky Ahuja')",
         "1"
        ],
        [
         "('1971 (2007 film)', 'Manoj Bajpayee')",
         "1"
        ],
        [
         "('2 States (2014 film)', 'Arjun Kapoor')",
         "1"
        ],
        [
         "('Yakeen (2005 film)', 'Arjun Rampal')",
         "1"
        ],
        [
         "('Yamla Pagla Deewana', 'Nafisa Ali')",
         "1"
        ],
        [
         "('Yamla Pagla Deewana: Phir Se', 'Dharmendra')",
         "1"
        ],
        [
         "('Yatra (2007 film)', 'Rekha')",
         "1"
        ],
        [
         "('Yeh Dil', 'Tusshar Kapoor')",
         "1"
        ],
        [
         "('Yeh Dooriyan', 'Deepshika Nagpal')",
         "1"
        ],
        [
         "('Yeh Hai Bakrapur', 'Anshuman Jha')",
         "1"
        ],
        [
         "('3 Storeys', 'Aisha Ahmed')",
         "1"
        ],
        [
         "('Yeh Jawaani Hai Deewani', 'Ranbir Kapoor')",
         "1"
        ],
        [
         "('Yeh Khula Aasmaan', 'Anya Anand')",
         "1"
        ],
        [
         "('Yeh Lamhe Judaai Ke', 'Shah Rukh Khan')",
         "1"
        ],
        [
         "('Yeh Mera India', 'Anupam Kher')",
         "1"
        ],
        [
         "('Yeh Saali Aashiqui', 'Vardhan Puri')",
         "1"
        ],
        [
         "('Youngistaan', 'Jackky Bhagnani')",
         "1"
        ],
        [
         "('Yun Hota Toh Kya Hota', 'Paresh Rawal')",
         "1"
        ],
        [
         "('Yuva', 'Ajay Devgn')",
         "1"
        ],
        [
         "('Yuvvraaj', 'Salman Khan')",
         "1"
        ],
        [
         "('Zamaanat', 'Jeetendra')",
         "1"
        ],
        [
         "('Zameen (2003 film)', 'Ajay Devgn')",
         "1"
        ],
        [
         "('Zameer: The Fire Within', 'Ajay Devgn')",
         "1"
        ],
        [
         "('Zed Plus', 'Vinod Acharya')",
         "1"
        ],
        [
         "('Zeher', 'Emraan Hashmi')",
         "1"
        ],
        [
         "('Zero (2018 film)', 'Shah Rukh Khan')",
         "1"
        ]
       ],
       "shape": {
        "columns": 1,
        "rows": 1497
       }
      },
      "text/plain": [
       "movie                    lead             \n",
       "Gabbar Is Back           Akshay Kumar         2\n",
       "Andaaz                   Akshay Kumar         2\n",
       "Tanu Weds Manu: Returns  Kangana Ranaut       2\n",
       "3G (film)                Neil Nitin Mukesh    1\n",
       "404 (film)               Sara Arjun           1\n",
       "                                             ..\n",
       "Woodstock Villa          Sikander Kher        1\n",
       "Xcuse Me                 Sharman Joshi        1\n",
       "Ya Rab                   Indrapal Ahuja       1\n",
       "Yaaram (2019 film)       Siddhanth Kapoor     1\n",
       "31st October (film)      Soha Ali Khan        1\n",
       "Name: count, Length: 1497, dtype: int64"
      ]
     },
     "execution_count": 25,
     "metadata": {},
     "output_type": "execute_result"
    }
   ],
   "source": [
    "df1.value_counts()"
   ]
  },
  {
   "cell_type": "code",
   "execution_count": 26,
   "id": "a06e3056",
   "metadata": {},
   "outputs": [
    {
     "data": {
      "text/plain": [
       "pandas.core.series.Series"
      ]
     },
     "execution_count": 26,
     "metadata": {},
     "output_type": "execute_result"
    }
   ],
   "source": [
    "df4=pd.read_csv(r\"E:\\panda\\datasets-session-16-20250926T175125Z-1-001\\datasets-session-16\\kohli_ipl.csv\",index_col='match_no')\n",
    "run=df2['runs']\n",
    "run\n",
    "type(run)"
   ]
  },
  {
   "cell_type": "code",
   "execution_count": 27,
   "id": "95092143",
   "metadata": {},
   "outputs": [
    {
     "name": "stdout",
     "output_type": "stream",
     "text": [
      "7        0\n",
      "86       0\n",
      "92       0\n",
      "90       0\n",
      "205      0\n",
      "      ... \n",
      "163    100\n",
      "119    100\n",
      "122    108\n",
      "125    109\n",
      "127    113\n",
      "Name: runs, Length: 215, dtype: int64\n"
     ]
    }
   ],
   "source": [
    "# #sort values\n",
    "run.sort_values()\n",
    "# # print(run.sort_values())\n",
    "print(run.sort_values())\n",
    "# print(run.sort_values(ascending=False))"
   ]
  },
  {
   "cell_type": "code",
   "execution_count": 28,
   "id": "e34f8c94",
   "metadata": {
    "notebookRunGroups": {
     "groupValue": "1"
    }
   },
   "outputs": [
    {
     "name": "stdout",
     "output_type": "stream",
     "text": [
      "          runs\n",
      "match_no      \n",
      "8            0\n",
      "87           0\n",
      "93           0\n",
      "91           0\n",
      "206          0\n"
     ]
    }
   ],
   "source": [
    "df4.sort_values(by=\"runs\", inplace=True)\n",
    "print(df4.head())\n"
   ]
  },
  {
   "cell_type": "code",
   "execution_count": 29,
   "id": "25fde6c8",
   "metadata": {},
   "outputs": [
    {
     "data": {
      "application/vnd.microsoft.datawrangler.viewer.v0+json": {
       "columns": [
        {
         "name": "movie",
         "rawType": "object",
         "type": "string"
        },
        {
         "name": "lead",
         "rawType": "object",
         "type": "string"
        }
       ],
       "ref": "08c762df-ec35-4ef9-9915-e699006a34f7",
       "rows": [
        [
         "1920 (film)",
         "Rajniesh Duggall"
        ],
        [
         "1920: London",
         "Sharman Joshi"
        ],
        [
         "1920: The Evil Returns",
         "Vicky Ahuja"
        ],
        [
         "1971 (2007 film)",
         "Manoj Bajpayee"
        ],
        [
         "2 States (2014 film)",
         "Arjun Kapoor"
        ],
        [
         "22 Yards",
         "Barun Sobti"
        ],
        [
         "3 A.M. (2014 film)",
         "Salil Acharya"
        ],
        [
         "3 Deewarein",
         "Naseeruddin Shah"
        ],
        [
         "3 Idiots",
         "Aamir Khan"
        ],
        [
         "3 Storeys",
         "Aisha Ahmed"
        ],
        [
         "31st October (film)",
         "Soha Ali Khan"
        ],
        [
         "36 China Town",
         "Akshaye Khanna"
        ],
        [
         "3G (film)",
         "Neil Nitin Mukesh"
        ],
        [
         "404 (film)",
         "Sara Arjun"
        ],
        [
         "5 Weddings",
         "Nargis Fakhri"
        ],
        [
         "68 Pages",
         "Mouli Ganguly"
        ],
        [
         "7 Hours to Go",
         "Vipin Sharma"
        ],
        [
         "7 Khoon Maaf",
         "Priyanka Chopra"
        ],
        [
         "7½ Phere",
         "Juhi Chawla"
        ],
        [
         "88 Antop Hill",
         "Atul Kulkarni"
        ],
        [
         "99 (2009 film)",
         "Kunal Khemu"
        ],
        [
         "99.9 FM (film)",
         "Shawar Ali"
        ],
        [
         "?: A Question Mark",
         "Kiran Bhatia"
        ],
        [
         "A Decent Arrangement",
         "Shabana Azmi"
        ],
        [
         "A Flat (film)",
         "Jimmy Sheirgill"
        ],
        [
         "A Flying Jatt",
         "Tiger Shroff"
        ],
        [
         "A Gentleman",
         "Sidharth Malhotra"
        ],
        [
         "ABCD 2",
         "Prabhu Deva"
        ],
        [
         "Aa Dekhen Zara",
         "Neil Nitin Mukesh"
        ],
        [
         "Aa Gaya Hero",
         "Govinda"
        ],
        [
         "Aabra Ka Daabra",
         "Naveen Bawa"
        ],
        [
         "Aag (2007 film)",
         "Amitabh Bachchan"
        ],
        [
         "Aagey Se Right",
         "Shreyas Talpade"
        ],
        [
         "Aaj Ka Andha Kanoon",
         "Sudesh Berry"
        ],
        [
         "Aaja Nachle",
         "Madhuri Dixit"
        ],
        [
         "Aakhari Decision",
         "Paul Sidhu"
        ],
        [
         "Aakrosh (2010 film)",
         "Ajay Devgn"
        ],
        [
         "Aalaap (film)",
         "Omkar Das Manikpuri"
        ],
        [
         "Aan: Men at Work",
         "Shatrughan Sinha"
        ],
        [
         "Aanch",
         "Arun Bakshi"
        ],
        [
         "Aankhen (2002 film)",
         "Amitabh Bachchan"
        ],
        [
         "Aap Kaa Surroor",
         "Himesh Reshammiya"
        ],
        [
         "Aap Ki Khatir (2006 film)",
         "Akshaye Khanna"
        ],
        [
         "Aapko Pehle Bhi Kahin Dekha Hai",
         "Priyanshu Chatterjee"
        ],
        [
         "Aarakshan",
         "Amitabh Bachchan"
        ],
        [
         "Aashayein",
         "John Abraham"
        ],
        [
         "Aashiq Banaya Aapne",
         "Emraan Hashmi"
        ],
        [
         "Aashiqui 2",
         "Aditya Roy Kapoor"
        ],
        [
         "Aashiqui.in",
         "Ishaan Manhaas"
        ],
        [
         "Aasma: The Sky Is the Limit",
         "Hrishitaa Bhatt"
        ]
       ],
       "shape": {
        "columns": 1,
        "rows": 1500
       }
      },
      "text/html": [
       "<div>\n",
       "<style scoped>\n",
       "    .dataframe tbody tr th:only-of-type {\n",
       "        vertical-align: middle;\n",
       "    }\n",
       "\n",
       "    .dataframe tbody tr th {\n",
       "        vertical-align: top;\n",
       "    }\n",
       "\n",
       "    .dataframe thead th {\n",
       "        text-align: right;\n",
       "    }\n",
       "</style>\n",
       "<table border=\"1\" class=\"dataframe\">\n",
       "  <thead>\n",
       "    <tr style=\"text-align: right;\">\n",
       "      <th></th>\n",
       "      <th>lead</th>\n",
       "    </tr>\n",
       "    <tr>\n",
       "      <th>movie</th>\n",
       "      <th></th>\n",
       "    </tr>\n",
       "  </thead>\n",
       "  <tbody>\n",
       "    <tr>\n",
       "      <th>1920 (film)</th>\n",
       "      <td>Rajniesh Duggall</td>\n",
       "    </tr>\n",
       "    <tr>\n",
       "      <th>1920: London</th>\n",
       "      <td>Sharman Joshi</td>\n",
       "    </tr>\n",
       "    <tr>\n",
       "      <th>1920: The Evil Returns</th>\n",
       "      <td>Vicky Ahuja</td>\n",
       "    </tr>\n",
       "    <tr>\n",
       "      <th>1971 (2007 film)</th>\n",
       "      <td>Manoj Bajpayee</td>\n",
       "    </tr>\n",
       "    <tr>\n",
       "      <th>2 States (2014 film)</th>\n",
       "      <td>Arjun Kapoor</td>\n",
       "    </tr>\n",
       "    <tr>\n",
       "      <th>...</th>\n",
       "      <td>...</td>\n",
       "    </tr>\n",
       "    <tr>\n",
       "      <th>Zindagi 50-50</th>\n",
       "      <td>Veena Malik</td>\n",
       "    </tr>\n",
       "    <tr>\n",
       "      <th>Zindagi Na Milegi Dobara</th>\n",
       "      <td>Hrithik Roshan</td>\n",
       "    </tr>\n",
       "    <tr>\n",
       "      <th>Zindagi Tere Naam</th>\n",
       "      <td>Mithun Chakraborty</td>\n",
       "    </tr>\n",
       "    <tr>\n",
       "      <th>Zokkomon</th>\n",
       "      <td>Darsheel Safary</td>\n",
       "    </tr>\n",
       "    <tr>\n",
       "      <th>Zor Lagaa Ke...Haiya!</th>\n",
       "      <td>Meghan Jadhav</td>\n",
       "    </tr>\n",
       "  </tbody>\n",
       "</table>\n",
       "<p>1500 rows × 1 columns</p>\n",
       "</div>"
      ],
      "text/plain": [
       "                                        lead\n",
       "movie                                       \n",
       "1920 (film)                 Rajniesh Duggall\n",
       "1920: London                   Sharman Joshi\n",
       "1920: The Evil Returns           Vicky Ahuja\n",
       "1971 (2007 film)              Manoj Bajpayee\n",
       "2 States (2014 film)            Arjun Kapoor\n",
       "...                                      ...\n",
       "Zindagi 50-50                    Veena Malik\n",
       "Zindagi Na Milegi Dobara      Hrithik Roshan\n",
       "Zindagi Tere Naam         Mithun Chakraborty\n",
       "Zokkomon                     Darsheel Safary\n",
       "Zor Lagaa Ke...Haiya!          Meghan Jadhav\n",
       "\n",
       "[1500 rows x 1 columns]"
      ]
     },
     "execution_count": 29,
     "metadata": {},
     "output_type": "execute_result"
    }
   ],
   "source": [
    "#sort index\n",
    "df.sort_index()"
   ]
  },
  {
   "cell_type": "code",
   "execution_count": 30,
   "id": "9384fada",
   "metadata": {},
   "outputs": [
    {
     "data": {
      "application/vnd.microsoft.datawrangler.viewer.v0+json": {
       "columns": [
        {
         "name": "index",
         "rawType": "object",
         "type": "string"
        },
        {
         "name": "0",
         "rawType": "int64",
         "type": "integer"
        }
       ],
       "ref": "338395a6-2993-499e-a0d1-22c0ec67c0f2",
       "rows": [
        [
         "match_no",
         "215"
        ],
        [
         "runs",
         "215"
        ]
       ],
       "shape": {
        "columns": 1,
        "rows": 2
       }
      },
      "text/plain": [
       "match_no    215\n",
       "runs        215\n",
       "dtype: int64"
      ]
     },
     "execution_count": 30,
     "metadata": {},
     "output_type": "execute_result"
    }
   ],
   "source": [
    "#count\n",
    "df2.count()"
   ]
  },
  {
   "cell_type": "code",
   "execution_count": 31,
   "id": "b4f8b35e",
   "metadata": {},
   "outputs": [
    {
     "data": {
      "application/vnd.microsoft.datawrangler.viewer.v0+json": {
       "columns": [
        {
         "name": "index",
         "rawType": "object",
         "type": "string"
        },
        {
         "name": "0",
         "rawType": "int64",
         "type": "integer"
        }
       ],
       "ref": "c9bf08d2-f11e-4152-9b31-c7532028612a",
       "rows": [
        [
         "Subscribers gained",
         "49510"
        ]
       ],
       "shape": {
        "columns": 1,
        "rows": 1
       }
      },
      "text/plain": [
       "Subscribers gained    49510\n",
       "dtype: int64"
      ]
     },
     "execution_count": 31,
     "metadata": {},
     "output_type": "execute_result"
    }
   ],
   "source": [
    "#sum ->product\n",
    "df3.sum()"
   ]
  },
  {
   "cell_type": "code",
   "execution_count": 32,
   "id": "241b40b8",
   "metadata": {},
   "outputs": [
    {
     "data": {
      "application/vnd.microsoft.datawrangler.viewer.v0+json": {
       "columns": [
        {
         "name": "index",
         "rawType": "object",
         "type": "string"
        },
        {
         "name": "0",
         "rawType": "int64",
         "type": "integer"
        }
       ],
       "ref": "34ce86c3-1f97-4359-b445-e71c96d256ed",
       "rows": [
        [
         "Subscribers gained",
         "0"
        ]
       ],
       "shape": {
        "columns": 1,
        "rows": 1
       }
      },
      "text/plain": [
       "Subscribers gained    0\n",
       "dtype: int64"
      ]
     },
     "execution_count": 32,
     "metadata": {},
     "output_type": "execute_result"
    }
   ],
   "source": [
    "df3.product()"
   ]
  },
  {
   "cell_type": "code",
   "execution_count": 33,
   "id": "305b806c",
   "metadata": {},
   "outputs": [
    {
     "data": {
      "application/vnd.microsoft.datawrangler.viewer.v0+json": {
       "columns": [
        {
         "name": "index",
         "rawType": "object",
         "type": "string"
        },
        {
         "name": "0",
         "rawType": "float64",
         "type": "float"
        }
       ],
       "ref": "4104b378-dd29-478b-8276-fc0b55b67c52",
       "rows": [
        [
         "Subscribers gained",
         "135.64383561643837"
        ]
       ],
       "shape": {
        "columns": 1,
        "rows": 1
       }
      },
      "text/plain": [
       "Subscribers gained    135.643836\n",
       "dtype: float64"
      ]
     },
     "execution_count": 33,
     "metadata": {},
     "output_type": "execute_result"
    }
   ],
   "source": [
    "#mean\n",
    "df3.mean()"
   ]
  },
  {
   "cell_type": "code",
   "execution_count": 34,
   "id": "96e81569",
   "metadata": {},
   "outputs": [
    {
     "data": {
      "application/vnd.microsoft.datawrangler.viewer.v0+json": {
       "columns": [
        {
         "name": "index",
         "rawType": "object",
         "type": "string"
        },
        {
         "name": "0",
         "rawType": "float64",
         "type": "float"
        }
       ],
       "ref": "31a54797-1bd8-4866-a752-c60e50c0423f",
       "rows": [
        [
         "match_no",
         "108.0"
        ],
        [
         "runs",
         "24.0"
        ]
       ],
       "shape": {
        "columns": 1,
        "rows": 2
       }
      },
      "text/plain": [
       "match_no    108.0\n",
       "runs         24.0\n",
       "dtype: float64"
      ]
     },
     "execution_count": 34,
     "metadata": {},
     "output_type": "execute_result"
    }
   ],
   "source": [
    "#median\n",
    "df2.median()"
   ]
  },
  {
   "cell_type": "code",
   "execution_count": 35,
   "id": "8777bc6d",
   "metadata": {},
   "outputs": [
    {
     "data": {
      "application/vnd.microsoft.datawrangler.viewer.v0+json": {
       "columns": [
        {
         "name": "index",
         "rawType": "int64",
         "type": "integer"
        },
        {
         "name": "lead",
         "rawType": "object",
         "type": "string"
        }
       ],
       "ref": "f23693f8-854f-48e4-a5ee-5d2592a19d6f",
       "rows": [
        [
         "0",
         "Akshay Kumar"
        ]
       ],
       "shape": {
        "columns": 1,
        "rows": 1
       }
      },
      "text/html": [
       "<div>\n",
       "<style scoped>\n",
       "    .dataframe tbody tr th:only-of-type {\n",
       "        vertical-align: middle;\n",
       "    }\n",
       "\n",
       "    .dataframe tbody tr th {\n",
       "        vertical-align: top;\n",
       "    }\n",
       "\n",
       "    .dataframe thead th {\n",
       "        text-align: right;\n",
       "    }\n",
       "</style>\n",
       "<table border=\"1\" class=\"dataframe\">\n",
       "  <thead>\n",
       "    <tr style=\"text-align: right;\">\n",
       "      <th></th>\n",
       "      <th>lead</th>\n",
       "    </tr>\n",
       "  </thead>\n",
       "  <tbody>\n",
       "    <tr>\n",
       "      <th>0</th>\n",
       "      <td>Akshay Kumar</td>\n",
       "    </tr>\n",
       "  </tbody>\n",
       "</table>\n",
       "</div>"
      ],
      "text/plain": [
       "           lead\n",
       "0  Akshay Kumar"
      ]
     },
     "execution_count": 35,
     "metadata": {},
     "output_type": "execute_result"
    }
   ],
   "source": [
    "#mode\n",
    "df.mode()"
   ]
  },
  {
   "cell_type": "code",
   "execution_count": 36,
   "id": "37545166",
   "metadata": {},
   "outputs": [
    {
     "data": {
      "application/vnd.microsoft.datawrangler.viewer.v0+json": {
       "columns": [
        {
         "name": "index",
         "rawType": "object",
         "type": "string"
        },
        {
         "name": "0",
         "rawType": "float64",
         "type": "float"
        }
       ],
       "ref": "5e1ee3f9-fe8e-4fca-aafa-a902cc6fb5e5",
       "rows": [
        [
         "Subscribers gained",
         "62.6750230372527"
        ]
       ],
       "shape": {
        "columns": 1,
        "rows": 1
       }
      },
      "text/plain": [
       "Subscribers gained    62.675023\n",
       "dtype: float64"
      ]
     },
     "execution_count": 36,
     "metadata": {},
     "output_type": "execute_result"
    }
   ],
   "source": [
    "#standard daviation\n",
    "df3.std()"
   ]
  },
  {
   "cell_type": "code",
   "execution_count": 37,
   "id": "1e2bbcfa",
   "metadata": {},
   "outputs": [
    {
     "data": {
      "application/vnd.microsoft.datawrangler.viewer.v0+json": {
       "columns": [
        {
         "name": "index",
         "rawType": "object",
         "type": "string"
        },
        {
         "name": "0",
         "rawType": "float64",
         "type": "float"
        }
       ],
       "ref": "6a19fdec-d8ee-444b-b9db-6c22d43d5447",
       "rows": [
        [
         "Subscribers gained",
         "3928.1585127201565"
        ]
       ],
       "shape": {
        "columns": 1,
        "rows": 1
       }
      },
      "text/plain": [
       "Subscribers gained    3928.158513\n",
       "dtype: float64"
      ]
     },
     "execution_count": 37,
     "metadata": {},
     "output_type": "execute_result"
    }
   ],
   "source": [
    "#varience\n",
    "df3.var()"
   ]
  },
  {
   "cell_type": "code",
   "execution_count": 38,
   "id": "ca9d5279",
   "metadata": {},
   "outputs": [
    {
     "data": {
      "application/vnd.microsoft.datawrangler.viewer.v0+json": {
       "columns": [
        {
         "name": "index",
         "rawType": "object",
         "type": "string"
        },
        {
         "name": "0",
         "rawType": "int64",
         "type": "integer"
        }
       ],
       "ref": "4088be3a-b1fa-4d20-8ab3-f1d594ece515",
       "rows": [
        [
         "Subscribers gained",
         "396"
        ]
       ],
       "shape": {
        "columns": 1,
        "rows": 1
       }
      },
      "text/plain": [
       "Subscribers gained    396\n",
       "dtype: int64"
      ]
     },
     "execution_count": 38,
     "metadata": {},
     "output_type": "execute_result"
    }
   ],
   "source": [
    "#max/min\n",
    "df3.max()"
   ]
  },
  {
   "cell_type": "code",
   "execution_count": 39,
   "id": "b6ac9b9c",
   "metadata": {},
   "outputs": [
    {
     "data": {
      "application/vnd.microsoft.datawrangler.viewer.v0+json": {
       "columns": [
        {
         "name": "index",
         "rawType": "object",
         "type": "string"
        },
        {
         "name": "runs",
         "rawType": "float64",
         "type": "float"
        }
       ],
       "ref": "2c2a6dc1-fe90-4893-9b24-8be1599fc605",
       "rows": [
        [
         "count",
         "215.0"
        ],
        [
         "mean",
         "30.855813953488372"
        ],
        [
         "std",
         "26.22980132830278"
        ],
        [
         "min",
         "0.0"
        ],
        [
         "25%",
         "9.0"
        ],
        [
         "50%",
         "24.0"
        ],
        [
         "75%",
         "48.0"
        ],
        [
         "max",
         "113.0"
        ]
       ],
       "shape": {
        "columns": 1,
        "rows": 8
       }
      },
      "text/plain": [
       "count    215.000000\n",
       "mean      30.855814\n",
       "std       26.229801\n",
       "min        0.000000\n",
       "25%        9.000000\n",
       "50%       24.000000\n",
       "75%       48.000000\n",
       "max      113.000000\n",
       "Name: runs, dtype: float64"
      ]
     },
     "execution_count": 39,
     "metadata": {},
     "output_type": "execute_result"
    }
   ],
   "source": [
    "#describe\n",
    "run.describe()"
   ]
  },
  {
   "cell_type": "markdown",
   "id": "7ccb7dda",
   "metadata": {},
   "source": [
    "Series indexing"
   ]
  },
  {
   "cell_type": "code",
   "execution_count": 40,
   "id": "3f92ca63",
   "metadata": {},
   "outputs": [
    {
     "data": {
      "text/plain": [
       "np.int64(2)"
      ]
     },
     "execution_count": 40,
     "metadata": {},
     "output_type": "execute_result"
    }
   ],
   "source": [
    "x=pd.Series([1,2,3,4,2])\n",
    "x[1]"
   ]
  },
  {
   "cell_type": "code",
   "execution_count": 41,
   "id": "58c57070",
   "metadata": {},
   "outputs": [
    {
     "data": {
      "application/vnd.microsoft.datawrangler.viewer.v0+json": {
       "columns": [
        {
         "name": "index",
         "rawType": "int64",
         "type": "integer"
        },
        {
         "name": "runs",
         "rawType": "int64",
         "type": "integer"
        }
       ],
       "ref": "a124d73c-4c94-4113-9993-610e4047df6e",
       "rows": [
        [
         "5",
         "9"
        ],
        [
         "6",
         "34"
        ],
        [
         "7",
         "0"
        ],
        [
         "8",
         "21"
        ],
        [
         "9",
         "3"
        ],
        [
         "10",
         "10"
        ],
        [
         "11",
         "38"
        ],
        [
         "12",
         "3"
        ],
        [
         "13",
         "11"
        ],
        [
         "14",
         "50"
        ]
       ],
       "shape": {
        "columns": 1,
        "rows": 10
       }
      },
      "text/plain": [
       "5      9\n",
       "6     34\n",
       "7      0\n",
       "8     21\n",
       "9      3\n",
       "10    10\n",
       "11    38\n",
       "12     3\n",
       "13    11\n",
       "14    50\n",
       "Name: runs, dtype: int64"
      ]
     },
     "execution_count": 41,
     "metadata": {},
     "output_type": "execute_result"
    }
   ],
   "source": [
    "#slicing\n",
    "run[5:15]"
   ]
  },
  {
   "cell_type": "code",
   "execution_count": 42,
   "id": "b5a66969",
   "metadata": {},
   "outputs": [
    {
     "data": {
      "application/vnd.microsoft.datawrangler.viewer.v0+json": {
       "columns": [
        {
         "name": "index",
         "rawType": "int64",
         "type": "integer"
        },
        {
         "name": "runs",
         "rawType": "int64",
         "type": "integer"
        }
       ],
       "ref": "306c1291-f30a-44ab-ac71-1a6b9e517e26",
       "rows": [
        [
         "210",
         "0"
        ],
        [
         "211",
         "20"
        ],
        [
         "212",
         "73"
        ],
        [
         "213",
         "25"
        ],
        [
         "214",
         "7"
        ]
       ],
       "shape": {
        "columns": 1,
        "rows": 5
       }
      },
      "text/plain": [
       "210     0\n",
       "211    20\n",
       "212    73\n",
       "213    25\n",
       "214     7\n",
       "Name: runs, dtype: int64"
      ]
     },
     "execution_count": 42,
     "metadata": {},
     "output_type": "execute_result"
    }
   ],
   "source": [
    "run[-5:]"
   ]
  },
  {
   "cell_type": "code",
   "execution_count": 43,
   "id": "e6724c16",
   "metadata": {},
   "outputs": [
    {
     "data": {
      "application/vnd.microsoft.datawrangler.viewer.v0+json": {
       "columns": [
        {
         "name": "index",
         "rawType": "int64",
         "type": "integer"
        },
        {
         "name": "runs",
         "rawType": "int64",
         "type": "integer"
        }
       ],
       "ref": "4cd52a6f-9c75-471c-aeeb-21c179c2d13b",
       "rows": [
        [
         "1",
         "23"
        ],
        [
         "3",
         "12"
        ],
        [
         "9",
         "3"
        ]
       ],
       "shape": {
        "columns": 1,
        "rows": 3
       }
      },
      "text/plain": [
       "1    23\n",
       "3    12\n",
       "9     3\n",
       "Name: runs, dtype: int64"
      ]
     },
     "execution_count": 43,
     "metadata": {},
     "output_type": "execute_result"
    }
   ],
   "source": [
    "#fancy indexing\n",
    "run[[1,3,9]]"
   ]
  },
  {
   "cell_type": "code",
   "execution_count": 44,
   "id": "793a00e5",
   "metadata": {},
   "outputs": [
    {
     "data": {
      "application/vnd.microsoft.datawrangler.viewer.v0+json": {
       "columns": [
        {
         "name": "index",
         "rawType": "int64",
         "type": "integer"
        },
        {
         "name": "runs",
         "rawType": "int64",
         "type": "integer"
        }
       ],
       "ref": "d9ede293-717e-4e30-96aa-22f9b1ce3278",
       "rows": [
        [
         "0",
         "1"
        ],
        [
         "1",
         "23"
        ],
        [
         "2",
         "100"
        ],
        [
         "3",
         "100"
        ],
        [
         "4",
         "1"
        ],
        [
         "5",
         "9"
        ],
        [
         "6",
         "34"
        ],
        [
         "7",
         "0"
        ],
        [
         "8",
         "21"
        ],
        [
         "9",
         "3"
        ],
        [
         "10",
         "10"
        ],
        [
         "11",
         "38"
        ],
        [
         "12",
         "3"
        ],
        [
         "13",
         "11"
        ],
        [
         "14",
         "50"
        ],
        [
         "15",
         "2"
        ],
        [
         "16",
         "22"
        ],
        [
         "17",
         "19"
        ],
        [
         "18",
         "16"
        ],
        [
         "19",
         "15"
        ],
        [
         "20",
         "20"
        ],
        [
         "21",
         "38"
        ],
        [
         "22",
         "19"
        ],
        [
         "23",
         "24"
        ],
        [
         "24",
         "7"
        ],
        [
         "25",
         "2"
        ],
        [
         "26",
         "16"
        ],
        [
         "27",
         "17"
        ],
        [
         "28",
         "24"
        ],
        [
         "29",
         "38"
        ],
        [
         "30",
         "34"
        ],
        [
         "31",
         "42"
        ],
        [
         "32",
         "13"
        ],
        [
         "33",
         "58"
        ],
        [
         "34",
         "3"
        ],
        [
         "35",
         "14"
        ],
        [
         "36",
         "37"
        ],
        [
         "37",
         "9"
        ],
        [
         "38",
         "23"
        ],
        [
         "39",
         "12"
        ],
        [
         "40",
         "71"
        ],
        [
         "41",
         "35"
        ],
        [
         "42",
         "30"
        ],
        [
         "43",
         "56"
        ],
        [
         "44",
         "67"
        ],
        [
         "45",
         "27"
        ],
        [
         "46",
         "27"
        ],
        [
         "47",
         "39"
        ],
        [
         "48",
         "15"
        ],
        [
         "49",
         "11"
        ]
       ],
       "shape": {
        "columns": 1,
        "rows": 215
       }
      },
      "text/plain": [
       "0        1\n",
       "1       23\n",
       "2      100\n",
       "3      100\n",
       "4        1\n",
       "      ... \n",
       "210      0\n",
       "211     20\n",
       "212     73\n",
       "213     25\n",
       "214      7\n",
       "Name: runs, Length: 215, dtype: int64"
      ]
     },
     "execution_count": 44,
     "metadata": {},
     "output_type": "execute_result"
    }
   ],
   "source": [
    "run[2:4]=[100,100]\n",
    "run"
   ]
  },
  {
   "cell_type": "markdown",
   "id": "826d8ca7",
   "metadata": {},
   "source": [
    "Series with python functionality"
   ]
  },
  {
   "cell_type": "code",
   "execution_count": 45,
   "id": "42146c15",
   "metadata": {},
   "outputs": [
    {
     "name": "stdout",
     "output_type": "stream",
     "text": [
      "1500\n"
     ]
    }
   ],
   "source": [
    "print(len(df))"
   ]
  },
  {
   "cell_type": "code",
   "execution_count": 46,
   "id": "e57cef0b",
   "metadata": {},
   "outputs": [
    {
     "data": {
      "text/plain": [
       "{'maths': 67, 'english': 57, 'science': 89, 'hindi': 100}"
      ]
     },
     "execution_count": 46,
     "metadata": {},
     "output_type": "execute_result"
    }
   ],
   "source": [
    "dict(marks)"
   ]
  },
  {
   "cell_type": "markdown",
   "id": "5b044cf6",
   "metadata": {},
   "source": [
    "#looping"
   ]
  },
  {
   "cell_type": "code",
   "execution_count": 47,
   "id": "096763b4",
   "metadata": {},
   "outputs": [
    {
     "name": "stdout",
     "output_type": "stream",
     "text": [
      "Uri: The Surgical Strike\n",
      "Battalion 609\n",
      "The Accidental Prime Minister (film)\n",
      "Why Cheat India\n",
      "Evening Shadows\n",
      "Soni (film)\n",
      "Fraud Saiyaan\n",
      "Bombairiya\n",
      "Manikarnika: The Queen of Jhansi\n",
      "Thackeray (film)\n",
      "Amavas\n",
      "Gully Boy\n",
      "Hum Chaar\n",
      "Total Dhamaal\n",
      "Sonchiriya\n",
      "Badla (2019 film)\n",
      "Mard Ko Dard Nahi Hota\n",
      "Hamid (film)\n",
      "Photograph (film)\n",
      "Risknamaa\n",
      "Mere Pyare Prime Minister\n",
      "22 Yards\n",
      "Kesari (film)\n",
      "Notebook (2019 film)\n",
      "Junglee (2019 film)\n",
      "Gone Kesh\n",
      "Albert Pinto Ko Gussa Kyun Aata Hai?\n",
      "The Tashkent Files\n",
      "Kalank\n",
      "Setters (film)\n",
      "Student of the Year 2\n",
      "PM Narendra Modi\n",
      "De De Pyaar De\n",
      "India's Most Wanted (film)\n",
      "Yeh Hai India\n",
      "Khamoshi (2019 film)\n",
      "Kabir Singh\n",
      "Article 15 (film)\n",
      "One Day: Justice Delivered\n",
      "Hume Tumse Pyaar Kitna\n",
      "Super 30 (film)\n",
      "Family of Thakurganj\n",
      "Batla House\n",
      "Jhootha Kahin Ka\n",
      "Judgementall Hai Kya\n",
      "Chicken Curry Law\n",
      "Arjun Patiala\n",
      "Jabariya Jodi\n",
      "Pranaam\n",
      "The Sky Is Pink\n",
      "Mission Mangal\n",
      "Saaho\n",
      "Dream Girl (2019 film)\n",
      "Section 375\n",
      "The Zoya Factor (film)\n",
      "Pal Pal Dil Ke Paas\n",
      "Prassthanam\n",
      "P Se Pyaar F Se Faraar\n",
      "Ghost (2019 film)\n",
      "Bala (2019 film)\n",
      "Yaaram (2019 film)\n",
      "Housefull 4\n",
      "Saand Ki Aankh\n",
      "Made in China (2019 film)\n",
      "Ujda Chaman\n",
      "Bypass Road (film)\n",
      "Satellite Shankar\n",
      "Jhalki\n",
      "Marjaavaan\n",
      "Motichoor Chaknachoor\n",
      "Keep Safe Distance (film)\n",
      "Pagalpanti (2019 film)\n",
      "Ramprasad Ki Tehrvi\n",
      "Yeh Saali Aashiqui\n",
      "Dil Bechara\n",
      "Pati Patni Aur Woh (2019 film)\n",
      "Commando 3 (film)\n",
      "Mardaani 2\n",
      "Dabangg 3\n",
      "Good Newwz\n",
      "Kaalakaandi\n",
      "Vodka Diaries\n",
      "My Birthday Song\n",
      "Nirdosh\n",
      "Mukkabaaz\n",
      "Union Leader (film)\n",
      "Love per Square Foot\n",
      "Aiyaary\n",
      "Padmaavat\n",
      "Kuchh Bheege Alfaaz\n",
      "Jaane Kyun De Yaaron\n",
      "Veerey Ki Wedding\n",
      "Sonu Ke Titu Ki Sweety\n",
      "Hate Story 4\n",
      "Dil Juunglee\n",
      "3 Storeys\n",
      "Raid (2018 film)\n",
      "Hichki\n",
      "Missing (2018 film)\n",
      "Baaghi 2\n",
      "October (2018 film)\n",
      "Mercury (film)\n",
      "Beyond the Clouds (2017 film)\n",
      "Nanu Ki Jaanu\n",
      "Daas Dev\n",
      "Omerta (film)\n",
      "Raazi\n",
      "Hope Aur Hum\n",
      "High Jack (film)\n",
      "Khajoor Pe Atke\n",
      "Parmanu: The Story of Pokhran\n",
      "Bioscopewala\n",
      "Bhavesh Joshi Superhero\n",
      "Phamous\n",
      "Race 3\n",
      "Dhadak\n",
      "Sanju\n",
      "Saheb Biwi Aur Gangster 3\n",
      "Nawabzaade\n",
      "Mulk (film)\n",
      "Brij Mohan Amar Rahe\n",
      "Karwaan\n",
      "Gold (2018 film)\n",
      "Satyameva Jayate (2018 film)\n",
      "Happy Phirr Bhag Jayegi\n",
      "Genius (2018 Hindi film)\n",
      "Yamla Pagla Deewana: Phir Se\n",
      "Stree (2018 film)\n",
      "Paltan (film)\n",
      "Laila Majnu (2018 film)\n",
      "Gali Guleiyan\n",
      "Halkaa\n",
      "Pataakha\n",
      "Batti Gul Meter Chalu\n",
      "Love Sonia\n",
      "Manto (2018 film)\n",
      "Ishqeria\n",
      "Manmarziyaan\n",
      "Mitron\n",
      "Sui Dhaaga\n",
      "Baazaar\n",
      "Jalebi (film)\n",
      "FryDay\n",
      "Tumbbad\n",
      "Helicopter Eela\n",
      "Namaste England\n",
      "Andhadhun\n",
      "Badhaai Ho\n",
      "5 Weddings\n",
      "Kaashi in Search of Ganga\n",
      "Dassehra\n",
      "The Journey of Karma\n",
      "Jack and Dil\n",
      "Mohalla Assi\n",
      "Pihu\n",
      "Bhaiaji Superhit\n",
      "Rajma Chawal\n",
      "Zero (2018 film)\n",
      "Simmba\n",
      "Tiger Zinda Hai\n",
      "Golmaal Again\n",
      "Judwaa 2\n",
      "Ok Jaanu\n",
      "Coffee with D\n",
      "Kaabil\n",
      "Raees (film)\n",
      "Thugs of Hindostan\n",
      "Hind Ka Napak Ko Jawab: MSG Lion Heart 2\n",
      "Running Shaadi\n",
      "The Ghazi Attack\n",
      "Irada (2017 film)\n",
      "Rangoon (2017 Hindi film)\n",
      "Wedding Anniversary\n",
      "Jeena Isi Ka Naam Hai (film)\n",
      "Badrinath Ki Dulhania\n",
      "Trapped (2016 Hindi film)\n",
      "Aa Gaya Hero\n",
      "Mantra (2016 film)\n",
      "Phillauri (film)\n",
      "Machine (2017 film)\n",
      "Bhanwarey\n",
      "Anaarkali of Aarah\n",
      "Naam Shabana\n",
      "Hotel Salvation\n",
      "Begum Jaan\n",
      "Noor (film)\n",
      "Ek Thi Rani Aisi Bhi\n",
      "Maatr\n",
      "Sarkar 3\n",
      "Jattu Engineer\n",
      "Half Girlfriend (film)\n",
      "Meri Pyaari Bindu\n",
      "Sachin: A Billion Dreams\n",
      "Hindi Medium\n",
      "Sweetiee Weds NRI\n",
      "Dobaara: See Your Evil\n",
      "Flat 211\n",
      "Dear Maya\n",
      "Raabta (film)\n",
      "Behen Hogi Teri\n",
      "Tubelight (2017 Hindi film)\n",
      "Bank Chor\n",
      "Ek Haseena Thi Ek Deewana Tha\n",
      "Jagga Jasoos\n",
      "Shab (film)\n",
      "Lipstick Under My Burkha\n",
      "Bachche Kachche Sachche\n",
      "G Kutta Se\n",
      "Indu Sarkar\n",
      "Jab Harry Met Sejal\n",
      "Munna Michael\n",
      "Toilet: Ek Prem Katha\n",
      "Mubarakan\n",
      "Guest iin London\n",
      "Bareilly Ki Barfi\n",
      "Babumoshai Bandookbaaz\n",
      "Yadvi – The Dignified Princess\n",
      "Qaidi Band\n",
      "Shubh Mangal Saavdhan\n",
      "Raag Desh (film)\n",
      "Daddy (2017 film)\n",
      "Simran (film)\n",
      "Lucknow Central\n",
      "A Gentleman\n",
      "Viceroy's House (film)\n",
      "Patel Ki Punjabi Shaadi\n",
      "Newton (film)\n",
      "The Final Exit\n",
      "Bhoomi (film)\n",
      "Haseena Parkar\n",
      "JD (film)\n",
      "Haraamkhor\n",
      "Poster Boys\n",
      "Mom (film)\n",
      "Chef (2017 film)\n",
      "Ranchi Diaries\n",
      "Babuji Ek Ticket Bambai\n",
      "Rukh (film)\n",
      "Secret Superstar\n",
      "Aval (2017 film)\n",
      "Ribbon (film)\n",
      "Shaadi Mein Zaroor Aana\n",
      "Jia Aur Jia\n",
      "Qarib Qarib Singlle\n",
      "Aksar 2\n",
      "Panchlait\n",
      "Tumhari Sulu\n",
      "Julie 2\n",
      "Kadvi Hawa\n",
      "Firangi\n",
      "Fukrey Returns\n",
      "Monsoon Shootout\n",
      "Ajji\n",
      "Chalk n Duster\n",
      "Rebellious Flower\n",
      "Saankal\n",
      "Airlift (film)\n",
      "Sallu Ki Shaadi\n",
      "Irudhi Suttru\n",
      "Kyaa Kool Hain Hum 3\n",
      "Mastizaade\n",
      "Dil Jo Na Keh Saka\n",
      "Jugni (2016 film)\n",
      "Ghayal: Once Again\n",
      "Fitoor\n",
      "Sanam Re\n",
      "Direct Ishq\n",
      "Ishq Forever\n",
      "Loveshhuda\n",
      "Neerja\n",
      "Aligarh (film)\n",
      "Bollywood Diaries\n",
      "Love Shagun\n",
      "Tere Bin Laden: Dead or Alive\n",
      "Jai Gangaajal\n",
      "Kapoor & Sons\n",
      "Rocky Handsome\n",
      "Love Games (film)\n",
      "Fan (film)\n",
      "Nil Battey Sannata\n",
      "Laal Rang\n",
      "Baaghi (2016 film)\n",
      "Global Baba\n",
      "Shortcut Safari\n",
      "The Blueberry Hunt\n",
      "Santa Banta Pvt Ltd\n",
      "Traffic (2016 film)\n",
      "1920: London\n",
      "Azhar (film)\n",
      "Buddha in a Traffic Jam\n",
      "Murari the Mad Gentleman\n",
      "Dear Dad (film)\n",
      "Phobia (2016 film)\n",
      "Sarbjit (film)\n",
      "Veerappan (2016 film)\n",
      "Do Lafzon Ki Kahani (film)\n",
      "Te3n\n",
      "Udta Punjab\n",
      "Khel Toh Ab Shuru Hoga\n",
      "Luv U Alia\n",
      "7 Hours to Go\n",
      "Raman Raghav 2.0\n",
      "Junooniyat\n",
      "Rough Book\n",
      "Dhanak\n",
      "Fredrick (film)\n",
      "Dil Toh Deewana Hai\n",
      "Sultan (2016 film)\n",
      "Brahman Naman\n",
      "Great Grand Masti\n",
      "Waiting (2015 film)\n",
      "Ishq Click\n",
      "M Cream\n",
      "Madaari\n",
      "Dishoom\n",
      "Fever (2016 film)\n",
      "Rustom (film)\n",
      "Hai Apna Dil Toh Awara\n",
      "Mohenjo Daro (film)\n",
      "Happy Bhag Jayegi\n",
      "Waarrior Savitri\n",
      "A Flying Jatt\n",
      "Baar Baar Dekho\n",
      "Freaky Ali\n",
      "Raaz: Reboot\n",
      "Pink (2016 film)\n",
      "Parched\n",
      "Banjo (2016 film)\n",
      "Days of Tafree\n",
      "Wah Taj\n",
      "Island City (2015 film)\n",
      "Ek Kahani Julie Ki\n",
      "M.S. Dhoni: The Untold Story\n",
      "MSG: The Warrior Lion Heart\n",
      "Devi (2016 film)\n",
      "Motu Patlu: King of Kings\n",
      "Anna (2016 film)\n",
      "Fuddu\n",
      "Saat Uchakkey\n",
      "Beiimaan Love\n",
      "Umrika\n",
      "Shivaay\n",
      "Dongari Ka Raja\n",
      "Ae Dil Hai Mushkil\n",
      "Tum Bin II\n",
      "Rock On 2\n",
      "Force 2\n",
      "Dear Zindagi\n",
      "Befikre\n",
      "Moh Maya Money\n",
      "Shorgul\n",
      "Saansein\n",
      "Ki & Ka\n",
      "Wajah Tum Ho\n",
      "Dangal (film)\n",
      "Mirzya (film)\n",
      "Prem Ratan Dhan Payo\n",
      "Tanu Weds Manu: Returns\n",
      "Tanu Weds Manu: Returns\n",
      "31st October (film)\n",
      "ABCD 2\n",
      "Dilwale (2015 film)\n",
      "Bajrangi Bhaijaan\n",
      "Bajirao Mastani\n",
      "Welcome Back (film)\n",
      "Baby (2015 Hindi film)\n",
      "Singh Is Bliing\n",
      "Gabbar Is Back\n",
      "Gabbar Is Back\n",
      "Mumbai Can Dance Saala\n",
      "Alone (2015 Hindi film)\n",
      "Tevar\n",
      "Sharafat Gayi Tel Lene\n",
      "Dolly Ki Doli\n",
      "Hawaizaada\n",
      "Khamoshiyan\n",
      "Rahasya\n",
      "Jai Jawaan Jai Kisaan (film)\n",
      "Shamitabh\n",
      "Roy (film)\n",
      "Badlapur (film)\n",
      "Crazy Cukkad Family\n",
      "Take It Easy (2015 film)\n",
      "Qissa (film)\n",
      "Ab Tak Chhappan 2\n",
      "Dum Laga Ke Haisha\n",
      "Dirty Politics (film)\n",
      "MSG: The Messenger\n",
      "Badmashiyaan\n",
      "Coffee Bloom\n",
      "Hey Bro\n",
      "NH10 (film)\n",
      "Hunterrr\n",
      "Detective Byomkesh Bakshy!\n",
      "Luckhnowi Ishq\n",
      "Court (film)\n",
      "Margarita with a Straw\n",
      "Ek Paheli Leela\n",
      "Barkhaa\n",
      "Mr. X (2015 film)\n",
      "NH-8 Road to Nidhivan\n",
      "Dilliwali Zaalim Girlfriend\n",
      "Dharam Sankat Mein\n",
      "Kaagaz Ke Fools\n",
      "Kuch Kuch Locha Hai\n",
      "Piku\n",
      "Bombay Velvet\n",
      "I Love Desi\n",
      "Dil Dhadakne Do\n",
      "Welcome 2 Karachi\n",
      "P Se PM Tak\n",
      "Mere Genie Uncle\n",
      "Hamari Adhuri Kahani\n",
      "Miss Tanakpur Haazir Ho\n",
      "Uvaa\n",
      "Ishq Ke Parindey\n",
      "Ishqedarriyaan\n",
      "Sabki Bajegi Band\n",
      "Masaan\n",
      "Guddu Rangeela\n",
      "Bezubaan Ishq\n",
      "Aisa Yeh Jahaan\n",
      "Second Hand Husband\n",
      "I Love NY (2015 film)\n",
      "Main Hoon Part-Time Killer\n",
      "Kaun Kitne Paani Mein\n",
      "Drishyam (2015 film)\n",
      "Bangistan\n",
      "All Is Well (2015 film)\n",
      "Brothers (2015 film)\n",
      "Gour Hari Dastaan\n",
      "Manjhi – The Mountain Man\n",
      "Thoda Lutf Thoda Ishq\n",
      "Phantom (2015 film)\n",
      "Hero (2015 Hindi film)\n",
      "Sorry Daddy\n",
      "Talvar (film)\n",
      "Katti Batti\n",
      "Meeruthiya Gangsters\n",
      "MSG-2 The Messenger\n",
      "Calendar Girls (2015 film)\n",
      "Bhaag Johnny\n",
      "Jazbaa\n",
      "Bumper Draw\n",
      "Chinar Daastaan-E-Ishq\n",
      "Kis Kisko Pyaar Karoon\n",
      "Pyaar Ka Punchnama 2\n",
      "Wedding Pullav\n",
      "Shaandaar\n",
      "Titli (2014 film)\n",
      "Guddu Ki Gun\n",
      "The Silent Heroes\n",
      "Ranbanka\n",
      "Sholay\n",
      "Dedh Ishqiya\n",
      "Karle Pyaar Karle\n",
      "Om-Dar-B-Dar\n",
      "Paranthe Wali Gali\n",
      "Strings of Passion\n",
      "Gunday\n",
      "Jai Ho (film)\n",
      "Hasee Toh Phasee\n",
      "Heartless (2014 film)\n",
      "Ya Rab\n",
      "Darr @ the Mall\n",
      "One by Two (2014 film)\n",
      "Babloo Happy Hai\n",
      "Highway (2014 Hindi film)\n",
      "Gulabi Gang (film)\n",
      "Shaadi Ke Side Effects\n",
      "Gulaab Gang\n",
      "Queen (2014 film)\n",
      "Bewakoofiyaan\n",
      "Total Siyapaa\n",
      "Karar: The Deal\n",
      "Lakshmi (2014 film)\n",
      "Ragini MMS 2\n",
      "Dishkiyaoon\n",
      "Ankhon Dekhi\n",
      "Gang of Ghosts\n",
      "Anuradha (2014 film)\n",
      "W (2014 film)\n",
      "O Teri\n",
      "Honour Killing (film)\n",
      "2 States (2014 film)\n",
      "Jal (film)\n",
      "Bhoothnath Returns\n",
      "Main Tera Hero\n",
      "Lucky Kabootar\n",
      "Station (2014 film)\n",
      "Youngistaan\n",
      "Samrat & Co.\n",
      "Purani Jeans\n",
      "Kya Dilli Kya Lahore\n",
      "Koyelaanchal\n",
      "Manjunath (film)\n",
      "Dekh Tamasha Dekh\n",
      "Mastram\n",
      "The Xposé\n",
      "Children of War (2014 film)\n",
      "Hawaa Hawaai\n",
      "Kahin Hai Mera Pyar\n",
      "Kuku Mathur Ki Jhand Ho Gayi\n",
      "Heropanti\n",
      "CityLights (2014 film)\n",
      "Filmistaan\n",
      "Revolver Rani\n",
      "Kaanchi: The Unbreakable\n",
      "Machhli Jal Ki Rani Hai\n",
      "Khwaabb\n",
      "Yeh Hai Bakrapur\n",
      "Ek Villain\n",
      "Bobby Jasoos\n",
      "Humshakals\n",
      "Humpty Sharma Ki Dulhania\n",
      "Hate Story 2\n",
      "Lekar Hum Deewana Dil\n",
      "Riyasat (film)\n",
      "Amit Sahni Ki List\n",
      "Holiday: A Soldier Is Never Off Duty\n",
      "Fugly (film)\n",
      "Bazaar E Husn\n",
      "Pizza (2014 film)\n",
      "Entertainment (2014 film)\n",
      "Singham Returns\n",
      "Mardaani\n",
      "Raja Natwarlal\n",
      "Mary Kom (film)\n",
      "Creature 3D\n",
      "Finding Fanny\n",
      "Khoobsurat (2014 film)\n",
      "3 A.M. (2014 film)\n",
      "Kick (2014 film)\n",
      "Mad About Dance\n",
      "Mumbhai Connection\n",
      "Life Is Beautiful (2014 film)\n",
      "Desi Kattey\n",
      "Haider (film)\n",
      "Bang Bang!\n",
      "Spark (2014 film)\n",
      "Daawat-e-Ishq\n",
      "Balwinder Singh Famous Ho Gaya\n",
      "Jigariyaa\n",
      "Tamanchey\n",
      "Mumbai 125 KM\n",
      "Meinu Ek Ladki Chaahiye\n",
      "Chaarfutiya Chhokare\n",
      "Sonali Cable\n",
      "Happy New Year (2014 film)\n",
      "Super Nani\n",
      "Ekkees Toppon Ki Salaami\n",
      "Rang Rasiya\n",
      "The Shaukeens\n",
      "Roar: Tigers of the Sundarbans\n",
      "A Decent Arrangement\n",
      "Gollu Aur Pappu\n",
      "Titoo MBA\n",
      "Kill Dil\n",
      "Ungli\n",
      "Happy Ending (film)\n",
      "Zed Plus\n",
      "Zid (2014 film)\n",
      "Action Jackson (2014 film)\n",
      "Bhopal: A Prayer for Rain\n",
      "Mumbai Delhi Mumbai\n",
      "Badlapur Boys\n",
      "Main Aur Mr. Riight\n",
      "Ugly (film)\n",
      "PK (film)\n",
      "Dehraadun Diary\n",
      "Matru Ki Bijlee Ka Mandola\n",
      "Sulemani Keeda\n",
      "Inkaar (2013 film)\n",
      "Gangoobai\n",
      "Akaash Vani\n",
      "Main Krishna Hoon\n",
      "Race 2\n",
      "Bandook\n",
      "Listen... Amaya\n",
      "Special 26\n",
      "Murder 3\n",
      "Zila Ghaziabad\n",
      "Kai Po Che!\n",
      "Bloody Isshq\n",
      "Saare Jahaan Se Mehnga\n",
      "3G (film)\n",
      "Mere Dad Ki Maruti\n",
      "Jolly LLB\n",
      "Saheb Biwi Aur Gangster Returns\n",
      "Mai (2013 film)\n",
      "Vishwaroopam\n",
      "Rangrezz\n",
      "Aashiqui 2\n",
      "Ek Thi Daayan\n",
      "Himmatwala (2013 film)\n",
      "Nautanki Saala!\n",
      "Jayantabhai Ki Luv Story\n",
      "Commando: A One Man Army\n",
      "Bombay Talkies (film)\n",
      "Go Goa Gone\n",
      "Gippi\n",
      "Aurangzeb (film)\n",
      "Ishkq in Paris\n",
      "Zindagi 50-50\n",
      "Yeh Jawaani Hai Deewani\n",
      "Fukrey\n",
      "Chhota Bheem and the Throne of Bali\n",
      "Raanjhanaa\n",
      "Ankur Arora Murder Case\n",
      "Shortcut Romeo\n",
      "Ghanchakkar (film)\n",
      "Hum Hai Raahi Car Ke\n",
      "Policegiri\n",
      "Bhaag Milkha Bhaag\n",
      "Sixteen (2013 Indian film)\n",
      "B.A. Pass\n",
      "Enemmy\n",
      "Issaq\n",
      "Bajatey Raho\n",
      "Luv U Soniyo\n",
      "Nasha (film)\n",
      "Chor Chor Super Chor\n",
      "Calapor (film)\n",
      "Love in Bombay\n",
      "D-Day (2013 film)\n",
      "Siddharth (2013 film)\n",
      "Once Upon ay Time in Mumbai Dobaara!\n",
      "Madras Cafe\n",
      "Satyagraha (film)\n",
      "Shuddh Desi Romance\n",
      "Ramaiya Vastavaiya\n",
      "Chennai Express\n",
      "Grand Masti\n",
      "John Day (film)\n",
      "Horror Story (film)\n",
      "Phata Poster Nikhla Hero\n",
      "Ship of Theseus (film)\n",
      "The Lunchbox\n",
      "Baat Bann Gayi\n",
      "Boss (2013 Hindi film)\n",
      "Shahid (film)\n",
      "Mickey Virus\n",
      "Satya 2\n",
      "Rajjo\n",
      "Maazii\n",
      "Sooper Se Ooper\n",
      "Prague (2013 film)\n",
      "Wake Up India\n",
      "Super Model (film)\n",
      "Gori Tere Pyaar Mein\n",
      "What the Fish\n",
      "Jackpot (2013 film)\n",
      "Table No. 21\n",
      "Bullett Raja\n",
      "Dhoom 3\n",
      "Chashme Baddoor (2013 film)\n",
      "Lootera\n",
      "War Chhod Na Yaar\n",
      "Chaalis Chauraasi\n",
      "Ghost (2012 film)\n",
      "Sadda Adda\n",
      "Singh Saab the Great\n",
      "Goliyon Ki Raasleela Ram-Leela\n",
      "Agneepath (2012 film)\n",
      "Ek Main Aur Ekk Tu\n",
      "Ekk Deewana Tha\n",
      "?: A Question Mark\n",
      "Jodi Breakers\n",
      "Tere Naal Love Ho Gaya\n",
      "Staying Alive (2012 film)\n",
      "Paan Singh Tomar (film)\n",
      "Kahaani\n",
      "Zindagi Tere Naam\n",
      "Agent Vinod (2012 film)\n",
      "Blood Money (2012 film)\n",
      "Bumboo\n",
      "Valentine's Night\n",
      "Married 2 America\n",
      "Chaar Din Ki Chandni\n",
      "Bittoo Boss\n",
      "Vicky Donor\n",
      "Hate Story\n",
      "Tezz\n",
      "Dangerous Ishhq\n",
      "Ishaqzaade\n",
      "Department (film)\n",
      "Fatso!\n",
      "Arjun: The Warrior Prince\n",
      "Life Ki Toh Lag Gayi\n",
      "Shanghai (2012 film)\n",
      "Ferrari Ki Sawaari\n",
      "Teri Meri Kahaani (film)\n",
      "Mr. Bhatti on Chutti\n",
      "Yeh Khula Aasmaan\n",
      "Rakhtbeej\n",
      "Gangs of Wasseypur\n",
      "Gangs of Wasseypur – Part 2\n",
      "Cocktail (2012 film)\n",
      "Gattu\n",
      "Kyaa Super Kool Hain Hum\n",
      "Maximum (film)\n",
      "Paanch Ghantey Mien Paanch Crore\n",
      "Ek Tha Tiger\n",
      "Challo Driver\n",
      "Shirin Farhad Ki Toh Nikal Padi\n",
      "Joker (2012 film)\n",
      "Aalaap (film)\n",
      "Mere Dost Picture Abhi Baki Hai\n",
      "Krishna Aur Kans\n",
      "From Sydney with Love\n",
      "Jalpari: The Desert Mermaid\n",
      "Barfi!\n",
      "Heroine (2012 film)\n",
      "Chal Pichchur Banate Hain\n",
      "Kismat Love Paisa Dilli\n",
      "Jeena Hai Toh Thok Daal\n",
      "OMG – Oh My God!\n",
      "Aiyyaa\n",
      "Chittagong (film)\n",
      "Bhoot Returns\n",
      "Delhi Safari\n",
      "Chakravyuh (2012 film)\n",
      "Student of the Year\n",
      "Ajab Gazabb Love\n",
      "Rush (2012 film)\n",
      "1920: The Evil Returns\n",
      "Sons of Ram\n",
      "Ata Pata Laapata\n",
      "Jab Tak Hai Jaan\n",
      "Talaash: The Answer Lies Within\n",
      "Login (film)\n",
      "Son of Sardaar\n",
      "Cigarette Ki Tarah\n",
      "Dabangg 2\n",
      "Players (2012 film)\n",
      "Housefull 2\n",
      "Bol Bachchan\n",
      "English Vinglish\n",
      "Impatient Vivek\n",
      "Yamla Pagla Deewana\n",
      "Mumbai Mast Kallander\n",
      "Dhobi Ghat (film)\n",
      "Turning 30\n",
      "Hostel (2011 film)\n",
      "Dil Toh Baccha Hai Ji\n",
      "United Six\n",
      "Utt Pataang\n",
      "Patiala House (film)\n",
      "7 Khoon Maaf\n",
      "Tanu Weds Manu\n",
      "F.A.L.T.U\n",
      "Memories in March\n",
      "Thank You (2011 film)\n",
      "Angel (2011 film)\n",
      "Happy Husbands (2011 film)\n",
      "Teen Thay Bhai\n",
      "Dum Maaro Dum (film)\n",
      "Shor in the City\n",
      "Zokkomon\n",
      "Chalo Dilli\n",
      "Aashiqui.in\n",
      "Satrangee Parachute\n",
      "Monica (film)\n",
      "I Am (2010 Indian film)\n",
      "Naughty @ 40\n",
      "Haunted – 3D\n",
      "Love U...Mr. Kalakaar!\n",
      "Ragini MMS\n",
      "Stanley Ka Dabba\n",
      "Shagird (2011 film)\n",
      "404 (film)\n",
      "Shaitan (film)\n",
      "Pyaar Ka Punchnama\n",
      "Bheja Fry 2\n",
      "Always Kabhi Kabhi\n",
      "Double Dhamaal\n",
      "Bbuddah... Hoga Terra Baap\n",
      "Delhi Belly (film)\n",
      "Murder 2\n",
      "Chillar Party\n",
      "Zindagi Na Milegi Dobara\n",
      "Dear Friend Hitler\n",
      "I Am Kalam\n",
      "Bin Bulaye Baraati\n",
      "Kucch Luv Jaisaa\n",
      "Singham\n",
      "Khap (film)\n",
      "Bubble Gum (film)\n",
      "Shabri\n",
      "Phhir\n",
      "Aarakshan\n",
      "Chatur Singh Two Star\n",
      "Sahi Dhandhe Galat Bande\n",
      "Bodyguard (2011 Hindi film)\n",
      "Yeh Dooriyan\n",
      "Not a Love Story (2011 film)\n",
      "Hum Tum Shabana\n",
      "Mummy Punjabi\n",
      "Mere Brother Ki Dulhan\n",
      "Mausam (2011 film)\n",
      "U R My Jaan\n",
      "Force (2011 film)\n",
      "Saheb Biwi Aur Gangster\n",
      "Tere Mere Phere\n",
      "Breakaway (2011 film)\n",
      "Chargesheet (film)\n",
      "Love Breakups Zindagi\n",
      "Mujhse Fraaandship Karoge\n",
      "Aazaan\n",
      "Ra.One\n",
      "Rockstar (2011 film)\n",
      "Miley Naa Miley Hum\n",
      "Tell Me O Kkhuda\n",
      "Damadamm!\n",
      "Ladies vs Ricky Bahl\n",
      "Desi Boyz\n",
      "Game (2011 film)\n",
      "No One Killed Jessica\n",
      "Rascals (2011 film)\n",
      "The Dirty Picture\n",
      "Pyaar Impossible!\n",
      "Chance Pe Dance\n",
      "My Friend Pinto\n",
      "Veer (2010 film)\n",
      "Striker (2010 film)\n",
      "Rann (film)\n",
      "Ishqiya\n",
      "Road to Sangam\n",
      "Jo Hum Chahein\n",
      "Click (2010 film)\n",
      "Toh Baat Pakki!\n",
      "My Name Is Khan\n",
      "Teen Patti (film)\n",
      "Karthik Calling Karthik\n",
      "Don 2\n",
      "Rokkk\n",
      "Aakhari Decision\n",
      "Right Yaaa Wrong\n",
      "Sukhmani: Hope for Life\n",
      "Thanks Maa\n",
      "Na Ghar Ke Na Ghaat Ke\n",
      "Trump Card (film)\n",
      "Shaapit\n",
      "Hum Tum Aur Ghost\n",
      "Well Done Abba\n",
      "Tum Milo Toh Sahi\n",
      "Jaane Kahan Se Aayi Hai\n",
      "Prem Kaa Game\n",
      "Sadiyaan\n",
      "The Japanese Wife\n",
      "Paathshaala\n",
      "Phoonk 2\n",
      "Lahore (film)\n",
      "Apartment (film)\n",
      "City of Gold (2010 film)\n",
      "Chase (2010 film)\n",
      "Housefull (2010 film)\n",
      "Mittal v/s Mittal\n",
      "It's a Wonderful Afterlife\n",
      "Prince (2010 film)\n",
      "Raavan\n",
      "Bumm Bumm Bole\n",
      "Kushti (film)\n",
      "Kites (film)\n",
      "Love Sex Aur Dhokha\n",
      "Milenge Milenge\n",
      "Ek Second... Jo Zindagi Badal De?\n",
      "Mr. Singh Mrs. Mehta\n",
      "Lamhaa\n",
      "Khatta Meetha (2010 film)\n",
      "Tere Bin Laden\n",
      "Udaan (2010 film)\n",
      "Once Upon a Time in Mumbaai\n",
      "Help (film)\n",
      "Peepli Live\n",
      "Lafangey Parindey\n",
      "Hello Darling\n",
      "Antardwand\n",
      "Aashayein\n",
      "Soch Lo\n",
      "Dabangg\n",
      "Khichdi: The Movie\n",
      "Red Alert: The War Within\n",
      "Life Express (2010 film)\n",
      "The Film Emotional Atyachar\n",
      "Hisss\n",
      "Crook (film)\n",
      "Do Dooni Chaar\n",
      "Aakrosh (2010 film)\n",
      "Ramayana: The Epic\n",
      "Knock Out (2010 film)\n",
      "Jhootha Hi Sahi\n",
      "Guzaarish (film)\n",
      "Allah Ke Banday\n",
      "Break Ke Baad\n",
      "Khuda Kasam\n",
      "Phas Gaye Re Obama\n",
      "Malik Ek\n",
      "A Flat (film)\n",
      "No Problem (2010 film)\n",
      "Band Baaja Baaraat\n",
      "Kaalo\n",
      "Mirch\n",
      "Tees Maar Khan (2010 film)\n",
      "Isi Life Mein\n",
      "Toonpur Ka Super Hero\n",
      "Tera Kya Hoga Johnny\n",
      "Ramaa: The Saviour\n",
      "I Hate Luv Storys\n",
      "Dulha Mil Gaya\n",
      "Anjaana Anjaani\n",
      "Dunno Y... Na Jaane Kyon\n",
      "Pankh\n",
      "Action Replayy\n",
      "3 Idiots\n",
      "Luck by Chance\n",
      "Love Aaj Kal\n",
      "Wanted (2009 film)\n",
      "Delhi-6\n",
      "Raaz: The Mystery Continues\n",
      "Aasma: The Sky Is the Limit\n",
      "Ajab Prem Ki Ghazab Kahani\n",
      "Chal Chala Chal\n",
      "Billu\n",
      "The Stoneman Murders\n",
      "Kisse Pyaar Karoon\n",
      "Dhoondte Reh Jaaoge\n",
      "Karma Aur Holi\n",
      "Victory (2009 film)\n",
      "Kaminey\n",
      "Jai Veeru\n",
      "Little Zizou\n",
      "Gulaal (film)\n",
      "Aloo Chaat (film)\n",
      "Barah Aana\n",
      "Firaaq\n",
      "Aa Dekhen Zara\n",
      "99 (2009 film)\n",
      "Ek: The Power of One\n",
      "Ek Se Bure Do\n",
      "Sikandar (2009 film)\n",
      "Zor Lagaa Ke...Haiya!\n",
      "Paying Guests\n",
      "New York (2009 film)\n",
      "Sankat City\n",
      "Shortkut\n",
      "Luck (2009 film)\n",
      "Life Partner\n",
      "Daddy Cool (2009 Hindi film)\n",
      "Kisaan\n",
      "Yeh Mera India\n",
      "Aagey Se Right\n",
      "Chintu Ji\n",
      "Quick Gun Murugun\n",
      "Fox (film)\n",
      "Baabarr\n",
      "Phir Kabhi\n",
      "Vaada Raha\n",
      "Dil Bole Hadippa!\n",
      "What's Your Raashee?\n",
      "Acid Factory\n",
      "All the Best: Fun Begins\n",
      "Wake Up Sid\n",
      "Main Aurr Mrs Khanna\n",
      "Blue (2009 film)\n",
      "Fruit and Nut (film)\n",
      "Aladin (film)\n",
      "London Dreams\n",
      "Jail (2009 film)\n",
      "Tum Mile\n",
      "Kurbaan (2009 film)\n",
      "De Dana Dan\n",
      "Paa (film)\n",
      "Rocket Singh: Salesman of the Year\n",
      "Raat Gayi Baat Gayi?\n",
      "Accident on Hill Road\n",
      "Chandni Chowk to China\n",
      "Dostana (2008 film)\n",
      "Race (2008 film)\n",
      "Rab Ne Bana Di Jodi\n",
      "Ghajini (2008 film)\n",
      "Singh Is Kinng\n",
      "Golmaal Returns\n",
      "Jodhaa Akbar\n",
      "Bachna Ae Haseeno\n",
      "Bhoothnath\n",
      "Sarkar Raj\n",
      "Halla Bol\n",
      "Humne Jeena Seekh Liya\n",
      "Bombay to Bangkok\n",
      "Tulsi (film)\n",
      "Sunday (2008 film)\n",
      "One Two Three\n",
      "Krazzy 4\n",
      "U Me Aur Hum\n",
      "Sirf (film)\n",
      "Tashan (film)\n",
      "Anamika (2008 film)\n",
      "Jimmy (2008 film)\n",
      "Jannat (film)\n",
      "Don Muthu Swami\n",
      "Woodstock Villa\n",
      "Mere Baap Pehle Aap\n",
      "Summer 2007\n",
      "De Taali\n",
      "Haal-e-Dil\n",
      "Thodi Life Thoda Magic\n",
      "Thoda Pyaar Thoda Magic\n",
      "Via Darjeeling\n",
      "Kismat Konnection\n",
      "Love Story 2050\n",
      "Contract (2008 film)\n",
      "Mission Istaanbul\n",
      "Money Hai Toh Honey Hai\n",
      "God Tussi Great Ho\n",
      "Mumbai Meri Jaan\n",
      "Maan Gaye Mughal-e-Azam\n",
      "Rock On!!\n",
      "C Kkompany\n",
      "Chamku\n",
      "Mukhbiir\n",
      "Tahaan\n",
      "1920 (film)\n",
      "The Last Lear\n",
      "Welcome to Sajjanpur\n",
      "Saas Bahu Aur Sensex\n",
      "Hari Puttar: A Comedy of Terrors\n",
      "Drona (2008 film)\n",
      "Hello (2008 film)\n",
      "Karzzzz\n",
      "Heroes (2008 film)\n",
      "Roadside Romeo\n",
      "Ek Vivaah... Aisa Bhi\n",
      "Deshdrohi\n",
      "Fashion (2008 film)\n",
      "Dasvidaniya\n",
      "Yuvvraaj\n",
      "Oye Lucky! Lucky Oye!\n",
      "Oh My God (2008 film)\n",
      "Sorry Bhai!\n",
      "1971 (2007 film)\n",
      "Meerabai Not Out\n",
      "Wafa: A Deadly Love Story\n",
      "Gumnaam – The Mystery\n",
      "Dil Kabaddi\n",
      "Aag (2007 film)\n",
      "Aap Kaa Surroor\n",
      "Aggar (film)\n",
      "Anwar (2007 film)\n",
      "Aaja Nachle\n",
      "Apne\n",
      "Awarapan\n",
      "Bheja Fry (film)\n",
      "Bhool Bhulaiyaa\n",
      "Bhram\n",
      "Big Brother (2007 film)\n",
      "68 Pages\n",
      "Aur Pappu Paas Ho Gaya\n",
      "Apna Asmaan\n",
      "Black Friday (2007 film)\n",
      "The Blue Umbrella (2005 film)\n",
      "Blood Brothers (2007 Indian film)\n",
      "Buddha Mar Gaya\n",
      "Cash (2007 film)\n",
      "Cheeni Kum\n",
      "Chhodon Naa Yaar\n",
      "Darling (2007 Indian film)\n",
      "Chak De! India\n",
      "Dhamaal\n",
      "Goal (2007 Hindi film)\n",
      "Dharm (film)\n",
      "Bombay to Goa (2007 film)\n",
      "Dhokha\n",
      "Dil Dosti Etc\n",
      "Dhol (film)\n",
      "Ek Chalis Ki Last Local\n",
      "Familywala\n",
      "Gandhi My Father\n",
      "Don't Stop Dreaming\n",
      "Dus Kahaniyaan\n",
      "Eklavya: The Royal Guard\n",
      "Go (2007 film)\n",
      "Gauri: The Unborn\n",
      "Heyy Babyy\n",
      "Guru (2007 film)\n",
      "Honeymoon Travels Pvt. Ltd.\n",
      "Jahan Jaaeyega Hamen Paaeyega\n",
      "Jhoom Barabar Jhoom\n",
      "Jab We Met\n",
      "Good Boy Bad Boy\n",
      "Fool & Final\n",
      "Khoya Khoya Chand\n",
      "Johnny Gaddaar\n",
      "Just Married (2007 film)\n",
      "Kya Love Story Hai\n",
      "Kudiyon Ka Hai Zamana\n",
      "Hastey Hastey\n",
      "Laaga Chunari Mein Daag\n",
      "Life in a... Metro\n",
      "Loins of Punjab Presents\n",
      "Manorama Six Feet Under\n",
      "Marigold (2007 film)\n",
      "MP3: Mera Pehla Pehla Pyaar\n",
      "Hattrick (film)\n",
      "Naqaab\n",
      "Mumbai Salsa\n",
      "The Namesake (film)\n",
      "Namastey London\n",
      "My Bollywood Bride\n",
      "Nehlle Pe Dehlla\n",
      "Nishabd\n",
      "No Smoking (2007 film)\n",
      "Om Shanti Om\n",
      "Partner (2007 film)\n",
      "Raqeeb\n",
      "Nanhe Jaisalmer\n",
      "Life Mein Kabhie Kabhiee\n",
      "Risk (2007 film)\n",
      "Shakalaka Boom Boom\n",
      "Red Swastik\n",
      "Salaam-e-Ishq: A Tribute to Love\n",
      "Saawariya\n",
      "Sarhad Paar\n",
      "Say Salaam India\n",
      "Red: The Dark Side\n",
      "Shootout at Lokhandwala\n",
      "Strangers (2007 Hindi film)\n",
      "Swami (2007 film)\n",
      "Taare Zameen Par\n",
      "Ta Ra Rum Pum\n",
      "Speed (2007 film)\n",
      "Traffic Signal (film)\n",
      "The Train (2007 film)\n",
      "Showbiz (film)\n",
      "Sunglass (film)\n",
      "Welcome (2007 film)\n",
      "36 China Town\n",
      "Zamaanat\n",
      "Aap Ki Khatir (2006 film)\n",
      "Ahista Ahista (2006 film)\n",
      "Aksar\n",
      "Alag\n",
      "Anthony Kaun Hai?\n",
      "Apna Sapna Money Money\n",
      "Ankahee (2006 film)\n",
      "Yatra (2007 film)\n",
      "Baabul (2006 film)\n",
      "Aisa Kyon Hota Hai?\n",
      "Adharm (2006 film)\n",
      "Being Cyrus\n",
      "Banaras (2006 film)\n",
      "Bas Ek Pal\n",
      "Bhagam Bhag\n",
      "Chingaari\n",
      "Bhoot Unkle\n",
      "Chand Ke Paar Chalo (film)\n",
      "Aryan: Unbreakable\n",
      "Chup Chup Ke\n",
      "Corporate (2006 film)\n",
      "Darna Zaroori Hai\n",
      "Deadline: Sirf 24 Ghante\n",
      "Dil Diya Hai\n",
      "Darwaaza Bandh Rakho\n",
      "Eight: The Power of Shani\n",
      "Dhoom 2\n",
      "Dor (film)\n",
      "Don (2006 Hindi film)\n",
      "Family (2006 film)\n",
      "Fanaa (2006 film)\n",
      "Gangster (2006 film)\n",
      "Golmaal: Fun Unlimited\n",
      "Devaki (2005 film)\n",
      "Fight Club – Members Only\n",
      "Dharti Kahe Pukar Ke (2006 film)\n",
      "Humko Deewana Kar Gaye\n",
      "Humko Tumse Pyaar Hai\n",
      "I See You (2006 film)\n",
      "Jaane Hoga Kya\n",
      "Jaan-E-Mann\n",
      "Jawani Diwani: A Youthful Joyride\n",
      "Holiday (2006 film)\n",
      "Iqraar by Chance\n",
      "Khosla Ka Ghosla\n",
      "Kabhi Alvida Naa Kehna\n",
      "Love Ke Chakkar Mein\n",
      "Lage Raho Munna Bhai\n",
      "Kabul Express\n",
      "Jigyaasa\n",
      "Krrish\n",
      "Malamaal Weekly\n",
      "Omkara (2006 film)\n",
      "Pyaar Ke Side Effects\n",
      "Naksha\n",
      "Phir Hera Pheri\n",
      "Pyare Mohan\n",
      "Mere Jeevan Saathi (2006 film)\n",
      "Prateeksha\n",
      "Sacred Evil – A True Story\n",
      "Rang De Basanti\n",
      "Shaadi Karke Phas Gaya Yaar\n",
      "Sandwich (2006 film)\n",
      "Shaadi Se Pehle\n",
      "Saawan... The Love Season\n",
      "Shiva (2006 film)\n",
      "Souten: The Other Woman\n",
      "Shikhar (film)\n",
      "Children of Heaven\n",
      "Tathastu\n",
      "The Killer (2006 film)\n",
      "Umrao Jaan (2006 film)\n",
      "Taxi No. 9211\n",
      "Teesri Aankh: The Hidden Camera\n",
      "Vivah\n",
      "Utthaan\n",
      "Waris Shah: Ishq Daa Waaris\n",
      "Woh Lamhe...\n",
      "Yun Hota Toh Kya Hota\n",
      "Umar (film)\n",
      "Zindaggi Rocks\n",
      "Tom Dick and Harry (2006 film)\n",
      "Aashiq Banaya Aapne\n",
      "Anjaane (2005 film)\n",
      "Apaharan\n",
      "Bachke Rehna Re Baba\n",
      "7½ Phere\n",
      "Barsaat (2005 film)\n",
      "Bewafaa (2005 film)\n",
      "Black (2005 film)\n",
      "Zinda (film)\n",
      "Bluffmaster!\n",
      "99.9 FM (film)\n",
      "Bhola in Bollywood\n",
      "Bhagmati (2005 film)\n",
      "Blackmail (2005 film)\n",
      "Bunty Aur Babli\n",
      "Chaahat – Ek Nasha\n",
      "Chetna: The Excitement\n",
      "Chand Sa Roshan Chehra\n",
      "Chocolate (2005 film)\n",
      "D (film)\n",
      "Deewane Huye Paagal\n",
      "Bullet: Ek Dhamaka\n",
      "Chehraa\n",
      "Dil Jo Bhi Kahey...\n",
      "Dosti: Friends Forever\n",
      "Classic – Dance of Love\n",
      "Dus\n",
      "Elaan (2005 film)\n",
      "Fareb (2005 film)\n",
      "Ek Ajnabee\n",
      "Fun – Can Be Dangerous Sometimes\n",
      "Ek Khiladi Ek Haseena (film)\n",
      "Double Cross (2005 film)\n",
      "Dreams (2006 film)\n",
      "Home Delivery\n",
      "Garam Masala (2005 film)\n",
      "Iqbal (film)\n",
      "Jai Chiranjeeva\n",
      "Hazaaron Khwaishein Aisi\n",
      "Insan\n",
      "Jo Bole So Nihaal (film)\n",
      "Karam (film)\n",
      "Kaal (2005 film)\n",
      "Kalyug (2005 film)\n",
      "Kasak (2005 film)\n",
      "Hanuman (2005 film)\n",
      "James (2005 film)\n",
      "Kisna: The Warrior Poet\n",
      "Koi Aap Sa\n",
      "Khamoshh... Khauff Ki Raat\n",
      "Jurm (2005 film)\n",
      "Kuchh Meetha Ho Jaye\n",
      "Kyaa Kool Hai Hum\n",
      "Lucky: No Time for Love\n",
      "Main Aisa Hi Hoon\n",
      "Kyon Ki\n",
      "Main Meri Patni Aur Woh\n",
      "Maine Gandhi Ko Nahin Mara\n",
      "Maine Pyaar Kyun Kiya?\n",
      "Mangal Pandey: The Rising\n",
      "Koi Mere Dil Mein Hai\n",
      "Mr Prime Minister\n",
      "My Brother…Nikhil\n",
      "My Wife's Murder\n",
      "Naina (2005 film)\n",
      "Neal 'n' Nikki\n",
      "No Entry\n",
      "Padmashree Laloo Prasad Yadav\n",
      "Page 3 (film)\n",
      "Morning Raga\n",
      "Parineeta (2005 film)\n",
      "Pehchaan: The Face of Truth\n",
      "Paheli\n",
      "Rog\n",
      "Pyaar Mein Twist\n",
      "Salaam Namaste\n",
      "Revati (film)\n",
      "Sarkar (2005 film)\n",
      "Sehar\n",
      "Shabd (film)\n",
      "Shabnam Mausi\n",
      "Sheesha (2005 film)\n",
      "Ramji Londonwaley\n",
      "Silsiilay\n",
      "Socha Na Tha\n",
      "Taj Mahal: An Eternal Love Story\n",
      "Tango Charlie\n",
      "The Film\n",
      "Vaada (film)\n",
      "Vaah! Life Ho Toh Aisi!\n",
      "Ssukh\n",
      "Shaadi No. 1\n",
      "Viruddh... Family Comes First\n",
      "Waqt: The Race Against Time\n",
      "Vidyaarthi\n",
      "Yakeen (2005 film)\n",
      "Zeher\n",
      "Veer-Zaara\n",
      "Main Hoon Na\n",
      "Zameer: The Fire Within\n",
      "Mujhse Shaadi Karogi\n",
      "Dhoom\n",
      "Khakee\n",
      "Hum Tum\n",
      "Hulchul (2004 film)\n",
      "Murder (2004 film)\n",
      "Yuva\n",
      "Aitraaz\n",
      "Aetbaar\n",
      "Ab Tumhare Hawale Watan Saathiyo\n",
      "Aan: Men at Work\n",
      "Bardaasht\n",
      "Chameli (film)\n",
      "Agnipankh\n",
      "Asambhav\n",
      "Charas (2004 film)\n",
      "Deewaar (2004 film)\n",
      "Dev (2004 film)\n",
      "Dil Maange More\n",
      "Dil Ne Jise Apna Kahaa\n",
      "Dobara\n",
      "Aabra Ka Daabra\n",
      "Dil Bechara Pyaar Ka Maara\n",
      "Gayab\n",
      "Fida\n",
      "Garv: Pride & Honour\n",
      "Ek Se Badhkar Ek (2004 film)\n",
      "Ek Hasina Thi (film)\n",
      "Girlfriend (2004 film)\n",
      "Hatya (2004 film)\n",
      "Hava Aney Dey\n",
      "Hawas (2004 film)\n",
      "Hyderabad Blues 2\n",
      "Julie (2004 film)\n",
      "Kaun Hai Jo Sapno Mein Aaya\n",
      "Inteqam: The Perfect Game\n",
      "Kis Kis Ki Kismat\n",
      "Insaaf: The Justice\n",
      "I Proud to Be an Indian\n",
      "Khamosh Pani\n",
      "Kismat (2004 film)\n",
      "Lakeer – Forbidden Lines\n",
      "Krishna Cottage\n",
      "Kyun! Ho Gaya Na...\n",
      "Madhoshi\n",
      "Lakshya (film)\n",
      "Ishq Hai Tumse\n",
      "Maqbool\n",
      "Masti (2004 film)\n",
      "Meenaxi: A Tale of Three Cities\n",
      "Musafir (2004 film)\n",
      "Mughal-e-Azam\n",
      "Muskaan\n",
      "Meri Biwi Ka Jawaab Nahin\n",
      "Naach (2004 film)\n",
      "Netaji Subhas Chandra Bose: The Forgotten Hero\n",
      "Paap\n",
      "Phir Milenge\n",
      "Plan (film)\n",
      "Police Force: An Inside Story\n",
      "Paisa Vasool\n",
      "Popcorn Khao! Mast Ho Jao\n",
      "Rakht\n",
      "Raincoat (film)\n",
      "Rudraksh (film)\n",
      "Shaadi Ka Laddoo\n",
      "Run (2004 film)\n",
      "Rok Sako To Rok Lo\n",
      "Suno Sasurjee\n",
      "Swades\n",
      "Taarzan: The Wonder Car\n",
      "Nothing but Life\n",
      "Shart: The Challenge\n",
      "Tumsa Nahin Dekha: A Love Story\n",
      "Vaastu Shastra (film)\n",
      "Yeh Lamhe Judaai Ke\n",
      "Sheen (film)\n",
      "Dude Where's the Party?\n",
      "Thoda Tum Badlo Thoda Hum\n",
      "Koi... Mil Gaya\n",
      "Kal Ho Naa Ho\n",
      "Shukriya: Till Death Do Us Apart\n",
      "Chalte Chalte (2003 film)\n",
      "The Hero: Love Story of a Spy\n",
      "Baghban (2003 film)\n",
      "Main Prem Ki Diwani Hoon\n",
      "LOC Kargil\n",
      "Border (1997 film)\n",
      "Munna Bhai M.B.B.S.\n",
      "Qayamat: City Under Threat\n",
      "88 Antop Hill\n",
      "3 Deewarein\n",
      "Aanch\n",
      "Aapko Pehle Bhi Kahin Dekha Hai\n",
      "Bhoot (film)\n",
      "Boom (film)\n",
      "Aaj Ka Andha Kanoon\n",
      "Andaaz\n",
      "Andaaz\n",
      "Armaan (2003 film)\n",
      "Chori Chori (2003 film)\n",
      "Calcutta Mail\n",
      "Baaz: A Bird in Danger\n",
      "Basti (film)\n",
      "Magic Magic 3D\n",
      "Dil Ka Rishta\n",
      "Darna Mana Hai\n",
      "Dhoop\n",
      "Dhund (2003 film)\n",
      "Chura Liyaa Hai Tumne\n",
      "The Bypass\n",
      "Dum (2003 Hindi film)\n",
      "Dil Pardesi Ho Gayaa\n",
      "Ek Alag Mausam\n",
      "Footpath (2003 film)\n",
      "Escape from Taliban\n",
      "Ek Din 24 Ghante\n",
      "Gangaajal\n",
      "Hawa (film)\n",
      "Haasil\n",
      "Ek Aur Ek Gyarah\n",
      "Hungama (2003 film)\n",
      "Green Card Fever\n",
      "Flavors (film)\n",
      "Indian Babu\n",
      "Fun2shh... Dudes in the 10th Century\n",
      "Inteha (2003 film)\n",
      "Jaal: The Trap\n",
      "Ishq Vishk\n",
      "Hawayein\n",
      "Jajantaram Mamantaram\n",
      "Jism (2003 film)\n",
      "Jhankaar Beats\n",
      "Kagaar: Life on the Edge\n",
      "Kash Aap Hamare Hote\n",
      "Khel – No Ordinary Game\n",
      "Janasheen\n",
      "Kaise Kahoon Ke... Pyaar Hai\n",
      "Khushi (2003 Hindi film)\n",
      "Khwahish\n",
      "Kucch To Hai\n",
      "Kuch Naa Kaho\n",
      "Main Madhuri Dixit Banna Chahti Hoon\n",
      "Joggers' Park (film)\n",
      "Market (2003 film)\n",
      "Om (2003 film)\n",
      "Out of Control (2003 film)\n",
      "Mumbai Matinee\n",
      "Matrubhoomi\n",
      "Parwana (2003 film)\n",
      "Pinjar (film)\n",
      "Mumbai Se Aaya Mera Dost\n",
      "Saaya (2003 film)\n",
      "Samay: When Time Strikes\n",
      "Nayee Padosan\n",
      "Satta (film)\n",
      "Sssshhh...\n",
      "Praan Jaye Par Shaan Na Jaye\n",
      "Raghu Romeo\n",
      "Stumped (film)\n",
      "Rules: Pyaar Ka Superhit Formula\n",
      "Right Here Right Now (film)\n",
      "Raja Bhaiya (film)\n",
      "Tere Naam\n",
      "Tujhe Meri Kasam\n",
      "Talaash: The Hunt Begins...\n",
      "Tehzeeb (2003 film)\n",
      "The Pink Mirror\n",
      "Yeh Dil\n",
      "Xcuse Me\n",
      "Raaz (2002 film)\n",
      "Zameen (2003 film)\n",
      "Waisa Bhi Hota Hai Part II\n",
      "Devdas (2002 Hindi film)\n",
      "Kaante\n",
      "Hum Tumhare Hain Sanam\n",
      "Aankhen (2002 film)\n",
      "Saathiya (film)\n",
      "Company (film)\n",
      "Awara Paagal Deewana\n"
     ]
    }
   ],
   "source": [
    "for i in df.index:\n",
    "    print(i)"
   ]
  },
  {
   "cell_type": "code",
   "execution_count": 48,
   "id": "3ec1e36d",
   "metadata": {},
   "outputs": [
    {
     "data": {
      "application/vnd.microsoft.datawrangler.viewer.v0+json": {
       "columns": [
        {
         "name": "index",
         "rawType": "object",
         "type": "string"
        },
        {
         "name": "stupid",
         "rawType": "int64",
         "type": "integer"
        }
       ],
       "ref": "862b564e-b7d1-4be8-b6d6-0efae5f890ba",
       "rows": [
        [
         "maths",
         "33"
        ],
        [
         "english",
         "43"
        ],
        [
         "science",
         "11"
        ],
        [
         "hindi",
         "0"
        ]
       ],
       "shape": {
        "columns": 1,
        "rows": 4
       }
      },
      "text/plain": [
       "maths      33\n",
       "english    43\n",
       "science    11\n",
       "hindi       0\n",
       "Name: stupid, dtype: int64"
      ]
     },
     "execution_count": 48,
     "metadata": {},
     "output_type": "execute_result"
    }
   ],
   "source": [
    "#broadcasting\n",
    "100 - mk_series"
   ]
  },
  {
   "cell_type": "code",
   "execution_count": 49,
   "id": "b8afd0f5",
   "metadata": {},
   "outputs": [
    {
     "data": {
      "application/vnd.microsoft.datawrangler.viewer.v0+json": {
       "columns": [
        {
         "name": "index",
         "rawType": "int64",
         "type": "integer"
        },
        {
         "name": "runs",
         "rawType": "bool",
         "type": "boolean"
        }
       ],
       "ref": "39eca7c9-12a2-4b8f-b72f-d6e575f1bc8e",
       "rows": [
        [
         "0",
         "False"
        ],
        [
         "1",
         "False"
        ],
        [
         "2",
         "True"
        ],
        [
         "3",
         "True"
        ],
        [
         "4",
         "False"
        ],
        [
         "5",
         "False"
        ],
        [
         "6",
         "False"
        ],
        [
         "7",
         "False"
        ],
        [
         "8",
         "False"
        ],
        [
         "9",
         "False"
        ],
        [
         "10",
         "False"
        ],
        [
         "11",
         "False"
        ],
        [
         "12",
         "False"
        ],
        [
         "13",
         "False"
        ],
        [
         "14",
         "True"
        ],
        [
         "15",
         "False"
        ],
        [
         "16",
         "False"
        ],
        [
         "17",
         "False"
        ],
        [
         "18",
         "False"
        ],
        [
         "19",
         "False"
        ],
        [
         "20",
         "False"
        ],
        [
         "21",
         "False"
        ],
        [
         "22",
         "False"
        ],
        [
         "23",
         "False"
        ],
        [
         "24",
         "False"
        ],
        [
         "25",
         "False"
        ],
        [
         "26",
         "False"
        ],
        [
         "27",
         "False"
        ],
        [
         "28",
         "False"
        ],
        [
         "29",
         "False"
        ],
        [
         "30",
         "False"
        ],
        [
         "31",
         "False"
        ],
        [
         "32",
         "False"
        ],
        [
         "33",
         "True"
        ],
        [
         "34",
         "False"
        ],
        [
         "35",
         "False"
        ],
        [
         "36",
         "False"
        ],
        [
         "37",
         "False"
        ],
        [
         "38",
         "False"
        ],
        [
         "39",
         "False"
        ],
        [
         "40",
         "True"
        ],
        [
         "41",
         "False"
        ],
        [
         "42",
         "False"
        ],
        [
         "43",
         "True"
        ],
        [
         "44",
         "True"
        ],
        [
         "45",
         "False"
        ],
        [
         "46",
         "False"
        ],
        [
         "47",
         "False"
        ],
        [
         "48",
         "False"
        ],
        [
         "49",
         "False"
        ]
       ],
       "shape": {
        "columns": 1,
        "rows": 215
       }
      },
      "text/plain": [
       "0      False\n",
       "1      False\n",
       "2       True\n",
       "3       True\n",
       "4      False\n",
       "       ...  \n",
       "210    False\n",
       "211    False\n",
       "212     True\n",
       "213    False\n",
       "214    False\n",
       "Name: runs, Length: 215, dtype: bool"
      ]
     },
     "execution_count": 49,
     "metadata": {},
     "output_type": "execute_result"
    }
   ],
   "source": [
    "#relational operator\n",
    "run >=50"
   ]
  },
  {
   "cell_type": "code",
   "execution_count": 50,
   "id": "87ae00fc",
   "metadata": {},
   "outputs": [
    {
     "data": {
      "text/plain": [
       "52"
      ]
     },
     "execution_count": 50,
     "metadata": {},
     "output_type": "execute_result"
    }
   ],
   "source": [
    "run[run>=50].size"
   ]
  },
  {
   "cell_type": "code",
   "execution_count": 51,
   "id": "6f24260d",
   "metadata": {},
   "outputs": [
    {
     "data": {
      "application/vnd.microsoft.datawrangler.viewer.v0+json": {
       "columns": [
        {
         "name": "index",
         "rawType": "object",
         "type": "unknown"
        },
        {
         "name": "count",
         "rawType": "int64",
         "type": "integer"
        }
       ],
       "ref": "e29ed8d3-3eec-4cf0-b2c5-7be96e134d36",
       "rows": [
        [
         "('Akshay Kumar',)",
         "48"
        ],
        [
         "('Amitabh Bachchan',)",
         "45"
        ],
        [
         "('Ajay Devgn',)",
         "38"
        ],
        [
         "('Salman Khan',)",
         "31"
        ],
        [
         "('Sanjay Dutt',)",
         "26"
        ],
        [
         "('Shah Rukh Khan',)",
         "22"
        ],
        [
         "('Emraan Hashmi',)",
         "21"
        ],
        [
         "('John Abraham',)",
         "18"
        ],
        [
         "('Saif Ali Khan',)",
         "18"
        ],
        [
         "('Sunny Deol',)",
         "17"
        ],
        [
         "('Shahid Kapoor',)",
         "17"
        ],
        [
         "('Jimmy Sheirgill',)",
         "16"
        ],
        [
         "('Tusshar Kapoor',)",
         "16"
        ],
        [
         "('Irrfan Khan',)",
         "14"
        ],
        [
         "('Manoj Bajpayee',)",
         "14"
        ],
        [
         "('Arjun Rampal',)",
         "14"
        ],
        [
         "('Anupam Kher',)",
         "13"
        ],
        [
         "('Ayushmann Khurrana',)",
         "12"
        ],
        [
         "('Hrithik Roshan',)",
         "12"
        ],
        [
         "('Naseeruddin Shah',)",
         "12"
        ],
        [
         "('Kangana Ranaut',)",
         "12"
        ],
        [
         "('Anil Kapoor',)",
         "11"
        ],
        [
         "('Rishi Kapoor',)",
         "11"
        ],
        [
         "('Rajkummar Rao',)",
         "11"
        ],
        [
         "('Ranbir Kapoor',)",
         "11"
        ],
        [
         "('Aftab Shivdasani',)",
         "11"
        ],
        [
         "('Nawazuddin Siddiqui',)",
         "11"
        ],
        [
         "('Vinay Pathak',)",
         "11"
        ],
        [
         "('Kay Kay Menon',)",
         "11"
        ],
        [
         "('Arshad Warsi',)",
         "10"
        ],
        [
         "('Vivek Oberoi',)",
         "10"
        ],
        [
         "('Abhishek Bachchan',)",
         "10"
        ],
        [
         "('Aamir Khan',)",
         "10"
        ],
        [
         "('Ranveer Singh',)",
         "9"
        ],
        [
         "('Bobby Deol',)",
         "9"
        ],
        [
         "('Bipasha Basu',)",
         "8"
        ],
        [
         "('Mithun Chakraborty',)",
         "8"
        ],
        [
         "('Paresh Rawal',)",
         "8"
        ],
        [
         "('Rani Mukerji',)",
         "8"
        ],
        [
         "('Shreyas Talpade',)",
         "8"
        ],
        [
         "('Sharman Joshi',)",
         "8"
        ],
        [
         "('Fardeen Khan',)",
         "8"
        ],
        [
         "('Rekha',)",
         "7"
        ],
        [
         "('Riteish Deshmukh',)",
         "7"
        ],
        [
         "('Priyanka Chopra',)",
         "7"
        ],
        [
         "('Sidharth Malhotra',)",
         "7"
        ],
        [
         "('Sunil Shetty',)",
         "7"
        ],
        [
         "('Nana Patekar',)",
         "7"
        ],
        [
         "('Abhay Deol',)",
         "7"
        ],
        [
         "('Akshaye Khanna',)",
         "7"
        ]
       ],
       "shape": {
        "columns": 1,
        "rows": 566
       }
      },
      "text/plain": [
       "lead            \n",
       "Akshay Kumar        48\n",
       "Amitabh Bachchan    45\n",
       "Ajay Devgn          38\n",
       "Salman Khan         31\n",
       "Sanjay Dutt         26\n",
       "                    ..\n",
       "Aashish Bhatt        1\n",
       "Abhimanyu Dasani     1\n",
       "Abhishek Bharate     1\n",
       "Adhvik Mahajan       1\n",
       "Aditya Narayan       1\n",
       "Name: count, Length: 566, dtype: int64"
      ]
     },
     "execution_count": 51,
     "metadata": {},
     "output_type": "execute_result"
    }
   ],
   "source": [
    "#find the actor who have done more than 20 movies\n",
    "num_movies=df.value_counts()\n",
    "num_movies"
   ]
  },
  {
   "cell_type": "code",
   "execution_count": 52,
   "id": "e7787409",
   "metadata": {},
   "outputs": [
    {
     "data": {
      "text/plain": [
       "7"
      ]
     },
     "execution_count": 52,
     "metadata": {},
     "output_type": "execute_result"
    }
   ],
   "source": [
    "num_movies[num_movies>=20].size"
   ]
  },
  {
   "cell_type": "markdown",
   "id": "4b9885b0",
   "metadata": {},
   "source": [
    "Plotting Graps on Series"
   ]
  },
  {
   "cell_type": "code",
   "execution_count": 53,
   "id": "75ba594a",
   "metadata": {},
   "outputs": [
    {
     "data": {
      "text/plain": [
       "<Axes: >"
      ]
     },
     "execution_count": 53,
     "metadata": {},
     "output_type": "execute_result"
    },
    {
     "data": {
      "image/png": "[encoded data removed]",
      "text/plain": [
       "<Figure size 640x480 with 1 Axes>"
      ]
     },
     "metadata": {},
     "output_type": "display_data"
    }
   ],
   "source": [
    "df3.plot()"
   ]
  },
  {
   "cell_type": "code",
   "execution_count": 54,
   "id": "a88ed10d",
   "metadata": {},
   "outputs": [
    {
     "data": {
      "text/plain": [
       "<Axes: xlabel='lead'>"
      ]
     },
     "execution_count": 54,
     "metadata": {},
     "output_type": "execute_result"
    },
    {
     "data": {
      "image/png": "[encoded data removed]",
      "text/plain": [
       "<Figure size 640x480 with 1 Axes>"
      ]
     },
     "metadata": {},
     "output_type": "display_data"
    }
   ],
   "source": [
    "df.value_counts().head(20).plot(kind='bar')"
   ]
  },
  {
   "cell_type": "code",
   "execution_count": 55,
   "id": "c76cea3f",
   "metadata": {},
   "outputs": [
    {
     "data": {
      "text/plain": [
       "<Axes: ylabel='count'>"
      ]
     },
     "execution_count": 55,
     "metadata": {},
     "output_type": "execute_result"
    },
    {
     "data": {
      "image/png": "[encoded data removed]",
      "text/plain": [
       "<Figure size 640x480 with 1 Axes>"
      ]
     },
     "metadata": {},
     "output_type": "display_data"
    }
   ],
   "source": [
    "df.value_counts().head(20).plot(kind='pie')"
   ]
  },
  {
   "cell_type": "code",
   "execution_count": 56,
   "id": "a160a6a4",
   "metadata": {},
   "outputs": [
    {
     "data": {
      "application/vnd.microsoft.datawrangler.viewer.v0+json": {
       "columns": [
        {
         "name": "index",
         "rawType": "int64",
         "type": "integer"
        },
        {
         "name": "runs",
         "rawType": "int16",
         "type": "integer"
        }
       ],
       "ref": "272c8f15-1f09-479e-b796-e526ac50d50d",
       "rows": [
        [
         "0",
         "1"
        ],
        [
         "1",
         "23"
        ],
        [
         "2",
         "100"
        ],
        [
         "3",
         "100"
        ],
        [
         "4",
         "1"
        ],
        [
         "5",
         "9"
        ],
        [
         "6",
         "34"
        ],
        [
         "7",
         "0"
        ],
        [
         "8",
         "21"
        ],
        [
         "9",
         "3"
        ],
        [
         "10",
         "10"
        ],
        [
         "11",
         "38"
        ],
        [
         "12",
         "3"
        ],
        [
         "13",
         "11"
        ],
        [
         "14",
         "50"
        ],
        [
         "15",
         "2"
        ],
        [
         "16",
         "22"
        ],
        [
         "17",
         "19"
        ],
        [
         "18",
         "16"
        ],
        [
         "19",
         "15"
        ],
        [
         "20",
         "20"
        ],
        [
         "21",
         "38"
        ],
        [
         "22",
         "19"
        ],
        [
         "23",
         "24"
        ],
        [
         "24",
         "7"
        ],
        [
         "25",
         "2"
        ],
        [
         "26",
         "16"
        ],
        [
         "27",
         "17"
        ],
        [
         "28",
         "24"
        ],
        [
         "29",
         "38"
        ],
        [
         "30",
         "34"
        ],
        [
         "31",
         "42"
        ],
        [
         "32",
         "13"
        ],
        [
         "33",
         "58"
        ],
        [
         "34",
         "3"
        ],
        [
         "35",
         "14"
        ],
        [
         "36",
         "37"
        ],
        [
         "37",
         "9"
        ],
        [
         "38",
         "23"
        ],
        [
         "39",
         "12"
        ],
        [
         "40",
         "71"
        ],
        [
         "41",
         "35"
        ],
        [
         "42",
         "30"
        ],
        [
         "43",
         "56"
        ],
        [
         "44",
         "67"
        ],
        [
         "45",
         "27"
        ],
        [
         "46",
         "27"
        ],
        [
         "47",
         "39"
        ],
        [
         "48",
         "15"
        ],
        [
         "49",
         "11"
        ]
       ],
       "shape": {
        "columns": 1,
        "rows": 215
       }
      },
      "text/plain": [
       "0        1\n",
       "1       23\n",
       "2      100\n",
       "3      100\n",
       "4        1\n",
       "      ... \n",
       "210      0\n",
       "211     20\n",
       "212     73\n",
       "213     25\n",
       "214      7\n",
       "Name: runs, Length: 215, dtype: int16"
      ]
     },
     "execution_count": 56,
     "metadata": {},
     "output_type": "execute_result"
    }
   ],
   "source": [
    "#astype\n",
    "run.astype('int16')"
   ]
  },
  {
   "cell_type": "code",
   "execution_count": 59,
   "id": "b7df51c3",
   "metadata": {},
   "outputs": [
    {
     "data": {
      "text/plain": [
       "49"
      ]
     },
     "execution_count": 59,
     "metadata": {},
     "output_type": "execute_result"
    }
   ],
   "source": [
    "#between\n",
    "run[run.between(50,100)].size"
   ]
  },
  {
   "cell_type": "code",
   "execution_count": 60,
   "id": "3adc9a37",
   "metadata": {},
   "outputs": [
    {
     "data": {
      "application/vnd.microsoft.datawrangler.viewer.v0+json": {
       "columns": [
        {
         "name": "index",
         "rawType": "int64",
         "type": "integer"
        },
        {
         "name": "Subscribers gained",
         "rawType": "int64",
         "type": "integer"
        }
       ],
       "ref": "694c74e8-f60b-4a88-b6f3-57d59d8e6398",
       "rows": [
        [
         "0",
         "100"
        ],
        [
         "1",
         "100"
        ],
        [
         "2",
         "100"
        ],
        [
         "3",
         "100"
        ],
        [
         "4",
         "100"
        ],
        [
         "5",
         "100"
        ],
        [
         "6",
         "100"
        ],
        [
         "7",
         "100"
        ],
        [
         "8",
         "100"
        ],
        [
         "9",
         "100"
        ],
        [
         "10",
         "100"
        ],
        [
         "11",
         "100"
        ],
        [
         "12",
         "100"
        ],
        [
         "13",
         "100"
        ],
        [
         "14",
         "100"
        ],
        [
         "15",
         "100"
        ],
        [
         "16",
         "100"
        ],
        [
         "17",
         "100"
        ],
        [
         "18",
         "100"
        ],
        [
         "19",
         "100"
        ],
        [
         "20",
         "100"
        ],
        [
         "21",
         "100"
        ],
        [
         "22",
         "100"
        ],
        [
         "23",
         "100"
        ],
        [
         "24",
         "100"
        ],
        [
         "25",
         "100"
        ],
        [
         "26",
         "100"
        ],
        [
         "27",
         "100"
        ],
        [
         "28",
         "100"
        ],
        [
         "29",
         "100"
        ],
        [
         "30",
         "100"
        ],
        [
         "31",
         "100"
        ],
        [
         "32",
         "100"
        ],
        [
         "33",
         "100"
        ],
        [
         "34",
         "100"
        ],
        [
         "35",
         "123"
        ],
        [
         "36",
         "108"
        ],
        [
         "37",
         "110"
        ],
        [
         "38",
         "100"
        ],
        [
         "39",
         "100"
        ],
        [
         "40",
         "100"
        ],
        [
         "41",
         "100"
        ],
        [
         "42",
         "100"
        ],
        [
         "43",
         "100"
        ],
        [
         "44",
         "100"
        ],
        [
         "45",
         "126"
        ],
        [
         "46",
         "109"
        ],
        [
         "47",
         "100"
        ],
        [
         "48",
         "100"
        ],
        [
         "49",
         "108"
        ]
       ],
       "shape": {
        "columns": 1,
        "rows": 365
       }
      },
      "text/html": [
       "<div>\n",
       "<style scoped>\n",
       "    .dataframe tbody tr th:only-of-type {\n",
       "        vertical-align: middle;\n",
       "    }\n",
       "\n",
       "    .dataframe tbody tr th {\n",
       "        vertical-align: top;\n",
       "    }\n",
       "\n",
       "    .dataframe thead th {\n",
       "        text-align: right;\n",
       "    }\n",
       "</style>\n",
       "<table border=\"1\" class=\"dataframe\">\n",
       "  <thead>\n",
       "    <tr style=\"text-align: right;\">\n",
       "      <th></th>\n",
       "      <th>Subscribers gained</th>\n",
       "    </tr>\n",
       "  </thead>\n",
       "  <tbody>\n",
       "    <tr>\n",
       "      <th>0</th>\n",
       "      <td>100</td>\n",
       "    </tr>\n",
       "    <tr>\n",
       "      <th>1</th>\n",
       "      <td>100</td>\n",
       "    </tr>\n",
       "    <tr>\n",
       "      <th>2</th>\n",
       "      <td>100</td>\n",
       "    </tr>\n",
       "    <tr>\n",
       "      <th>3</th>\n",
       "      <td>100</td>\n",
       "    </tr>\n",
       "    <tr>\n",
       "      <th>4</th>\n",
       "      <td>100</td>\n",
       "    </tr>\n",
       "    <tr>\n",
       "      <th>...</th>\n",
       "      <td>...</td>\n",
       "    </tr>\n",
       "    <tr>\n",
       "      <th>360</th>\n",
       "      <td>200</td>\n",
       "    </tr>\n",
       "    <tr>\n",
       "      <th>361</th>\n",
       "      <td>200</td>\n",
       "    </tr>\n",
       "    <tr>\n",
       "      <th>362</th>\n",
       "      <td>155</td>\n",
       "    </tr>\n",
       "    <tr>\n",
       "      <th>363</th>\n",
       "      <td>144</td>\n",
       "    </tr>\n",
       "    <tr>\n",
       "      <th>364</th>\n",
       "      <td>172</td>\n",
       "    </tr>\n",
       "  </tbody>\n",
       "</table>\n",
       "<p>365 rows × 1 columns</p>\n",
       "</div>"
      ],
      "text/plain": [
       "     Subscribers gained\n",
       "0                   100\n",
       "1                   100\n",
       "2                   100\n",
       "3                   100\n",
       "4                   100\n",
       "..                  ...\n",
       "360                 200\n",
       "361                 200\n",
       "362                 155\n",
       "363                 144\n",
       "364                 172\n",
       "\n",
       "[365 rows x 1 columns]"
      ]
     },
     "execution_count": 60,
     "metadata": {},
     "output_type": "execute_result"
    }
   ],
   "source": [
    "#clip\n",
    "df3.clip(100,200)"
   ]
  },
  {
   "cell_type": "code",
   "execution_count": 72,
   "id": "c9d5bdb0",
   "metadata": {},
   "outputs": [
    {
     "data": {
      "application/vnd.microsoft.datawrangler.viewer.v0+json": {
       "columns": [
        {
         "name": "index",
         "rawType": "int64",
         "type": "integer"
        },
        {
         "name": "0",
         "rawType": "float64",
         "type": "float"
        }
       ],
       "ref": "dee5d151-156a-4233-9916-1086f02a3347",
       "rows": [
        [
         "0",
         "1.0"
        ],
        [
         "1",
         "1.0"
        ],
        [
         "2",
         "2.0"
        ],
        [
         "3",
         "2.0"
        ],
        [
         "4",
         "3.0"
        ],
        [
         "5",
         "3.0"
        ],
        [
         "6",
         "4.0"
        ],
        [
         "7",
         "5.0"
        ],
        [
         "8",
         "6.0"
        ],
        [
         "9",
         "6.0"
        ],
        [
         "10",
         null
        ],
        [
         "11",
         null
        ],
        [
         "12",
         "7.0"
        ],
        [
         "13",
         "8.0"
        ]
       ],
       "shape": {
        "columns": 1,
        "rows": 14
       }
      },
      "text/plain": [
       "0     1.0\n",
       "1     1.0\n",
       "2     2.0\n",
       "3     2.0\n",
       "4     3.0\n",
       "5     3.0\n",
       "6     4.0\n",
       "7     5.0\n",
       "8     6.0\n",
       "9     6.0\n",
       "10    NaN\n",
       "11    NaN\n",
       "12    7.0\n",
       "13    8.0\n",
       "dtype: float64"
      ]
     },
     "execution_count": 72,
     "metadata": {},
     "output_type": "execute_result"
    }
   ],
   "source": [
    "temp=pd.Series([1,1,2,2,3,3,4,5,6,6,np.nan,np.nan,7,8])\n",
    "temp"
   ]
  },
  {
   "cell_type": "code",
   "execution_count": 73,
   "id": "bc92881d",
   "metadata": {},
   "outputs": [
    {
     "data": {
      "application/vnd.microsoft.datawrangler.viewer.v0+json": {
       "columns": [
        {
         "name": "index",
         "rawType": "int64",
         "type": "integer"
        },
        {
         "name": "0",
         "rawType": "float64",
         "type": "float"
        }
       ],
       "ref": "36497efd-a4cb-4951-8e81-cfa5e0050c57",
       "rows": [
        [
         "0",
         "1.0"
        ],
        [
         "2",
         "2.0"
        ],
        [
         "4",
         "3.0"
        ],
        [
         "6",
         "4.0"
        ],
        [
         "7",
         "5.0"
        ],
        [
         "8",
         "6.0"
        ],
        [
         "10",
         null
        ],
        [
         "12",
         "7.0"
        ],
        [
         "13",
         "8.0"
        ]
       ],
       "shape": {
        "columns": 1,
        "rows": 9
       }
      },
      "text/plain": [
       "0     1.0\n",
       "2     2.0\n",
       "4     3.0\n",
       "6     4.0\n",
       "7     5.0\n",
       "8     6.0\n",
       "10    NaN\n",
       "12    7.0\n",
       "13    8.0\n",
       "dtype: float64"
      ]
     },
     "execution_count": 73,
     "metadata": {},
     "output_type": "execute_result"
    }
   ],
   "source": [
    "#drop duplicate\n",
    "temp.drop_duplicates()"
   ]
  },
  {
   "cell_type": "code",
   "execution_count": 74,
   "id": "d5ba736b",
   "metadata": {},
   "outputs": [
    {
     "data": {
      "application/vnd.microsoft.datawrangler.viewer.v0+json": {
       "columns": [
        {
         "name": "movie",
         "rawType": "object",
         "type": "string"
        },
        {
         "name": "lead",
         "rawType": "object",
         "type": "string"
        }
       ],
       "ref": "ce4d675c-8a79-490f-882b-f691e05d4a11",
       "rows": [
        [
         "Uri: The Surgical Strike",
         "Vicky Kaushal"
        ],
        [
         "Battalion 609",
         "Vicky Ahuja"
        ],
        [
         "The Accidental Prime Minister (film)",
         "Anupam Kher"
        ],
        [
         "Why Cheat India",
         "Emraan Hashmi"
        ],
        [
         "Evening Shadows",
         "Mona Ambegaonkar"
        ],
        [
         "Soni (film)",
         "Geetika Vidya Ohlyan"
        ],
        [
         "Fraud Saiyaan",
         "Arshad Warsi"
        ],
        [
         "Bombairiya",
         "Radhika Apte"
        ],
        [
         "Manikarnika: The Queen of Jhansi",
         "Kangana Ranaut"
        ],
        [
         "Thackeray (film)",
         "Nawazuddin Siddiqui"
        ],
        [
         "Amavas",
         "Ali Asgar"
        ],
        [
         "Gully Boy",
         "Ranveer Singh"
        ],
        [
         "Hum Chaar",
         "Prit Kamani"
        ],
        [
         "Total Dhamaal",
         "Ajay Devgn"
        ],
        [
         "Sonchiriya",
         "Sushant Singh Rajput"
        ],
        [
         "Badla (2019 film)",
         "Amitabh Bachchan"
        ],
        [
         "Mard Ko Dard Nahi Hota",
         "Abhimanyu Dasani"
        ],
        [
         "Hamid (film)",
         "Talha Arshad Reshi"
        ],
        [
         "Risknamaa",
         "Garima Agarwal"
        ],
        [
         "Mere Pyare Prime Minister",
         "Rasika Agashe"
        ],
        [
         "22 Yards",
         "Barun Sobti"
        ],
        [
         "Kesari (film)",
         "Akshay Kumar"
        ],
        [
         "Notebook (2019 film)",
         "Zaheer Iqbal"
        ],
        [
         "Junglee (2019 film)",
         "Vidyut Jammwal"
        ],
        [
         "Gone Kesh",
         "Deepika Amin"
        ],
        [
         "Albert Pinto Ko Gussa Kyun Aata Hai?",
         "Manav Kaul"
        ],
        [
         "The Tashkent Files",
         "Naseeruddin Shah"
        ],
        [
         "Kalank",
         "Varun Dhawan"
        ],
        [
         "Setters (film)",
         "Shreyas Talpade"
        ],
        [
         "Student of the Year 2",
         "Tiger Shroff"
        ],
        [
         "PM Narendra Modi",
         "Boman Irani"
        ],
        [
         "India's Most Wanted (film)",
         "Arjun Kapoor"
        ],
        [
         "Yeh Hai India",
         "Gavie Chahal"
        ],
        [
         "Khamoshi (2019 film)",
         "Prabhu Deva"
        ],
        [
         "Kabir Singh",
         "Shahid Kapoor"
        ],
        [
         "Article 15 (film)",
         "Ayushmann Khurrana"
        ],
        [
         "Hume Tumse Pyaar Kitna",
         "Karanvir Bohra"
        ],
        [
         "Super 30 (film)",
         "Hrithik Roshan"
        ],
        [
         "Family of Thakurganj",
         "Jimmy Sheirgill"
        ],
        [
         "Batla House",
         "John Abraham"
        ],
        [
         "Jhootha Kahin Ka",
         "Rishi Kapoor"
        ],
        [
         "Chicken Curry Law",
         "Natalia Janoszek"
        ],
        [
         "Arjun Patiala",
         "Diljit Dosanjh"
        ],
        [
         "Jabariya Jodi",
         "Sidharth Malhotra"
        ],
        [
         "Pranaam",
         "Rajeev Khandelwal"
        ],
        [
         "The Sky Is Pink",
         "Zaira Wasim"
        ],
        [
         "Saaho",
         "Jacqueline Fernandez"
        ],
        [
         "Section 375",
         "Akshaye Khanna"
        ],
        [
         "The Zoya Factor (film)",
         "Sonam Kapoor"
        ],
        [
         "Pal Pal Dil Ke Paas",
         "Karan Deol"
        ]
       ],
       "shape": {
        "columns": 1,
        "rows": 566
       }
      },
      "text/html": [
       "<div>\n",
       "<style scoped>\n",
       "    .dataframe tbody tr th:only-of-type {\n",
       "        vertical-align: middle;\n",
       "    }\n",
       "\n",
       "    .dataframe tbody tr th {\n",
       "        vertical-align: top;\n",
       "    }\n",
       "\n",
       "    .dataframe thead th {\n",
       "        text-align: right;\n",
       "    }\n",
       "</style>\n",
       "<table border=\"1\" class=\"dataframe\">\n",
       "  <thead>\n",
       "    <tr style=\"text-align: right;\">\n",
       "      <th></th>\n",
       "      <th>lead</th>\n",
       "    </tr>\n",
       "    <tr>\n",
       "      <th>movie</th>\n",
       "      <th></th>\n",
       "    </tr>\n",
       "  </thead>\n",
       "  <tbody>\n",
       "    <tr>\n",
       "      <th>Uri: The Surgical Strike</th>\n",
       "      <td>Vicky Kaushal</td>\n",
       "    </tr>\n",
       "    <tr>\n",
       "      <th>Battalion 609</th>\n",
       "      <td>Vicky Ahuja</td>\n",
       "    </tr>\n",
       "    <tr>\n",
       "      <th>The Accidental Prime Minister (film)</th>\n",
       "      <td>Anupam Kher</td>\n",
       "    </tr>\n",
       "    <tr>\n",
       "      <th>Why Cheat India</th>\n",
       "      <td>Emraan Hashmi</td>\n",
       "    </tr>\n",
       "    <tr>\n",
       "      <th>Evening Shadows</th>\n",
       "      <td>Mona Ambegaonkar</td>\n",
       "    </tr>\n",
       "    <tr>\n",
       "      <th>...</th>\n",
       "      <td>...</td>\n",
       "    </tr>\n",
       "    <tr>\n",
       "      <th>Sssshhh...</th>\n",
       "      <td>Tanishaa Mukerji</td>\n",
       "    </tr>\n",
       "    <tr>\n",
       "      <th>Rules: Pyaar Ka Superhit Formula</th>\n",
       "      <td>Tanuja</td>\n",
       "    </tr>\n",
       "    <tr>\n",
       "      <th>Right Here Right Now (film)</th>\n",
       "      <td>Ankit</td>\n",
       "    </tr>\n",
       "    <tr>\n",
       "      <th>Talaash: The Hunt Begins...</th>\n",
       "      <td>Rakhee Gulzar</td>\n",
       "    </tr>\n",
       "    <tr>\n",
       "      <th>The Pink Mirror</th>\n",
       "      <td>Edwin Fernandes</td>\n",
       "    </tr>\n",
       "  </tbody>\n",
       "</table>\n",
       "<p>566 rows × 1 columns</p>\n",
       "</div>"
      ],
      "text/plain": [
       "                                                  lead\n",
       "movie                                                 \n",
       "Uri: The Surgical Strike                 Vicky Kaushal\n",
       "Battalion 609                              Vicky Ahuja\n",
       "The Accidental Prime Minister (film)       Anupam Kher\n",
       "Why Cheat India                          Emraan Hashmi\n",
       "Evening Shadows                       Mona Ambegaonkar\n",
       "...                                                ...\n",
       "Sssshhh...                            Tanishaa Mukerji\n",
       "Rules: Pyaar Ka Superhit Formula                Tanuja\n",
       "Right Here Right Now (film)                      Ankit\n",
       "Talaash: The Hunt Begins...              Rakhee Gulzar\n",
       "The Pink Mirror                        Edwin Fernandes\n",
       "\n",
       "[566 rows x 1 columns]"
      ]
     },
     "execution_count": 74,
     "metadata": {},
     "output_type": "execute_result"
    }
   ],
   "source": [
    "df.drop_duplicates()"
   ]
  },
  {
   "cell_type": "code",
   "execution_count": 75,
   "id": "03e38add",
   "metadata": {},
   "outputs": [
    {
     "data": {
      "text/plain": [
       "np.int64(5)"
      ]
     },
     "execution_count": 75,
     "metadata": {},
     "output_type": "execute_result"
    }
   ],
   "source": [
    "#total duplicated values\n",
    "temp.duplicated().sum()"
   ]
  },
  {
   "cell_type": "code",
   "execution_count": 76,
   "id": "1eefd0c2",
   "metadata": {},
   "outputs": [
    {
     "data": {
      "text/plain": [
       "np.int64(0)"
      ]
     },
     "execution_count": 76,
     "metadata": {},
     "output_type": "execute_result"
    }
   ],
   "source": [
    "#total null value\n",
    "run.isnull().sum()"
   ]
  },
  {
   "cell_type": "code",
   "execution_count": 77,
   "id": "bcb8ff17",
   "metadata": {},
   "outputs": [
    {
     "data": {
      "application/vnd.microsoft.datawrangler.viewer.v0+json": {
       "columns": [
        {
         "name": "index",
         "rawType": "int64",
         "type": "integer"
        },
        {
         "name": "0",
         "rawType": "float64",
         "type": "float"
        }
       ],
       "ref": "564c5216-30f5-4ff6-a348-e409b73d8d2c",
       "rows": [
        [
         "0",
         "1.0"
        ],
        [
         "1",
         "1.0"
        ],
        [
         "2",
         "2.0"
        ],
        [
         "3",
         "2.0"
        ],
        [
         "4",
         "3.0"
        ],
        [
         "5",
         "3.0"
        ],
        [
         "6",
         "4.0"
        ],
        [
         "7",
         "5.0"
        ],
        [
         "8",
         "6.0"
        ],
        [
         "9",
         "6.0"
        ],
        [
         "12",
         "7.0"
        ],
        [
         "13",
         "8.0"
        ]
       ],
       "shape": {
        "columns": 1,
        "rows": 12
       }
      },
      "text/plain": [
       "0     1.0\n",
       "1     1.0\n",
       "2     2.0\n",
       "3     2.0\n",
       "4     3.0\n",
       "5     3.0\n",
       "6     4.0\n",
       "7     5.0\n",
       "8     6.0\n",
       "9     6.0\n",
       "12    7.0\n",
       "13    8.0\n",
       "dtype: float64"
      ]
     },
     "execution_count": 77,
     "metadata": {},
     "output_type": "execute_result"
    }
   ],
   "source": [
    "#dropna\n",
    "temp.dropna()"
   ]
  },
  {
   "cell_type": "code",
   "execution_count": 78,
   "id": "4a3d144b",
   "metadata": {},
   "outputs": [
    {
     "data": {
      "application/vnd.microsoft.datawrangler.viewer.v0+json": {
       "columns": [
        {
         "name": "index",
         "rawType": "int64",
         "type": "integer"
        },
        {
         "name": "0",
         "rawType": "float64",
         "type": "float"
        }
       ],
       "ref": "9e2997a4-c817-49b9-a67f-fddf1a05911c",
       "rows": [
        [
         "0",
         "1.0"
        ],
        [
         "1",
         "1.0"
        ],
        [
         "2",
         "2.0"
        ],
        [
         "3",
         "2.0"
        ],
        [
         "4",
         "3.0"
        ],
        [
         "5",
         "3.0"
        ],
        [
         "6",
         "4.0"
        ],
        [
         "7",
         "5.0"
        ],
        [
         "8",
         "6.0"
        ],
        [
         "9",
         "6.0"
        ],
        [
         "10",
         "0.0"
        ],
        [
         "11",
         "0.0"
        ],
        [
         "12",
         "7.0"
        ],
        [
         "13",
         "8.0"
        ]
       ],
       "shape": {
        "columns": 1,
        "rows": 14
       }
      },
      "text/plain": [
       "0     1.0\n",
       "1     1.0\n",
       "2     2.0\n",
       "3     2.0\n",
       "4     3.0\n",
       "5     3.0\n",
       "6     4.0\n",
       "7     5.0\n",
       "8     6.0\n",
       "9     6.0\n",
       "10    0.0\n",
       "11    0.0\n",
       "12    7.0\n",
       "13    8.0\n",
       "dtype: float64"
      ]
     },
     "execution_count": 78,
     "metadata": {},
     "output_type": "execute_result"
    }
   ],
   "source": [
    "#fillna\n",
    "temp.fillna(0)"
   ]
  },
  {
   "cell_type": "code",
   "execution_count": 79,
   "id": "847fbee8",
   "metadata": {},
   "outputs": [
    {
     "data": {
      "application/vnd.microsoft.datawrangler.viewer.v0+json": {
       "columns": [
        {
         "name": "index",
         "rawType": "int64",
         "type": "integer"
        },
        {
         "name": "0",
         "rawType": "float64",
         "type": "float"
        }
       ],
       "ref": "789d4f8e-0c71-4062-bfdf-4b322b82ece4",
       "rows": [
        [
         "0",
         "1.0"
        ],
        [
         "1",
         "1.0"
        ],
        [
         "2",
         "2.0"
        ],
        [
         "3",
         "2.0"
        ],
        [
         "4",
         "3.0"
        ],
        [
         "5",
         "3.0"
        ],
        [
         "6",
         "4.0"
        ],
        [
         "7",
         "5.0"
        ],
        [
         "8",
         "6.0"
        ],
        [
         "9",
         "6.0"
        ],
        [
         "10",
         "4.0"
        ],
        [
         "11",
         "4.0"
        ],
        [
         "12",
         "7.0"
        ],
        [
         "13",
         "8.0"
        ]
       ],
       "shape": {
        "columns": 1,
        "rows": 14
       }
      },
      "text/plain": [
       "0     1.0\n",
       "1     1.0\n",
       "2     2.0\n",
       "3     2.0\n",
       "4     3.0\n",
       "5     3.0\n",
       "6     4.0\n",
       "7     5.0\n",
       "8     6.0\n",
       "9     6.0\n",
       "10    4.0\n",
       "11    4.0\n",
       "12    7.0\n",
       "13    8.0\n",
       "dtype: float64"
      ]
     },
     "execution_count": 79,
     "metadata": {},
     "output_type": "execute_result"
    }
   ],
   "source": [
    "temp.fillna(temp.mean())"
   ]
  },
  {
   "cell_type": "code",
   "execution_count": 81,
   "id": "dfd96574",
   "metadata": {},
   "outputs": [
    {
     "data": {
      "application/vnd.microsoft.datawrangler.viewer.v0+json": {
       "columns": [
        {
         "name": "index",
         "rawType": "int64",
         "type": "integer"
        },
        {
         "name": "runs",
         "rawType": "int64",
         "type": "integer"
        }
       ],
       "ref": "0d69e0b5-cbe1-49f3-b602-adb6c57bf069",
       "rows": [
        [
         "81",
         "99"
        ],
        [
         "85",
         "49"
        ]
       ],
       "shape": {
        "columns": 1,
        "rows": 2
       }
      },
      "text/plain": [
       "81    99\n",
       "85    49\n",
       "Name: runs, dtype: int64"
      ]
     },
     "execution_count": 81,
     "metadata": {},
     "output_type": "execute_result"
    }
   ],
   "source": [
    "#boolean indexing\n",
    "run[(run==49) | (run==99)]"
   ]
  },
  {
   "cell_type": "code",
   "execution_count": 83,
   "id": "1b83e6ac",
   "metadata": {},
   "outputs": [
    {
     "data": {
      "application/vnd.microsoft.datawrangler.viewer.v0+json": {
       "columns": [
        {
         "name": "index",
         "rawType": "int64",
         "type": "integer"
        },
        {
         "name": "runs",
         "rawType": "int64",
         "type": "integer"
        }
       ],
       "ref": "1705ee01-36ca-4f48-bb36-271b219870bc",
       "rows": [
        [
         "81",
         "99"
        ],
        [
         "85",
         "49"
        ]
       ],
       "shape": {
        "columns": 1,
        "rows": 2
       }
      },
      "text/plain": [
       "81    99\n",
       "85    49\n",
       "Name: runs, dtype: int64"
      ]
     },
     "execution_count": 83,
     "metadata": {},
     "output_type": "execute_result"
    }
   ],
   "source": [
    "run[run.isin([49,99])]"
   ]
  },
  {
   "cell_type": "code",
   "execution_count": 86,
   "id": "f826b351",
   "metadata": {},
   "outputs": [
    {
     "ename": "AttributeError",
     "evalue": "'Series' object has no attribute 'split'",
     "output_type": "error",
     "traceback": [
      "\u001b[1;31m---------------------------------------------------------------------------\u001b[0m",
      "\u001b[1;31mAttributeError\u001b[0m                            Traceback (most recent call last)",
      "\u001b[1;32m~\\AppData\\Local\\Temp\\ipykernel_23112\\1882632124.py\u001b[0m in \u001b[0;36m?\u001b[1;34m()\u001b[0m\n\u001b[0;32m      1\u001b[0m \u001b[1;31m#apply\u001b[0m\u001b[1;33m\u001b[0m\u001b[1;33m\u001b[0m\u001b[0m\n\u001b[0;32m      2\u001b[0m \u001b[1;31m#appling custom logic\u001b[0m\u001b[1;33m\u001b[0m\u001b[1;33m\u001b[0m\u001b[0m\n\u001b[1;32m----> 3\u001b[1;33m \u001b[0mdf\u001b[0m\u001b[1;33m.\u001b[0m\u001b[0mapply\u001b[0m\u001b[1;33m(\u001b[0m\u001b[1;32mlambda\u001b[0m \u001b[0mx\u001b[0m\u001b[1;33m:\u001b[0m\u001b[0mx\u001b[0m\u001b[1;33m.\u001b[0m\u001b[0msplit\u001b[0m\u001b[1;33m(\u001b[0m\u001b[1;33m)\u001b[0m\u001b[1;33m[\u001b[0m\u001b[1;36m0\u001b[0m\u001b[1;33m]\u001b[0m\u001b[1;33m.\u001b[0m\u001b[0mupper\u001b[0m\u001b[1;33m(\u001b[0m\u001b[1;33m)\u001b[0m\u001b[1;33m)\u001b[0m\u001b[1;33m\u001b[0m\u001b[1;33m\u001b[0m\u001b[0m\n\u001b[0m",
      "\u001b[1;32mc:\\Users\\DELL\\OneDrive\\Attachments\\Desktop\\code\\venv\\lib\\site-packages\\pandas\\core\\frame.py\u001b[0m in \u001b[0;36m?\u001b[1;34m(self, func, axis, raw, result_type, args, by_row, engine, engine_kwargs, **kwargs)\u001b[0m\n\u001b[0;32m  10377\u001b[0m             \u001b[0mengine_kwargs\u001b[0m\u001b[1;33m=\u001b[0m\u001b[0mengine_kwargs\u001b[0m\u001b[1;33m,\u001b[0m\u001b[1;33m\u001b[0m\u001b[1;33m\u001b[0m\u001b[0m\n\u001b[0;32m  10378\u001b[0m             \u001b[0margs\u001b[0m\u001b[1;33m=\u001b[0m\u001b[0margs\u001b[0m\u001b[1;33m,\u001b[0m\u001b[1;33m\u001b[0m\u001b[1;33m\u001b[0m\u001b[0m\n\u001b[0;32m  10379\u001b[0m             \u001b[0mkwargs\u001b[0m\u001b[1;33m=\u001b[0m\u001b[0mkwargs\u001b[0m\u001b[1;33m,\u001b[0m\u001b[1;33m\u001b[0m\u001b[1;33m\u001b[0m\u001b[0m\n\u001b[0;32m  10380\u001b[0m         )\n\u001b[1;32m> 10381\u001b[1;33m         \u001b[1;32mreturn\u001b[0m \u001b[0mop\u001b[0m\u001b[1;33m.\u001b[0m\u001b[0mapply\u001b[0m\u001b[1;33m(\u001b[0m\u001b[1;33m)\u001b[0m\u001b[1;33m.\u001b[0m\u001b[0m__finalize__\u001b[0m\u001b[1;33m(\u001b[0m\u001b[0mself\u001b[0m\u001b[1;33m,\u001b[0m \u001b[0mmethod\u001b[0m\u001b[1;33m=\u001b[0m\u001b[1;34m\"apply\"\u001b[0m\u001b[1;33m)\u001b[0m\u001b[1;33m\u001b[0m\u001b[1;33m\u001b[0m\u001b[0m\n\u001b[0m",
      "\u001b[1;32mc:\\Users\\DELL\\OneDrive\\Attachments\\Desktop\\code\\venv\\lib\\site-packages\\pandas\\core\\apply.py\u001b[0m in \u001b[0;36m?\u001b[1;34m(self)\u001b[0m\n\u001b[0;32m    912\u001b[0m         \u001b[1;31m# raw\u001b[0m\u001b[1;33m\u001b[0m\u001b[1;33m\u001b[0m\u001b[0m\n\u001b[0;32m    913\u001b[0m         \u001b[1;32melif\u001b[0m \u001b[0mself\u001b[0m\u001b[1;33m.\u001b[0m\u001b[0mraw\u001b[0m\u001b[1;33m:\u001b[0m\u001b[1;33m\u001b[0m\u001b[1;33m\u001b[0m\u001b[0m\n\u001b[0;32m    914\u001b[0m             \u001b[1;32mreturn\u001b[0m \u001b[0mself\u001b[0m\u001b[1;33m.\u001b[0m\u001b[0mapply_raw\u001b[0m\u001b[1;33m(\u001b[0m\u001b[0mengine\u001b[0m\u001b[1;33m=\u001b[0m\u001b[0mself\u001b[0m\u001b[1;33m.\u001b[0m\u001b[0mengine\u001b[0m\u001b[1;33m,\u001b[0m \u001b[0mengine_kwargs\u001b[0m\u001b[1;33m=\u001b[0m\u001b[0mself\u001b[0m\u001b[1;33m.\u001b[0m\u001b[0mengine_kwargs\u001b[0m\u001b[1;33m)\u001b[0m\u001b[1;33m\u001b[0m\u001b[1;33m\u001b[0m\u001b[0m\n\u001b[0;32m    915\u001b[0m \u001b[1;33m\u001b[0m\u001b[0m\n\u001b[1;32m--> 916\u001b[1;33m         \u001b[1;32mreturn\u001b[0m \u001b[0mself\u001b[0m\u001b[1;33m.\u001b[0m\u001b[0mapply_standard\u001b[0m\u001b[1;33m(\u001b[0m\u001b[1;33m)\u001b[0m\u001b[1;33m\u001b[0m\u001b[1;33m\u001b[0m\u001b[0m\n\u001b[0m",
      "\u001b[1;32mc:\\Users\\DELL\\OneDrive\\Attachments\\Desktop\\code\\venv\\lib\\site-packages\\pandas\\core\\apply.py\u001b[0m in \u001b[0;36m?\u001b[1;34m(self)\u001b[0m\n\u001b[0;32m   1061\u001b[0m     \u001b[1;32mdef\u001b[0m \u001b[0mapply_standard\u001b[0m\u001b[1;33m(\u001b[0m\u001b[0mself\u001b[0m\u001b[1;33m)\u001b[0m\u001b[1;33m:\u001b[0m\u001b[1;33m\u001b[0m\u001b[1;33m\u001b[0m\u001b[0m\n\u001b[0;32m   1062\u001b[0m         \u001b[1;32mif\u001b[0m \u001b[0mself\u001b[0m\u001b[1;33m.\u001b[0m\u001b[0mengine\u001b[0m \u001b[1;33m==\u001b[0m \u001b[1;34m\"python\"\u001b[0m\u001b[1;33m:\u001b[0m\u001b[1;33m\u001b[0m\u001b[1;33m\u001b[0m\u001b[0m\n\u001b[1;32m-> 1063\u001b[1;33m             \u001b[0mresults\u001b[0m\u001b[1;33m,\u001b[0m \u001b[0mres_index\u001b[0m \u001b[1;33m=\u001b[0m \u001b[0mself\u001b[0m\u001b[1;33m.\u001b[0m\u001b[0mapply_series_generator\u001b[0m\u001b[1;33m(\u001b[0m\u001b[1;33m)\u001b[0m\u001b[1;33m\u001b[0m\u001b[1;33m\u001b[0m\u001b[0m\n\u001b[0m\u001b[0;32m   1064\u001b[0m         \u001b[1;32melse\u001b[0m\u001b[1;33m:\u001b[0m\u001b[1;33m\u001b[0m\u001b[1;33m\u001b[0m\u001b[0m\n\u001b[0;32m   1065\u001b[0m             \u001b[0mresults\u001b[0m\u001b[1;33m,\u001b[0m \u001b[0mres_index\u001b[0m \u001b[1;33m=\u001b[0m \u001b[0mself\u001b[0m\u001b[1;33m.\u001b[0m\u001b[0mapply_series_numba\u001b[0m\u001b[1;33m(\u001b[0m\u001b[1;33m)\u001b[0m\u001b[1;33m\u001b[0m\u001b[1;33m\u001b[0m\u001b[0m\n\u001b[0;32m   1066\u001b[0m \u001b[1;33m\u001b[0m\u001b[0m\n",
      "\u001b[1;32mc:\\Users\\DELL\\OneDrive\\Attachments\\Desktop\\code\\venv\\lib\\site-packages\\pandas\\core\\apply.py\u001b[0m in \u001b[0;36m?\u001b[1;34m(self)\u001b[0m\n\u001b[0;32m   1077\u001b[0m \u001b[1;33m\u001b[0m\u001b[0m\n\u001b[0;32m   1078\u001b[0m         \u001b[1;32mwith\u001b[0m \u001b[0moption_context\u001b[0m\u001b[1;33m(\u001b[0m\u001b[1;34m\"mode.chained_assignment\"\u001b[0m\u001b[1;33m,\u001b[0m \u001b[1;32mNone\u001b[0m\u001b[1;33m)\u001b[0m\u001b[1;33m:\u001b[0m\u001b[1;33m\u001b[0m\u001b[1;33m\u001b[0m\u001b[0m\n\u001b[0;32m   1079\u001b[0m             \u001b[1;32mfor\u001b[0m \u001b[0mi\u001b[0m\u001b[1;33m,\u001b[0m \u001b[0mv\u001b[0m \u001b[1;32min\u001b[0m \u001b[0menumerate\u001b[0m\u001b[1;33m(\u001b[0m\u001b[0mseries_gen\u001b[0m\u001b[1;33m)\u001b[0m\u001b[1;33m:\u001b[0m\u001b[1;33m\u001b[0m\u001b[1;33m\u001b[0m\u001b[0m\n\u001b[0;32m   1080\u001b[0m                 \u001b[1;31m# ignore SettingWithCopy here in case the user mutates\u001b[0m\u001b[1;33m\u001b[0m\u001b[1;33m\u001b[0m\u001b[0m\n\u001b[1;32m-> 1081\u001b[1;33m                 \u001b[0mresults\u001b[0m\u001b[1;33m[\u001b[0m\u001b[0mi\u001b[0m\u001b[1;33m]\u001b[0m \u001b[1;33m=\u001b[0m \u001b[0mself\u001b[0m\u001b[1;33m.\u001b[0m\u001b[0mfunc\u001b[0m\u001b[1;33m(\u001b[0m\u001b[0mv\u001b[0m\u001b[1;33m,\u001b[0m \u001b[1;33m*\u001b[0m\u001b[0mself\u001b[0m\u001b[1;33m.\u001b[0m\u001b[0margs\u001b[0m\u001b[1;33m,\u001b[0m \u001b[1;33m**\u001b[0m\u001b[0mself\u001b[0m\u001b[1;33m.\u001b[0m\u001b[0mkwargs\u001b[0m\u001b[1;33m)\u001b[0m\u001b[1;33m\u001b[0m\u001b[1;33m\u001b[0m\u001b[0m\n\u001b[0m\u001b[0;32m   1082\u001b[0m                 \u001b[1;32mif\u001b[0m \u001b[0misinstance\u001b[0m\u001b[1;33m(\u001b[0m\u001b[0mresults\u001b[0m\u001b[1;33m[\u001b[0m\u001b[0mi\u001b[0m\u001b[1;33m]\u001b[0m\u001b[1;33m,\u001b[0m \u001b[0mABCSeries\u001b[0m\u001b[1;33m)\u001b[0m\u001b[1;33m:\u001b[0m\u001b[1;33m\u001b[0m\u001b[1;33m\u001b[0m\u001b[0m\n\u001b[0;32m   1083\u001b[0m                     \u001b[1;31m# If we have a view on v, we need to make a copy because\u001b[0m\u001b[1;33m\u001b[0m\u001b[1;33m\u001b[0m\u001b[0m\n\u001b[0;32m   1084\u001b[0m                     \u001b[1;31m#  series_generator will swap out the underlying data\u001b[0m\u001b[1;33m\u001b[0m\u001b[1;33m\u001b[0m\u001b[0m\n",
      "\u001b[1;32m~\\AppData\\Local\\Temp\\ipykernel_23112\\1882632124.py\u001b[0m in \u001b[0;36m?\u001b[1;34m(x)\u001b[0m\n\u001b[1;32m----> 3\u001b[1;33m \u001b[0mdf\u001b[0m\u001b[1;33m.\u001b[0m\u001b[0mapply\u001b[0m\u001b[1;33m(\u001b[0m\u001b[1;32mlambda\u001b[0m \u001b[0mx\u001b[0m\u001b[1;33m:\u001b[0m\u001b[0mx\u001b[0m\u001b[1;33m.\u001b[0m\u001b[0msplit\u001b[0m\u001b[1;33m(\u001b[0m\u001b[1;33m)\u001b[0m\u001b[1;33m[\u001b[0m\u001b[1;36m0\u001b[0m\u001b[1;33m]\u001b[0m\u001b[1;33m.\u001b[0m\u001b[0mupper\u001b[0m\u001b[1;33m(\u001b[0m\u001b[1;33m)\u001b[0m\u001b[1;33m)\u001b[0m\u001b[1;33m\u001b[0m\u001b[1;33m\u001b[0m\u001b[0m\n\u001b[0m",
      "\u001b[1;32mc:\\Users\\DELL\\OneDrive\\Attachments\\Desktop\\code\\venv\\lib\\site-packages\\pandas\\core\\generic.py\u001b[0m in \u001b[0;36m?\u001b[1;34m(self, name)\u001b[0m\n\u001b[0;32m   6314\u001b[0m             \u001b[1;32mand\u001b[0m \u001b[0mname\u001b[0m \u001b[1;32mnot\u001b[0m \u001b[1;32min\u001b[0m \u001b[0mself\u001b[0m\u001b[1;33m.\u001b[0m\u001b[0m_accessors\u001b[0m\u001b[1;33m\u001b[0m\u001b[1;33m\u001b[0m\u001b[0m\n\u001b[0;32m   6315\u001b[0m             \u001b[1;32mand\u001b[0m \u001b[0mself\u001b[0m\u001b[1;33m.\u001b[0m\u001b[0m_info_axis\u001b[0m\u001b[1;33m.\u001b[0m\u001b[0m_can_hold_identifiers_and_holds_name\u001b[0m\u001b[1;33m(\u001b[0m\u001b[0mname\u001b[0m\u001b[1;33m)\u001b[0m\u001b[1;33m\u001b[0m\u001b[1;33m\u001b[0m\u001b[0m\n\u001b[0;32m   6316\u001b[0m         ):\n\u001b[0;32m   6317\u001b[0m             \u001b[1;32mreturn\u001b[0m \u001b[0mself\u001b[0m\u001b[1;33m[\u001b[0m\u001b[0mname\u001b[0m\u001b[1;33m]\u001b[0m\u001b[1;33m\u001b[0m\u001b[1;33m\u001b[0m\u001b[0m\n\u001b[1;32m-> 6318\u001b[1;33m         \u001b[1;32mreturn\u001b[0m \u001b[0mobject\u001b[0m\u001b[1;33m.\u001b[0m\u001b[0m__getattribute__\u001b[0m\u001b[1;33m(\u001b[0m\u001b[0mself\u001b[0m\u001b[1;33m,\u001b[0m \u001b[0mname\u001b[0m\u001b[1;33m)\u001b[0m\u001b[1;33m\u001b[0m\u001b[1;33m\u001b[0m\u001b[0m\n\u001b[0m",
      "\u001b[1;31mAttributeError\u001b[0m: 'Series' object has no attribute 'split'"
     ]
    }
   ],
   "source": [
    "#apply\n",
    "#appling custom logic\n",
    "df.apply(lambda x:x.split()[0].upper())"
   ]
  },
  {
   "cell_type": "code",
   "execution_count": 88,
   "id": "7588374d",
   "metadata": {},
   "outputs": [
    {
     "data": {
      "application/vnd.microsoft.datawrangler.viewer.v0+json": {
       "columns": [
        {
         "name": "index",
         "rawType": "object",
         "type": "string"
        },
        {
         "name": "0",
         "rawType": "float64",
         "type": "float"
        }
       ],
       "ref": "c0132930-e1b3-4f26-9094-55301631a399",
       "rows": [
        [
         "Subscribers gained",
         "135.64383561643837"
        ]
       ],
       "shape": {
        "columns": 1,
        "rows": 1
       }
      },
      "text/plain": [
       "Subscribers gained    135.643836\n",
       "dtype: float64"
      ]
     },
     "execution_count": 88,
     "metadata": {},
     "output_type": "execute_result"
    }
   ],
   "source": [
    "df3.mean()"
   ]
  },
  {
   "cell_type": "code",
   "execution_count": 89,
   "id": "dc59ac2c",
   "metadata": {},
   "outputs": [
    {
     "ename": "ValueError",
     "evalue": "Can only compare identically-labeled Series objects",
     "output_type": "error",
     "traceback": [
      "\u001b[1;31m---------------------------------------------------------------------------\u001b[0m",
      "\u001b[1;31mValueError\u001b[0m                                Traceback (most recent call last)",
      "Cell \u001b[1;32mIn[89], line 1\u001b[0m\n\u001b[1;32m----> 1\u001b[0m \u001b[43mdf3\u001b[49m\u001b[38;5;241;43m.\u001b[39;49m\u001b[43mapply\u001b[49m\u001b[43m(\u001b[49m\u001b[38;5;28;43;01mlambda\u001b[39;49;00m\u001b[43m \u001b[49m\u001b[43mX\u001b[49m\u001b[43m:\u001b[49m\u001b[38;5;124;43m'\u001b[39;49m\u001b[38;5;124;43mgood day\u001b[39;49m\u001b[38;5;124;43m'\u001b[39;49m\u001b[43m \u001b[49m\u001b[38;5;28;43;01mif\u001b[39;49;00m\u001b[43m \u001b[49m\u001b[43mx\u001b[49m\u001b[38;5;241;43m>\u001b[39;49m\u001b[43m \u001b[49m\u001b[43mdf3\u001b[49m\u001b[38;5;241;43m.\u001b[39;49m\u001b[43mmean\u001b[49m\u001b[43m(\u001b[49m\u001b[43m)\u001b[49m\u001b[43m \u001b[49m\u001b[38;5;28;43;01melse\u001b[39;49;00m\u001b[43m \u001b[49m\u001b[38;5;124;43m'\u001b[39;49m\u001b[38;5;124;43mbad day\u001b[39;49m\u001b[38;5;124;43m'\u001b[39;49m\u001b[43m)\u001b[49m\n",
      "File \u001b[1;32mc:\\Users\\DELL\\OneDrive\\Attachments\\Desktop\\code\\venv\\lib\\site-packages\\pandas\\core\\frame.py:10381\u001b[0m, in \u001b[0;36mDataFrame.apply\u001b[1;34m(self, func, axis, raw, result_type, args, by_row, engine, engine_kwargs, **kwargs)\u001b[0m\n\u001b[0;32m  10367\u001b[0m \u001b[38;5;28;01mfrom\u001b[39;00m\u001b[38;5;250m \u001b[39m\u001b[38;5;21;01mpandas\u001b[39;00m\u001b[38;5;21;01m.\u001b[39;00m\u001b[38;5;21;01mcore\u001b[39;00m\u001b[38;5;21;01m.\u001b[39;00m\u001b[38;5;21;01mapply\u001b[39;00m\u001b[38;5;250m \u001b[39m\u001b[38;5;28;01mimport\u001b[39;00m frame_apply\n\u001b[0;32m  10369\u001b[0m op \u001b[38;5;241m=\u001b[39m frame_apply(\n\u001b[0;32m  10370\u001b[0m     \u001b[38;5;28mself\u001b[39m,\n\u001b[0;32m  10371\u001b[0m     func\u001b[38;5;241m=\u001b[39mfunc,\n\u001b[1;32m   (...)\u001b[0m\n\u001b[0;32m  10379\u001b[0m     kwargs\u001b[38;5;241m=\u001b[39mkwargs,\n\u001b[0;32m  10380\u001b[0m )\n\u001b[1;32m> 10381\u001b[0m \u001b[38;5;28;01mreturn\u001b[39;00m \u001b[43mop\u001b[49m\u001b[38;5;241;43m.\u001b[39;49m\u001b[43mapply\u001b[49m\u001b[43m(\u001b[49m\u001b[43m)\u001b[49m\u001b[38;5;241m.\u001b[39m__finalize__(\u001b[38;5;28mself\u001b[39m, method\u001b[38;5;241m=\u001b[39m\u001b[38;5;124m\"\u001b[39m\u001b[38;5;124mapply\u001b[39m\u001b[38;5;124m\"\u001b[39m)\n",
      "File \u001b[1;32mc:\\Users\\DELL\\OneDrive\\Attachments\\Desktop\\code\\venv\\lib\\site-packages\\pandas\\core\\apply.py:916\u001b[0m, in \u001b[0;36mFrameApply.apply\u001b[1;34m(self)\u001b[0m\n\u001b[0;32m    913\u001b[0m \u001b[38;5;28;01melif\u001b[39;00m \u001b[38;5;28mself\u001b[39m\u001b[38;5;241m.\u001b[39mraw:\n\u001b[0;32m    914\u001b[0m     \u001b[38;5;28;01mreturn\u001b[39;00m \u001b[38;5;28mself\u001b[39m\u001b[38;5;241m.\u001b[39mapply_raw(engine\u001b[38;5;241m=\u001b[39m\u001b[38;5;28mself\u001b[39m\u001b[38;5;241m.\u001b[39mengine, engine_kwargs\u001b[38;5;241m=\u001b[39m\u001b[38;5;28mself\u001b[39m\u001b[38;5;241m.\u001b[39mengine_kwargs)\n\u001b[1;32m--> 916\u001b[0m \u001b[38;5;28;01mreturn\u001b[39;00m \u001b[38;5;28;43mself\u001b[39;49m\u001b[38;5;241;43m.\u001b[39;49m\u001b[43mapply_standard\u001b[49m\u001b[43m(\u001b[49m\u001b[43m)\u001b[49m\n",
      "File \u001b[1;32mc:\\Users\\DELL\\OneDrive\\Attachments\\Desktop\\code\\venv\\lib\\site-packages\\pandas\\core\\apply.py:1063\u001b[0m, in \u001b[0;36mFrameApply.apply_standard\u001b[1;34m(self)\u001b[0m\n\u001b[0;32m   1061\u001b[0m \u001b[38;5;28;01mdef\u001b[39;00m\u001b[38;5;250m \u001b[39m\u001b[38;5;21mapply_standard\u001b[39m(\u001b[38;5;28mself\u001b[39m):\n\u001b[0;32m   1062\u001b[0m     \u001b[38;5;28;01mif\u001b[39;00m \u001b[38;5;28mself\u001b[39m\u001b[38;5;241m.\u001b[39mengine \u001b[38;5;241m==\u001b[39m \u001b[38;5;124m\"\u001b[39m\u001b[38;5;124mpython\u001b[39m\u001b[38;5;124m\"\u001b[39m:\n\u001b[1;32m-> 1063\u001b[0m         results, res_index \u001b[38;5;241m=\u001b[39m \u001b[38;5;28;43mself\u001b[39;49m\u001b[38;5;241;43m.\u001b[39;49m\u001b[43mapply_series_generator\u001b[49m\u001b[43m(\u001b[49m\u001b[43m)\u001b[49m\n\u001b[0;32m   1064\u001b[0m     \u001b[38;5;28;01melse\u001b[39;00m:\n\u001b[0;32m   1065\u001b[0m         results, res_index \u001b[38;5;241m=\u001b[39m \u001b[38;5;28mself\u001b[39m\u001b[38;5;241m.\u001b[39mapply_series_numba()\n",
      "File \u001b[1;32mc:\\Users\\DELL\\OneDrive\\Attachments\\Desktop\\code\\venv\\lib\\site-packages\\pandas\\core\\apply.py:1081\u001b[0m, in \u001b[0;36mFrameApply.apply_series_generator\u001b[1;34m(self)\u001b[0m\n\u001b[0;32m   1078\u001b[0m \u001b[38;5;28;01mwith\u001b[39;00m option_context(\u001b[38;5;124m\"\u001b[39m\u001b[38;5;124mmode.chained_assignment\u001b[39m\u001b[38;5;124m\"\u001b[39m, \u001b[38;5;28;01mNone\u001b[39;00m):\n\u001b[0;32m   1079\u001b[0m     \u001b[38;5;28;01mfor\u001b[39;00m i, v \u001b[38;5;129;01min\u001b[39;00m \u001b[38;5;28menumerate\u001b[39m(series_gen):\n\u001b[0;32m   1080\u001b[0m         \u001b[38;5;66;03m# ignore SettingWithCopy here in case the user mutates\u001b[39;00m\n\u001b[1;32m-> 1081\u001b[0m         results[i] \u001b[38;5;241m=\u001b[39m \u001b[38;5;28mself\u001b[39m\u001b[38;5;241m.\u001b[39mfunc(v, \u001b[38;5;241m*\u001b[39m\u001b[38;5;28mself\u001b[39m\u001b[38;5;241m.\u001b[39margs, \u001b[38;5;241m*\u001b[39m\u001b[38;5;241m*\u001b[39m\u001b[38;5;28mself\u001b[39m\u001b[38;5;241m.\u001b[39mkwargs)\n\u001b[0;32m   1082\u001b[0m         \u001b[38;5;28;01mif\u001b[39;00m \u001b[38;5;28misinstance\u001b[39m(results[i], ABCSeries):\n\u001b[0;32m   1083\u001b[0m             \u001b[38;5;66;03m# If we have a view on v, we need to make a copy because\u001b[39;00m\n\u001b[0;32m   1084\u001b[0m             \u001b[38;5;66;03m#  series_generator will swap out the underlying data\u001b[39;00m\n\u001b[0;32m   1085\u001b[0m             results[i] \u001b[38;5;241m=\u001b[39m results[i]\u001b[38;5;241m.\u001b[39mcopy(deep\u001b[38;5;241m=\u001b[39m\u001b[38;5;28;01mFalse\u001b[39;00m)\n",
      "Cell \u001b[1;32mIn[89], line 1\u001b[0m, in \u001b[0;36m<lambda>\u001b[1;34m(X)\u001b[0m\n\u001b[1;32m----> 1\u001b[0m df3\u001b[38;5;241m.\u001b[39mapply(\u001b[38;5;28;01mlambda\u001b[39;00m X:\u001b[38;5;124m'\u001b[39m\u001b[38;5;124mgood day\u001b[39m\u001b[38;5;124m'\u001b[39m \u001b[38;5;28;01mif\u001b[39;00m \u001b[43mx\u001b[49m\u001b[38;5;241;43m>\u001b[39;49m\u001b[43m \u001b[49m\u001b[43mdf3\u001b[49m\u001b[38;5;241;43m.\u001b[39;49m\u001b[43mmean\u001b[49m\u001b[43m(\u001b[49m\u001b[43m)\u001b[49m \u001b[38;5;28;01melse\u001b[39;00m \u001b[38;5;124m'\u001b[39m\u001b[38;5;124mbad day\u001b[39m\u001b[38;5;124m'\u001b[39m)\n",
      "File \u001b[1;32mc:\\Users\\DELL\\OneDrive\\Attachments\\Desktop\\code\\venv\\lib\\site-packages\\pandas\\core\\ops\\common.py:76\u001b[0m, in \u001b[0;36m_unpack_zerodim_and_defer.<locals>.new_method\u001b[1;34m(self, other)\u001b[0m\n\u001b[0;32m     72\u001b[0m             \u001b[38;5;28;01mreturn\u001b[39;00m \u001b[38;5;28mNotImplemented\u001b[39m\n\u001b[0;32m     74\u001b[0m other \u001b[38;5;241m=\u001b[39m item_from_zerodim(other)\n\u001b[1;32m---> 76\u001b[0m \u001b[38;5;28;01mreturn\u001b[39;00m \u001b[43mmethod\u001b[49m\u001b[43m(\u001b[49m\u001b[38;5;28;43mself\u001b[39;49m\u001b[43m,\u001b[49m\u001b[43m \u001b[49m\u001b[43mother\u001b[49m\u001b[43m)\u001b[49m\n",
      "File \u001b[1;32mc:\\Users\\DELL\\OneDrive\\Attachments\\Desktop\\code\\venv\\lib\\site-packages\\pandas\\core\\arraylike.py:56\u001b[0m, in \u001b[0;36mOpsMixin.__gt__\u001b[1;34m(self, other)\u001b[0m\n\u001b[0;32m     54\u001b[0m \u001b[38;5;129m@unpack_zerodim_and_defer\u001b[39m(\u001b[38;5;124m\"\u001b[39m\u001b[38;5;124m__gt__\u001b[39m\u001b[38;5;124m\"\u001b[39m)\n\u001b[0;32m     55\u001b[0m \u001b[38;5;28;01mdef\u001b[39;00m\u001b[38;5;250m \u001b[39m\u001b[38;5;21m__gt__\u001b[39m(\u001b[38;5;28mself\u001b[39m, other):\n\u001b[1;32m---> 56\u001b[0m     \u001b[38;5;28;01mreturn\u001b[39;00m \u001b[38;5;28;43mself\u001b[39;49m\u001b[38;5;241;43m.\u001b[39;49m\u001b[43m_cmp_method\u001b[49m\u001b[43m(\u001b[49m\u001b[43mother\u001b[49m\u001b[43m,\u001b[49m\u001b[43m \u001b[49m\u001b[43moperator\u001b[49m\u001b[38;5;241;43m.\u001b[39;49m\u001b[43mgt\u001b[49m\u001b[43m)\u001b[49m\n",
      "File \u001b[1;32mc:\\Users\\DELL\\OneDrive\\Attachments\\Desktop\\code\\venv\\lib\\site-packages\\pandas\\core\\series.py:6125\u001b[0m, in \u001b[0;36mSeries._cmp_method\u001b[1;34m(self, other, op)\u001b[0m\n\u001b[0;32m   6122\u001b[0m res_name \u001b[38;5;241m=\u001b[39m ops\u001b[38;5;241m.\u001b[39mget_op_result_name(\u001b[38;5;28mself\u001b[39m, other)\n\u001b[0;32m   6124\u001b[0m \u001b[38;5;28;01mif\u001b[39;00m \u001b[38;5;28misinstance\u001b[39m(other, Series) \u001b[38;5;129;01mand\u001b[39;00m \u001b[38;5;129;01mnot\u001b[39;00m \u001b[38;5;28mself\u001b[39m\u001b[38;5;241m.\u001b[39m_indexed_same(other):\n\u001b[1;32m-> 6125\u001b[0m     \u001b[38;5;28;01mraise\u001b[39;00m \u001b[38;5;167;01mValueError\u001b[39;00m(\u001b[38;5;124m\"\u001b[39m\u001b[38;5;124mCan only compare identically-labeled Series objects\u001b[39m\u001b[38;5;124m\"\u001b[39m)\n\u001b[0;32m   6127\u001b[0m lvalues \u001b[38;5;241m=\u001b[39m \u001b[38;5;28mself\u001b[39m\u001b[38;5;241m.\u001b[39m_values\n\u001b[0;32m   6128\u001b[0m rvalues \u001b[38;5;241m=\u001b[39m extract_array(other, extract_numpy\u001b[38;5;241m=\u001b[39m\u001b[38;5;28;01mTrue\u001b[39;00m, extract_range\u001b[38;5;241m=\u001b[39m\u001b[38;5;28;01mTrue\u001b[39;00m)\n",
      "\u001b[1;31mValueError\u001b[0m: Can only compare identically-labeled Series objects"
     ]
    }
   ],
   "source": [
    "df3.apply(lambda X:'good day' if x> df3.mean() else 'bad day')"
   ]
  }
 ],
 "metadata": {
  "kernelspec": {
   "display_name": "venv (3.10.11)",
   "language": "python",
   "name": "python3"
  },
  "language_info": {
   "codemirror_mode": {
    "name": "ipython",
    "version": 3
   },
   "file_extension": ".py",
   "mimetype": "text/x-python",
   "name": "python",
   "nbconvert_exporter": "python",
   "pygments_lexer": "ipython3",
   "version": "3.10.11"
  }
 },
 "nbformat": 4,
 "nbformat_minor": 5
}
